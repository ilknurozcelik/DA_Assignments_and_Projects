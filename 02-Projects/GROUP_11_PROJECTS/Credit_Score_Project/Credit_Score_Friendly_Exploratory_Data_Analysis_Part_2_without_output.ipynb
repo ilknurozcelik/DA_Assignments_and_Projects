{
 "cells": [
  {
   "cell_type": "markdown",
   "id": "8c3c21d6",
   "metadata": {},
   "source": [
    "<p style=\"background-color:#FDFEFE; font-family:arial; color:#09042b; font-size:350%; text-align:center; border-radius:10px 10px;\"></p>\n",
    "\n",
    "<p style=\"background-color:#FDFEFE; font-family:arial; color:#09042b; font-size:400%; text-align:center; border-radius:10px 10px;\"> Credit Score Classification</p>\n",
    "\n",
    "<p style=\"background-color:#FDFEFE; font-family:arial; color:#09042b; font-size:350%; text-align:center; border-radius:10px 10px;\"> EDA Project Part 2 </p>\n",
    "\n",
    "\n",
    "<img src=\"https://t3.ftcdn.net/jpg/04/62/56/22/360_F_462562264_vzm8SoTxft5Ug3AEHjoPyHndtSGx6ymb.jpg\" align=\"center\"/>"
   ]
  },
  {
   "cell_type": "markdown",
   "id": "f8f87611",
   "metadata": {},
   "source": [
    "<a id=\"toc\"></a>\n",
    "\n",
    "## <p style=\"background-color:#7da6ff; font-family:arial; color:#09042b; font-size:175%; text-align:center; border-radius:10px 10px;\">Content</p>\n",
    "\n",
    "\n",
    "* [Handling With Outliers](#6)\n",
    "* [Final Evaluation of Data via Graphs After Handling With Outliers](#7)\n",
    "* [Other Specific Analysis Questions](#8)\n",
    "* [Final Step to make ready dataset for ML Models](#9)\n",
    "* [The End of the Project](#10)"
   ]
  },
  {
   "cell_type": "code",
   "execution_count": null,
   "id": "57a46e56",
   "metadata": {
    "ExecuteTime": {
     "end_time": "2022-09-21T15:30:20.245416Z",
     "start_time": "2022-09-21T15:30:20.237331Z"
    }
   },
   "outputs": [],
   "source": [
    "# import data analysis and visualisation libraries\n",
    "import numpy as np\n",
    "import pandas as pd\n",
    "import matplotlib.pyplot as plt\n",
    "from matplotlib import patches\n",
    "import seaborn as sns\n",
    "\n",
    "# import warnings to suppress warnings\n",
    "import warnings\n",
    "warnings.filterwarnings(\"ignore\")\n",
    "\n",
    "# Statistics functions\n",
    "from scipy.stats import norm\n",
    "from scipy import stats\n",
    "from scipy.stats import chi2_contingency\n",
    "from scipy.stats import chi2\n",
    "\n",
    "# Changing the figure size of a seaborn axes \n",
    "sns.set(rc={\"figure.figsize\": (10, 6)})\n",
    "\n",
    "# The style parameters control properties\n",
    "sns.set_style(\"whitegrid\")\n",
    "\n",
    "# To display maximum columns\n",
    "pd.set_option('display.max_columns', None)\n",
    "\n",
    "# To display maximum rows\n",
    "pd.set_option('display.max_rows', 100)\n",
    "\n",
    "# To set float format\n",
    "pd.set_option('display.float_format','{:.2f}'.format)"
   ]
  },
  {
   "cell_type": "markdown",
   "id": "9e9654fa",
   "metadata": {},
   "source": []
  },
  {
   "cell_type": "markdown",
   "id": "7a9d2717",
   "metadata": {},
   "source": [
    "**As we have compeleted exploring, cleaning the data, handling with missing values and handling with outliers for numerical features in the previous notebook (Credit Score Friendly Exploratory Data Analysis Part_1), we will work on handling with outliers for categorical features and perform final evaluation and some spesific analysis of the data in this notebook.**"
   ]
  },
  {
   "cell_type": "code",
   "execution_count": null,
   "id": "e18c78e9",
   "metadata": {
    "ExecuteTime": {
     "end_time": "2022-09-21T15:30:20.548106Z",
     "start_time": "2022-09-21T15:30:20.247327Z"
    }
   },
   "outputs": [],
   "source": [
    "df= pd.read_csv(\"df_cleaned.csv\") # reading the df_cleaned.csv"
   ]
  },
  {
   "cell_type": "code",
   "execution_count": null,
   "id": "a290a9ef",
   "metadata": {
    "ExecuteTime": {
     "end_time": "2022-09-21T15:30:20.596028Z",
     "start_time": "2022-09-21T15:30:20.582026Z"
    }
   },
   "outputs": [],
   "source": [
    "# Creating a copy from df named df_copy\n",
    "\n",
    "df_copy = df.copy()"
   ]
  },
  {
   "cell_type": "markdown",
   "id": "15f095d0",
   "metadata": {},
   "source": [
    "## <p style=\"background-color:#7da6ff; font-family:arial; color:#09042b; font-size:175%; text-align:center; border-radius:10px 10px;\">Handling With Outliers</p>\n",
    "\n",
    "<a id=\"6\"></a>\n",
    "<a href=\"#toc\" class=\"btn btn-primary btn-sm\" role=\"button\" aria-pressed=\"true\" \n",
    "style=\"color:#09042b; background-color:#7da6ff\" data-toggle=\"popover\">Content</a>"
   ]
  },
  {
   "cell_type": "markdown",
   "id": "d623f482",
   "metadata": {},
   "source": [
    "## Handling with outliers for categorical features"
   ]
  },
  {
   "cell_type": "code",
   "execution_count": null,
   "id": "970481ee",
   "metadata": {},
   "outputs": [],
   "source": [
    "df_categorical = df[['Occupation', 'Credit_Mix', 'Payment_of_Min_Amount', 'Credit_Score']]"
   ]
  },
  {
   "cell_type": "code",
   "execution_count": null,
   "id": "6be603af",
   "metadata": {},
   "outputs": [],
   "source": [
    "# checking the descriptive values of categorical features\n",
    "\n",
    "df_categorical.describe()"
   ]
  },
  {
   "cell_type": "markdown",
   "id": "fe6c17fb",
   "metadata": {},
   "source": [
    "### Countplot for categorical features"
   ]
  },
  {
   "cell_type": "code",
   "execution_count": null,
   "id": "324a67aa",
   "metadata": {},
   "outputs": [],
   "source": [
    "fig, axes = plt.subplots(len(df_categorical.columns ), 1, figsize=(10, 24))\n",
    "\n",
    "for i, ax in enumerate(fig.axes):\n",
    "    # plot barplot of each feature\n",
    "    if i < len(df_categorical.columns):\n",
    "        ax.set_xticklabels(ax.xaxis.get_majorticklabels(), rotation=90)\n",
    "        g = sns.countplot(x=df_categorical.columns[i], hue=df_categorical.Credit_Score, data=df_categorical, ax=ax, palette = \"Set1\")\n",
    "        for i in ax.containers:\n",
    "            g.bar_label(i)\n",
    "fig.tight_layout();"
   ]
  },
  {
   "cell_type": "markdown",
   "id": "73a6da70",
   "metadata": {},
   "source": [
    "### Payment of Min_Amount feature"
   ]
  },
  {
   "cell_type": "code",
   "execution_count": null,
   "id": "115e44ca",
   "metadata": {},
   "outputs": [],
   "source": [
    "# Checking the value counts of Payment_of_Min_Amount\n",
    "\n",
    "df.Payment_of_Min_Amount.value_counts()"
   ]
  },
  {
   "cell_type": "code",
   "execution_count": null,
   "id": "e120da88",
   "metadata": {},
   "outputs": [],
   "source": [
    "# Replacing the \"NM\" with np.nan\n",
    "df.Payment_of_Min_Amount.replace(\"NM\", np.nan, inplace=True)"
   ]
  },
  {
   "cell_type": "code",
   "execution_count": null,
   "id": "ed30f4ab",
   "metadata": {},
   "outputs": [],
   "source": [
    "df.Payment_of_Min_Amount.value_counts(dropna=False)"
   ]
  },
  {
   "cell_type": "code",
   "execution_count": null,
   "id": "5267b2ca",
   "metadata": {},
   "outputs": [],
   "source": [
    "# Checking the value counts of Payment_of_Min_Amount column by grouping Customer_ID\n",
    "\n",
    "df.groupby(\"Customer_ID\")[\"Payment_of_Min_Amount\"].value_counts(dropna=False).head()"
   ]
  },
  {
   "cell_type": "code",
   "execution_count": null,
   "id": "a0d7731b",
   "metadata": {},
   "outputs": [],
   "source": [
    "# Filling the null values in Payment_of_Min_Amount column with ffill and bfill method\n",
    "\n",
    "df[\"Payment_of_Min_Amount\"] = df.groupby(\"Customer_ID\")[\"Payment_of_Min_Amount\"].fillna(method=\"ffill\").fillna(method=\"bfill\")"
   ]
  },
  {
   "cell_type": "code",
   "execution_count": null,
   "id": "5a2084a3",
   "metadata": {},
   "outputs": [],
   "source": [
    "df.Payment_of_Min_Amount.value_counts(dropna=False)"
   ]
  },
  {
   "cell_type": "code",
   "execution_count": null,
   "id": "884ae860",
   "metadata": {},
   "outputs": [],
   "source": [
    "# countplot of Payment_of_Min_Amount column for different Credit_Scores\n",
    "\n",
    "ax = sns.countplot(x=df.Payment_of_Min_Amount, hue=df.Credit_Score)\n",
    "for i in ax.containers:\n",
    "    ax.bar_label(i);"
   ]
  },
  {
   "cell_type": "markdown",
   "id": "9d816631",
   "metadata": {},
   "source": [
    "## Can we check the correlation between Credit_Mix and Credit_Score columns using Chi square test?\n",
    "\n",
    "In machine learning, correlation tests can be used for feature selection. In classification problems where the output variable is categorical and input variables are also categorical, a chi-squared test can be used to know if the input variables are even relevant to the output variable. Therefore we will use chi-squared test to find the relation between Credit_Mix and Credit_Score features.\n",
    "\n",
    "* Null hypothesis H₀: whether Credit_Mix and Credit_Score are independent\n",
    "* Alternative hypothesis H₁: whether Credit_Mix and Credit_Score are dependent\n",
    "* α = 0.05"
   ]
  },
  {
   "cell_type": "code",
   "execution_count": null,
   "id": "0d8080cb",
   "metadata": {},
   "outputs": [],
   "source": [
    "# create contingency table\n",
    "data_crosstab = pd.crosstab(df['Credit_Mix'],\n",
    "                            df['Credit_Score'],\n",
    "                           margins=True, margins_name=\"Total\")\n",
    "\n",
    "# significance level\n",
    "alpha = 0.05\n",
    "\n",
    "# Calcualtion of Chisquare\n",
    "chi_square = 0\n",
    "rows = df['Credit_Mix'].unique()\n",
    "columns = df['Credit_Score'].unique()\n",
    "for i in columns:\n",
    "    for j in rows:\n",
    "        O = data_crosstab[i][j]\n",
    "        E = data_crosstab[i]['Total'] * data_crosstab['Total'][j] / data_crosstab['Total']['Total']\n",
    "        chi_square += (O-E)**2/E\n",
    "\n",
    "# The p-value approach\n",
    "print(\"Approach 1: The p-value approach to hypothesis testing in the decision rule\")\n",
    "p_value = 1 - stats.chi2.cdf(chi_square, (len(rows)-1)*(len(columns)-1))\n",
    "conclusion = \"Failed to reject the null hypothesis.\"\n",
    "if p_value <= alpha:\n",
    "    conclusion = \"Null Hypothesis is rejected.\"\n",
    "        \n",
    "print(\"chisquare-score is:\", chi_square, \" and p value is:\", p_value)\n",
    "print(conclusion)\n",
    "    \n",
    "# The critical value approach\n",
    "print(\"\\n--------------------------------------------------------------------------------------\")\n",
    "print(\"Approach 2: The critical value approach to hypothesis testing in the decision rule\")\n",
    "critical_value = stats.chi2.ppf(1-alpha, (len(rows)-1)*(len(columns)-1))\n",
    "conclusion = \"Failed to reject the null hypothesis.\"\n",
    "if chi_square > critical_value:\n",
    "    conclusion = \"Null Hypothesis is rejected.\"\n",
    "        \n",
    "print(\"chisquare-score is:\", chi_square, \" and critical value is:\", critical_value)\n",
    "print(conclusion)"
   ]
  },
  {
   "cell_type": "markdown",
   "id": "450941b5",
   "metadata": {},
   "source": [
    "After performing the Chi-squared test for Credit_Mix and Credit_Score, we see that there is strong co-dependency for each of these variables. Since highly dependent/correlated variables do not add much relevant new information with regards to the value of the target feature, we will drop Credit_Mix feature from the dataset."
   ]
  },
  {
   "cell_type": "code",
   "execution_count": null,
   "id": "ed8adc41",
   "metadata": {},
   "outputs": [],
   "source": [
    "df.drop(columns=\"Credit_Mix\", inplace=True)"
   ]
  },
  {
   "cell_type": "markdown",
   "id": "c5753c5f",
   "metadata": {},
   "source": [
    "## Correlation between numerical features"
   ]
  },
  {
   "cell_type": "code",
   "execution_count": null,
   "id": "25e881f3",
   "metadata": {},
   "outputs": [],
   "source": [
    "#Checking the correlation between numerical features\n",
    "df.corr()"
   ]
  },
  {
   "cell_type": "code",
   "execution_count": null,
   "id": "572f50a8",
   "metadata": {},
   "outputs": [],
   "source": [
    "# Checking the correlation between numerical features by grouping Credit_Score\n",
    "\n",
    "df.drop(columns=[\"ID\",\"Customer_ID\",\"Age\"]).groupby(\"Credit_Score\").corr()"
   ]
  },
  {
   "cell_type": "code",
   "execution_count": null,
   "id": "599711e8",
   "metadata": {},
   "outputs": [],
   "source": [
    "# Heatmap for the correlation between numerical features for all Credit_Score\n",
    "\n",
    "plt.figure(figsize=(14,14),dpi=200)\n",
    "sns.heatmap(df.drop(columns=[\"ID\",\"Customer_ID\",\"Age\"]).corr(), square=True, annot=True, fmt=\".2f\");"
   ]
  },
  {
   "cell_type": "code",
   "execution_count": null,
   "id": "147d1afe",
   "metadata": {},
   "outputs": [],
   "source": [
    "# Heatmap for the correlation between numerical features for Poor Credit_Score\n",
    "\n",
    "plt.figure(figsize=(14,14),dpi=200)\n",
    "sns.heatmap(df.drop(columns=[\"ID\",\"Customer_ID\",\"Age\"])[df.Credit_Score==\"Poor\"].corr(), square=True, annot=True, fmt=\".2f\");\n",
    "plt.title(\"Credit_Score : Poor\", fontsize=20);"
   ]
  },
  {
   "cell_type": "code",
   "execution_count": null,
   "id": "814fdaa1",
   "metadata": {},
   "outputs": [],
   "source": [
    "# Heatmap for the correlation between numerical features for Standard Credit_Score\n",
    "\n",
    "plt.figure(figsize=(14,14),dpi=200)\n",
    "sns.heatmap(df.drop(columns=[\"ID\",\"Customer_ID\",\"Age\"])[df.Credit_Score==\"Standard\"].corr(), square=True, annot=True, fmt=\".2f\");\n",
    "plt.title(\"Credit_Score : Standart\", fontsize=20);"
   ]
  },
  {
   "cell_type": "code",
   "execution_count": null,
   "id": "d5ff0f66",
   "metadata": {},
   "outputs": [],
   "source": [
    "# Heatmap for the correlation between numerical features for Good Credit_Score\n",
    "\n",
    "plt.figure(figsize=(14,14),dpi=200)\n",
    "sns.heatmap(df.drop(columns=[\"ID\",\"Customer_ID\",\"Age\"])[df.Credit_Score==\"Good\"].corr(), square=True, annot=True, fmt=\".2f\");\n",
    "plt.title(\"Credit_Score : Good\", fontsize=20);"
   ]
  },
  {
   "cell_type": "markdown",
   "id": "a06168a6",
   "metadata": {},
   "source": [
    "### Conclusion about correlation between numerical features"
   ]
  },
  {
   "cell_type": "markdown",
   "id": "01b707bf",
   "metadata": {},
   "source": [
    "When we compared the correlation between numerical features for different Credit_Scores, it can be concluded that;\n",
    "\n",
    "* There are strongly positive correlation between Annual_Income and Monthly_Inhand_Salary for all Credit_Score values. Therefore one of them can be dropped for further analysis.\n",
    "* The correlation between Num_Bank_Accounts, Num_Credit_Card, Interest_Rate, Num_of_Loan, Delay_from_due_date, Num_of_Delayed_Payment, Num_Credit_Inquiries, Outstanding_Debt and Annual_Income/Monthly_Inhand_Salary is weakly negative. Also it decreases with changing Credit_Score from Poor to Good.\n",
    "* The correlation between Credit_Utilization_Ratio and Annual_Income/Monthly_Inhand_Salary is weakly positive and it increases with changing Credit_Score from Poor to Good.\n",
    "* The correlation between Credit_History_Age and Annual_Income/Monthly_Inhand_Salary is weakly positive and it decreases with changing Credit_Score from Poor to Good.\n",
    "* The correlation between Total_EMI_per_month and Annual_Income/Monthly_Inhand_Salary is moderately positive and it decreases with changing Credit_Score from Poor to Good.\n",
    "* The correlation between Amount_invested_monthly and Annual_Income is moderately positive and it is same for the Credit_Score Poor and Standar, but it is decreasing in Good Credit_Score.\n",
    "* The correlation between Amount_invested_monthly and Monthly_Inhand_Salary is moderately positive and it is almost the same for the Poor, Standar and Good Credit_Scores.\n",
    "* The correlation between Monthly_Balance and Annual_Income/Monthly_Inhand_Salary is moderately positive and it is decreasing from the Poor to Good Credit_Scores.\n",
    "* The correlation between Num_Credit_Card, Interest_Rate, Num_of_Loan, Delay_from_due_date, Num_of_Delayed_Payment, Num_Credit_Inquiries, Outstanding_Debt and Num_Bank_Accounts is moderately positive and it is decreasing from the Poor to Good Credit_Scores.\n",
    "* The correlation between Interest_Rate, Num_of_Loan, Delay_from_due_date, Num_of_Delayed_Payment, Num_Credit_Inquiries, Outstanding_Debt and Num_Credit_Card is moderately positive and it is increasing from the Poor to Standart Credit_Score but decreasing from Standart to Good Credit_Score.\n",
    "* The correlation between Num_Bank_Accounts, Num_of_Delayed_Payment, Num_Credit_Inquiries and Interest_Rate  is moderately positive and decreasing from Poor to Good Credit_Score.\n",
    "* The correlation between Outstanding_Debt and Interest_Rate is moderately positive and decreasing from Poor to Good Credit_Score. Although it increases slightly when Credit_Score changes from Poor to Standard, it decreases significantly when Credit_Score changes from Standard to Good.\n",
    "* The correlation between Num_Bank_Accounts, Num_Credit_Card, Interest_Rate, Delay_from_due_date, Num_of_Delayed_Payment, Changed_Credit_Limit, Num_Credit_Inquiries, Outstanding_Debt and Num_of_Loan are moderately positive and it decreases when Credit_Score changes from Standart to Good.\n",
    "* The correlation between Delay_from_due_date, Num_of_Delayed_Payment and Num_Bank_Accounts is moderately positive and it is decreases when Credit_Score changes from Poor to Good.\n",
    "* The correlation between Delay_from_due_date and Num_of_Delayed_Payment is moderately positive and it is almost the same for all Credit_Scores.\n",
    "* The correlation between Num_of_Loan, Delay_from_due_date, Num_of_Delayed_Payment and Outstanding_Debt is moderately positive and it decreases when Credit_Score changes from Poor to Good.\n",
    "* The correlation between Num_of_Loan and Total_EMI_per_month is moderately positive and it increases when Credit_Score changes from Poor to Good.\n",
    "* There are moderately positive correlation between Annual_Income, Monthly_Inhand_Salary and Total_EMI_per_month and it decreases when Credit_Score changes from Poor to Good.\n",
    "* There are moderately positive correlation between Annual_Income, Monthly_Inhand_Salary and Amount_invested_monthly and it is almost the same for all Credit_Scores.\n",
    "* There are moderately positive correlation between Annual_Income, Monthly_Inhand_Salary and Monthly_Balance and it decreases when Credit_Score changes from Poor to Good."
   ]
  },
  {
   "cell_type": "code",
   "execution_count": null,
   "id": "43226fb8",
   "metadata": {},
   "outputs": [],
   "source": [
    "df.drop(columns=\"Monthly_Inhand_Salary\", inplace=True)"
   ]
  },
  {
   "cell_type": "markdown",
   "id": "663d6b75",
   "metadata": {},
   "source": [
    "## Dropping unnecessary features"
   ]
  },
  {
   "cell_type": "markdown",
   "id": "dae4cee8",
   "metadata": {},
   "source": [
    "**Since ID, Customer_ID, Month, Name, SSN columns will not add much relevant new information with regards to the value of target feature, we will drop these features from the dataset.**"
   ]
  },
  {
   "cell_type": "code",
   "execution_count": null,
   "id": "b7ba3bee",
   "metadata": {},
   "outputs": [],
   "source": [
    "df.drop(columns=[\"ID\", \"Customer_ID\", \"Month\", \"Name\", \"SSN\"], inplace=True)"
   ]
  },
  {
   "cell_type": "code",
   "execution_count": null,
   "id": "8946f865",
   "metadata": {},
   "outputs": [],
   "source": [
    "df.shape"
   ]
  },
  {
   "cell_type": "markdown",
   "id": "9c544f4d",
   "metadata": {},
   "source": [
    "## <p style=\"background-color:#7da6ff; font-family:arial; color:#09042b; font-size:175%; text-align:center; border-radius:10px 10px;\">Final Evaluation of Data via Graphs After Handling With Outliers</p>\n",
    "\n",
    "<a id=\"7\"></a>\n",
    "<a href=\"#toc\" class=\"btn btn-primary btn-sm\" role=\"button\" aria-pressed=\"true\" \n",
    "style=\"color:#09042b; background-color:#7da6ff\" data-toggle=\"popover\">Content</a>"
   ]
  },
  {
   "cell_type": "markdown",
   "id": "0120d2f2",
   "metadata": {},
   "source": [
    "## Let's check the distribution of numerical features"
   ]
  },
  {
   "cell_type": "code",
   "execution_count": null,
   "id": "d1a27435",
   "metadata": {
    "ExecuteTime": {
     "end_time": "2022-09-21T15:31:33.533008Z",
     "start_time": "2022-09-21T15:31:33.518987Z"
    }
   },
   "outputs": [],
   "source": [
    "df_numeric = df.select_dtypes(exclude=\"O\")"
   ]
  },
  {
   "cell_type": "code",
   "execution_count": null,
   "id": "a1903b46",
   "metadata": {
    "ExecuteTime": {
     "end_time": "2022-09-21T15:31:35.412359Z",
     "start_time": "2022-09-21T15:31:33.533905Z"
    },
    "scrolled": false
   },
   "outputs": [],
   "source": [
    "fig_ = df_numeric.hist(figsize=(12, 36), layout=(10,2), bins=30, edgecolor=\"black\");"
   ]
  },
  {
   "cell_type": "markdown",
   "id": "265777d3",
   "metadata": {},
   "source": [
    "## Let's check the boxplots for numerical features for different Credit Scores"
   ]
  },
  {
   "cell_type": "code",
   "execution_count": null,
   "id": "3fe2cb5c",
   "metadata": {
    "ExecuteTime": {
     "end_time": "2022-09-21T15:31:37.939440Z",
     "start_time": "2022-09-21T15:31:35.412359Z"
    },
    "scrolled": false
   },
   "outputs": [],
   "source": [
    "fig = plt.figure(figsize=(10,36), dpi=200)\n",
    "for i, col in enumerate(df.select_dtypes(exclude=\"O\").columns):\n",
    "        plt.subplot(10,2,i+1)\n",
    "        sns.boxplot(x= \"Credit_Score\", y=col, data=df,\n",
    "                    showmeans=True,\n",
    "                    meanprops={\"marker\":\"o\",\n",
    "                       \"markerfacecolor\":\"white\", \n",
    "                       \"markeredgecolor\":\"black\",\n",
    "                      \"markersize\":\"10\"})\n",
    "plt.tight_layout();"
   ]
  },
  {
   "cell_type": "markdown",
   "id": "858e0c7f",
   "metadata": {},
   "source": [
    "**Conclusion about boxplots:** Although we have worked on outliers, when we examined on boxplots it seems that we still have extreme values in some features. So, how can we check that?\n",
    "\n",
    "**``Boxplots``** are a great way to summarize the distribution of a dataset. But they become increasingly inaccurate when the size of a dataset grows. Therefore, **``Letter-Value Plots``** (or boxenplots) have been developed to overcome the problem of an inaccurate representation of outliers in boxplots."
   ]
  },
  {
   "cell_type": "markdown",
   "id": "451183da",
   "metadata": {},
   "source": [
    "## Let's check the boxenplots for munerical features for different Credit Scores"
   ]
  },
  {
   "cell_type": "code",
   "execution_count": null,
   "id": "5ebb736b",
   "metadata": {
    "ExecuteTime": {
     "end_time": "2022-09-21T15:31:40.708997Z",
     "start_time": "2022-09-21T15:31:37.941354Z"
    },
    "scrolled": false
   },
   "outputs": [],
   "source": [
    "fig = plt.figure(figsize=(10,36), dpi=200)\n",
    "for i, col in enumerate(df.select_dtypes(exclude=\"O\").columns):\n",
    "        plt.subplot(10,2,i+1)\n",
    "        sns.boxenplot(x= \"Credit_Score\", y=col, data=df)\n",
    "plt.tight_layout();"
   ]
  },
  {
   "cell_type": "markdown",
   "id": "4b6f66af",
   "metadata": {},
   "source": [
    "**Conclusion about boxenplots:**\n",
    "\n",
    "We can see that the Boxenplot gives us much more information about the tails of our dataset’s distribution. In the boxplot above, we can’t tell what the data looks like beyond some points of numerical features:\n",
    "\n",
    "For example, are outstanding debts greater than around 2500 extreme values/outliers❓ 🤔\n",
    "\n",
    "According to boxplot and within the whiskers, it’s quite hard to grasp what’s going on as well. There’s a pretty big gap between the 75th percentile and maximum value of the Outstanding_Debt.\n",
    "\n",
    "According to boxplot and within the whiskers, it seems that they are extreme values and some of them are candidates for being outliers. However, it’s quite hard to grasp and decide what they are exactly. There’s a pretty big gap between the 75th percentile and the maximum value.\n",
    "\n",
    "With respect to Outstanding_Debt, the boxenplot, on the other hand, provides more insights in how the data is distributed beyond the quantiles. Contrary to the output of box plot, it can be assumed that there have been no extreme values.\n",
    "\n",
    "To wrap up, interpreting boxenplots can be more straightforward. The concept of thicker boxes representing a bigger part of the total population is easier to comprehend and facilitates discussions."
   ]
  },
  {
   "cell_type": "markdown",
   "id": "1b56eaac",
   "metadata": {},
   "source": [
    "## Let's check the counts of categorical features for different Credit Scores"
   ]
  },
  {
   "cell_type": "code",
   "execution_count": null,
   "id": "ee9a23c8",
   "metadata": {
    "ExecuteTime": {
     "end_time": "2022-09-21T15:31:40.724317Z",
     "start_time": "2022-09-21T15:31:40.708997Z"
    }
   },
   "outputs": [],
   "source": [
    "df_categorical = df.select_dtypes(include=\"O\")"
   ]
  },
  {
   "cell_type": "code",
   "execution_count": null,
   "id": "7313daed",
   "metadata": {
    "ExecuteTime": {
     "end_time": "2022-09-21T15:31:41.609491Z",
     "start_time": "2022-09-21T15:31:40.726320Z"
    },
    "scrolled": false
   },
   "outputs": [],
   "source": [
    "fig, axes = plt.subplots(len(df_categorical.columns ), 1, figsize=(8, 16))\n",
    "\n",
    "for i, ax in enumerate(fig.axes):\n",
    "    # plot barplot of each feature\n",
    "    if i < len(df_categorical.columns):\n",
    "        ax.set_xticklabels(ax.xaxis.get_majorticklabels(), rotation=90)\n",
    "        g = sns.countplot(x=df_categorical.columns[i], hue=df_categorical.Credit_Score, data=df_categorical, ax=ax, palette = \"Set1\")\n",
    "        for i in ax.containers:\n",
    "            g.bar_label(i)\n",
    "fig.tight_layout();"
   ]
  },
  {
   "cell_type": "markdown",
   "id": "287cf153",
   "metadata": {},
   "source": [
    "## Conclusion about features for different Credit_Scores"
   ]
  },
  {
   "cell_type": "markdown",
   "id": "40b30167",
   "metadata": {},
   "source": [
    "* When we compare age values for different Credit_Scores, it can be seen that the credit score improves as the mean and median values of age increase.\n",
    "* The most of the Customers in the dataset have greater Annual_Income value for Standart and Good credit scores and the credit score improves as the mean/median values of Annual_Income increase.\n",
    "* The mean/median values of Num_Bank_Accounts, Num_Credit_Card, Interest_Rate, Num_of_Loan, Delay_from_due_date, Num_of_Delayed_Payment, Changed_Credit_Limit, Num_Credit_Inquiries, Outstanding_Debt and Total_EMI_per_month features increase as the credit scores change from Good to Poor.\n",
    "* The mean/median values of Credit_Utilization_Ratio are almost the same for all credit scores.\n",
    "* The mean/median values of Credit_History_Age decrease as the credit scores change from Good to Poor.\n",
    "* The mean/median values of Total_EMI_per_month slightly increase as the credit scores change from Good to Poor.\n",
    "* The mean/median values of Amount_invested_monthly and Monthly_Balance slightly decrease as the credit scores change from Good to Poor.\n",
    "* The number of customer distributed is almost equally for each occupation in different credit scores. At the good credit score the number of customers is lowest although it is highest at the standart credit score.\n",
    "* The number of customers having Payment_of_Min_Amount is higher at Poor and Standart credit scores while the number of customers with No Payment_of_Min_Amount is higher at Good credit score."
   ]
  },
  {
   "cell_type": "markdown",
   "id": "fdf9ccc8",
   "metadata": {},
   "source": [
    "## <p style=\"background-color:#7da6ff; font-family:arial; color:#09042b; font-size:175%; text-align:center; border-radius:10px 10px;\">Other Specific Analysis Questions</p>\n",
    "\n",
    "<a id=\"8\"></a>\n",
    "<a href=\"#toc\" class=\"btn btn-primary btn-sm\" role=\"button\" aria-pressed=\"true\" \n",
    "style=\"color:#09042b; background-color:#7da6ff\" data-toggle=\"popover\">Content</a>"
   ]
  },
  {
   "cell_type": "markdown",
   "id": "f3636ca5",
   "metadata": {},
   "source": [
    "### 1. What is the average age and credit history age of customers by credit score?"
   ]
  },
  {
   "cell_type": "code",
   "execution_count": null,
   "id": "d91af2b9",
   "metadata": {
    "ExecuteTime": {
     "end_time": "2022-09-21T15:31:41.641492Z",
     "start_time": "2022-09-21T15:31:41.611412Z"
    }
   },
   "outputs": [],
   "source": [
    "df.groupby(\"Credit_Score\")[[\"Age\",\"Credit_History_Age\"]].mean().sort_values(by=\"Age\")"
   ]
  },
  {
   "cell_type": "code",
   "execution_count": null,
   "id": "d4dc86a3",
   "metadata": {
    "ExecuteTime": {
     "end_time": "2022-09-21T15:31:41.800885Z",
     "start_time": "2022-09-21T15:31:41.643411Z"
    }
   },
   "outputs": [],
   "source": [
    "ax = df.groupby(\"Credit_Score\")[[\"Age\",\"Credit_History_Age\"]].mean().sort_values(by=\"Age\").plot.bar()\n",
    "plt.xticks(rotation=0)\n",
    "\n",
    "for container in ax.containers:\n",
    "    ax.bar_label(container, fmt=\"%.1f\", fontsize=12);"
   ]
  },
  {
   "cell_type": "markdown",
   "id": "952c8072",
   "metadata": {},
   "source": [
    "**Conclusion about Age and Credit_History_Age features by Credit_Score:**\n",
    "\n",
    "When we compare the Age and Credit_History_Age features for different credit scores, it can be concluded that both of them are lower for Poor credit score. Also credit score improves with the increase in age and credit history age."
   ]
  },
  {
   "cell_type": "markdown",
   "id": "b6109456",
   "metadata": {},
   "source": [
    "### 2. Is there any affect of occupatipn on credit score?"
   ]
  },
  {
   "cell_type": "code",
   "execution_count": null,
   "id": "de0252ef",
   "metadata": {
    "ExecuteTime": {
     "end_time": "2022-09-21T15:31:42.244958Z",
     "start_time": "2022-09-21T15:31:41.802886Z"
    },
    "scrolled": false
   },
   "outputs": [],
   "source": [
    "ax = sns.countplot(x=df.Occupation, hue=df.Credit_Score, data=df, palette = \"tab10\")\n",
    "ax.set_xticklabels(ax.xaxis.get_majorticklabels(), rotation=90)\n",
    "ax.legend(bbox_to_anchor=(1.02, 0.6))\n",
    "\n",
    "for i in ax.containers:\n",
    "    ax.bar_label(i);\n"
   ]
  },
  {
   "cell_type": "markdown",
   "id": "de0e5171",
   "metadata": {},
   "source": [
    "**Conclusion about the effect of occupatipn on credit score:**\n",
    "\n",
    "As it is seen from the chart above there isn't any significant effect of occupation on credit score."
   ]
  },
  {
   "cell_type": "markdown",
   "id": "642acbf4",
   "metadata": {},
   "source": [
    "### 3. What is the average Annual_Income of customers by credit score?"
   ]
  },
  {
   "cell_type": "code",
   "execution_count": null,
   "id": "405a610f",
   "metadata": {
    "ExecuteTime": {
     "end_time": "2022-09-21T15:31:42.275890Z",
     "start_time": "2022-09-21T15:31:42.246973Z"
    }
   },
   "outputs": [],
   "source": [
    "df.groupby(\"Credit_Score\")[[\"Annual_Income\"]].mean().sort_values(by=\"Annual_Income\")"
   ]
  },
  {
   "cell_type": "code",
   "execution_count": null,
   "id": "ad3209d1",
   "metadata": {
    "ExecuteTime": {
     "end_time": "2022-09-21T15:31:42.403985Z",
     "start_time": "2022-09-21T15:31:42.278889Z"
    }
   },
   "outputs": [],
   "source": [
    "ax = df.groupby(\"Credit_Score\")[[\"Annual_Income\"]].mean().sort_values(by=\"Annual_Income\").plot.bar()\n",
    "plt.xticks(rotation=0)\n",
    "\n",
    "for container in ax.containers:\n",
    "    ax.bar_label(container, fmt=\"%.1f\", fontsize=12);"
   ]
  },
  {
   "cell_type": "markdown",
   "id": "eea145a7",
   "metadata": {},
   "source": [
    "**Conclusion about Annual_Income by credit score:**\n",
    "\n",
    "As it is seen from the chart above, credit score improves by increasing the Annual_Income level."
   ]
  },
  {
   "cell_type": "markdown",
   "id": "6e1b3c6d",
   "metadata": {},
   "source": [
    "### 4. What is the effect of Num_Credit_Inquiries, Num_Bank_Accounts, Num_Credit_Card and Num_of_Loan of customers on credit score?"
   ]
  },
  {
   "cell_type": "code",
   "execution_count": null,
   "id": "1567c6b5",
   "metadata": {
    "ExecuteTime": {
     "end_time": "2022-09-21T15:31:42.435977Z",
     "start_time": "2022-09-21T15:31:42.404888Z"
    }
   },
   "outputs": [],
   "source": [
    "df.groupby(\"Credit_Score\")[[\"Num_Credit_Inquiries\", \"Num_Bank_Accounts\", \"Num_Credit_Card\", \"Num_of_Loan\"]].mean().sort_values(by=\"Num_Bank_Accounts\")"
   ]
  },
  {
   "cell_type": "code",
   "execution_count": null,
   "id": "05e2c4aa",
   "metadata": {
    "ExecuteTime": {
     "end_time": "2022-09-21T15:31:42.593211Z",
     "start_time": "2022-09-21T15:31:42.437887Z"
    }
   },
   "outputs": [],
   "source": [
    "ax = df.groupby(\"Credit_Score\")[[\"Num_Credit_Inquiries\", \"Num_Bank_Accounts\", \"Num_Credit_Card\", \"Num_of_Loan\"]].mean().sort_values(by=\"Num_Bank_Accounts\", ascending=False).plot.bar()\n",
    "plt.xticks(rotation=0)\n",
    "\n",
    "for container in ax.containers:\n",
    "    ax.bar_label(container, fmt=\"%.1f\", fontsize=12);"
   ]
  },
  {
   "cell_type": "markdown",
   "id": "da37492d",
   "metadata": {},
   "source": [
    "\n",
    "**Conclusion about Num_Credit_Inquiries, Num_Bank_Accounts, Num_Credit_Card and Num_of_Loan by credit score:**\n",
    "\n",
    "As it is seen from the chart above, the credit score improves as the number credit inquiries, number of bank accounts, number of credit cards and number of loans decreases."
   ]
  },
  {
   "cell_type": "markdown",
   "id": "0d84c0f7",
   "metadata": {},
   "source": [
    "### 5. What is the effect of Delay_from_due_date and  Num_of_Delayed_Payment of customers on credit score?"
   ]
  },
  {
   "cell_type": "code",
   "execution_count": null,
   "id": "31ede33e",
   "metadata": {
    "ExecuteTime": {
     "end_time": "2022-09-21T15:31:42.624236Z",
     "start_time": "2022-09-21T15:31:42.595138Z"
    }
   },
   "outputs": [],
   "source": [
    "df.groupby(\"Credit_Score\")[[\"Delay_from_due_date\", \"Num_of_Delayed_Payment\"]].mean().sort_values(by=\"Num_of_Delayed_Payment\")"
   ]
  },
  {
   "cell_type": "code",
   "execution_count": null,
   "id": "95977829",
   "metadata": {
    "ExecuteTime": {
     "end_time": "2022-09-21T15:31:42.765838Z",
     "start_time": "2022-09-21T15:31:42.626223Z"
    }
   },
   "outputs": [],
   "source": [
    "ax = df.groupby(\"Credit_Score\")[[\"Delay_from_due_date\", \"Num_of_Delayed_Payment\"]].mean().sort_values(by=\"Num_of_Delayed_Payment\").plot.bar()\n",
    "plt.xticks(rotation=0)\n",
    "\n",
    "for container in ax.containers:\n",
    "    ax.bar_label(container, fmt=\"%.1f\", fontsize=12);"
   ]
  },
  {
   "cell_type": "markdown",
   "id": "a0a332a9",
   "metadata": {},
   "source": [
    "**Conclusion about Delay_from_due_date and Num_of_Delayed_Payment by credit score:**\n",
    "\n",
    "As it is seen from the chart above, the credit score gets worse as the delay from due date and number of delayed payment increases."
   ]
  },
  {
   "cell_type": "markdown",
   "id": "584afd2d",
   "metadata": {},
   "source": [
    "### 6. What is the effect of Interest_Rate, Changed_Credit_Limit  and  Credit_Utilization_Ratio of customers on credit score?"
   ]
  },
  {
   "cell_type": "code",
   "execution_count": null,
   "id": "1a4d5e6d",
   "metadata": {
    "ExecuteTime": {
     "end_time": "2022-09-21T15:31:42.797526Z",
     "start_time": "2022-09-21T15:31:42.767419Z"
    }
   },
   "outputs": [],
   "source": [
    "df.groupby(\"Credit_Score\")[[\"Interest_Rate\", \"Changed_Credit_Limit\", \"Credit_Utilization_Ratio\"]].mean().sort_values(by=\"Interest_Rate\")"
   ]
  },
  {
   "cell_type": "code",
   "execution_count": null,
   "id": "16cd3b01",
   "metadata": {
    "ExecuteTime": {
     "end_time": "2022-09-21T15:31:42.972418Z",
     "start_time": "2022-09-21T15:31:42.799462Z"
    }
   },
   "outputs": [],
   "source": [
    "ax = df.groupby(\"Credit_Score\")[[\"Interest_Rate\", \"Changed_Credit_Limit\", \"Credit_Utilization_Ratio\"]].mean().sort_values(by=\"Interest_Rate\").plot.bar()\n",
    "plt.xticks(rotation=0)\n",
    "\n",
    "for container in ax.containers:\n",
    "    ax.bar_label(container, fmt=\"%.1f\", fontsize=12);"
   ]
  },
  {
   "cell_type": "markdown",
   "id": "918c9a4b",
   "metadata": {},
   "source": [
    "**Conclusion about Interest_Rate, Changed_Credit_Limit and Credit_Utilization_Ratio by credit score:**\n",
    "\n",
    "As it is seen from the graph above, the credit score gets worse as the interest rate and changed credit limit increases. Credit utilization ratio is almost the same for all credit scores."
   ]
  },
  {
   "cell_type": "markdown",
   "id": "9d2c498b",
   "metadata": {},
   "source": [
    "### 7. What is the effect of Outstanding_Debt of customers on credit score?"
   ]
  },
  {
   "cell_type": "code",
   "execution_count": null,
   "id": "5bdae366",
   "metadata": {
    "ExecuteTime": {
     "end_time": "2022-09-21T15:31:43.003437Z",
     "start_time": "2022-09-21T15:31:42.974417Z"
    }
   },
   "outputs": [],
   "source": [
    "df.groupby(\"Credit_Score\")[[\"Outstanding_Debt\"]].mean().sort_values(by=\"Outstanding_Debt\")"
   ]
  },
  {
   "cell_type": "code",
   "execution_count": null,
   "id": "e25da2ec",
   "metadata": {
    "ExecuteTime": {
     "end_time": "2022-09-21T15:31:43.145776Z",
     "start_time": "2022-09-21T15:31:43.006418Z"
    }
   },
   "outputs": [],
   "source": [
    "ax = df.groupby(\"Credit_Score\")[[\"Outstanding_Debt\"]].mean().sort_values(by=\"Outstanding_Debt\").plot.bar()\n",
    "plt.xticks(rotation=0)\n",
    "\n",
    "for container in ax.containers:\n",
    "    ax.bar_label(container, fmt=\"%.1f\", fontsize=12);"
   ]
  },
  {
   "cell_type": "markdown",
   "id": "b2c309e5",
   "metadata": {},
   "source": [
    "**Conclusion about Outstanding_Debt by credit score:**\n",
    "\n",
    "As it is seen from the graph above, the credit score gets worse as the outstanding debt increases."
   ]
  },
  {
   "cell_type": "markdown",
   "id": "6ec05a85",
   "metadata": {},
   "source": [
    "### 8. What is the effect of average Total_EMI_per_month,  Amount_invested_monthly and Monthly_Balance of customers on credit score?"
   ]
  },
  {
   "cell_type": "code",
   "execution_count": null,
   "id": "4041d7d1",
   "metadata": {
    "ExecuteTime": {
     "end_time": "2022-09-21T15:31:43.177662Z",
     "start_time": "2022-09-21T15:31:43.147696Z"
    }
   },
   "outputs": [],
   "source": [
    "df.groupby(\"Credit_Score\")[[\"Total_EMI_per_month\", \"Amount_invested_monthly\", \"Monthly_Balance\"]].mean().sort_values(by=\"Total_EMI_per_month\")"
   ]
  },
  {
   "cell_type": "code",
   "execution_count": null,
   "id": "be6aff7a",
   "metadata": {
    "ExecuteTime": {
     "end_time": "2022-09-21T15:31:43.321765Z",
     "start_time": "2022-09-21T15:31:43.181660Z"
    }
   },
   "outputs": [],
   "source": [
    "ax = df.groupby(\"Credit_Score\")[[\"Total_EMI_per_month\", \"Amount_invested_monthly\", \"Monthly_Balance\"]].mean().sort_values(by=\"Total_EMI_per_month\").plot.bar()\n",
    "plt.xticks(rotation=0)\n",
    "\n",
    "for container in ax.containers:\n",
    "    ax.bar_label(container, fmt=\"%.1f\", fontsize=12);"
   ]
  },
  {
   "cell_type": "markdown",
   "id": "847e6157",
   "metadata": {},
   "source": [
    "**Conclusion about Total_EMI_per_month, Amount_invested_monthly and Monthly_Balance by credit score:**\n",
    "\n",
    "As it is seen from the graph above, the credit score gets worse as the total EMI per month and amount invested monthly increases while the credit score improves as the monthly balance increases."
   ]
  },
  {
   "cell_type": "markdown",
   "id": "ad60319e",
   "metadata": {},
   "source": [
    "## <p style=\"background-color:#7da6ff; font-family:arial; color:#09042b; font-size:175%; text-align:center; border-radius:10px 10px;\">Final Step to Make Ready Dataset for ML Models</p>\n",
    "\n",
    "<a id=\"9\"></a>\n",
    "<a href=\"#toc\" class=\"btn btn-primary btn-sm\" role=\"button\" aria-pressed=\"true\" \n",
    "style=\"color:#09042b; background-color:#7da6ff\" data-toggle=\"popover\">Content</a>"
   ]
  },
  {
   "cell_type": "markdown",
   "id": "b9b1a7bc",
   "metadata": {},
   "source": [
    "### Convert all features (except for Credit_Score) to numeric by using get_dummies function"
   ]
  },
  {
   "cell_type": "code",
   "execution_count": null,
   "id": "46c9ce65",
   "metadata": {
    "ExecuteTime": {
     "end_time": "2022-09-21T15:31:43.385859Z",
     "start_time": "2022-09-21T15:31:43.323827Z"
    }
   },
   "outputs": [],
   "source": [
    "df_dummy = pd.get_dummies(df.drop(columns=\"Credit_Score\"), drop_first=True)\n",
    "df_dummy"
   ]
  },
  {
   "cell_type": "code",
   "execution_count": null,
   "id": "63f6c3b9",
   "metadata": {
    "ExecuteTime": {
     "end_time": "2022-09-21T15:31:43.401854Z",
     "start_time": "2022-09-21T15:31:43.387783Z"
    }
   },
   "outputs": [],
   "source": [
    "# Adding Credit_Score column to the df_dummy\n",
    "\n",
    "df_dummy[\"Credit_Score\"] = df[\"Credit_Score\"]"
   ]
  },
  {
   "cell_type": "code",
   "execution_count": null,
   "id": "681746d3",
   "metadata": {
    "ExecuteTime": {
     "end_time": "2022-09-21T15:31:43.433782Z",
     "start_time": "2022-09-21T15:31:43.403862Z"
    }
   },
   "outputs": [],
   "source": [
    "df_dummy.head()"
   ]
  },
  {
   "cell_type": "code",
   "execution_count": null,
   "id": "69829be0",
   "metadata": {
    "ExecuteTime": {
     "end_time": "2022-09-21T15:31:43.449785Z",
     "start_time": "2022-09-21T15:31:43.436789Z"
    }
   },
   "outputs": [],
   "source": [
    "df_dummy.shape"
   ]
  },
  {
   "cell_type": "code",
   "execution_count": null,
   "id": "3830da74",
   "metadata": {
    "ExecuteTime": {
     "end_time": "2022-09-21T15:31:43.465717Z",
     "start_time": "2022-09-21T15:31:43.451808Z"
    }
   },
   "outputs": [],
   "source": [
    "df.shape"
   ]
  },
  {
   "cell_type": "code",
   "execution_count": null,
   "id": "54fc68d3",
   "metadata": {
    "ExecuteTime": {
     "end_time": "2022-09-21T15:31:43.481642Z",
     "start_time": "2022-09-21T15:31:43.467674Z"
    },
    "scrolled": true
   },
   "outputs": [],
   "source": [
    "df_dummy.Credit_Score.value_counts(dropna=False)"
   ]
  },
  {
   "cell_type": "markdown",
   "id": "cc818415",
   "metadata": {},
   "source": [
    "## <p style=\"background-color:#7da6ff; font-family:arial; color:#09042b; font-size:175%; text-align:center; border-radius:10px 10px;\">The End of the Project</p>\n",
    "\n",
    "<a id=\"10\"></a>\n",
    "<a href=\"#toc\" class=\"btn btn-primary btn-sm\" role=\"button\" aria-pressed=\"true\" \n",
    "style=\"color:#09042b; background-color:#7da6ff\" data-toggle=\"popover\">Content</a>"
   ]
  },
  {
   "cell_type": "code",
   "execution_count": null,
   "id": "452a5805",
   "metadata": {
    "ExecuteTime": {
     "end_time": "2022-09-19T12:41:59.096629Z",
     "start_time": "2022-09-19T12:41:58.067709Z"
    }
   },
   "outputs": [],
   "source": [
    "# Saving the df_dummy to use it in machine learning algorithms\n",
    "\n",
    "df_dummy.to_csv(\"credit_score_dummy.csv\", index=False)"
   ]
  }
 ],
 "metadata": {
  "kernelspec": {
   "display_name": "Python 3 (ipykernel)",
   "language": "python",
   "name": "python3"
  },
  "language_info": {
   "codemirror_mode": {
    "name": "ipython",
    "version": 3
   },
   "file_extension": ".py",
   "mimetype": "text/x-python",
   "name": "python",
   "nbconvert_exporter": "python",
   "pygments_lexer": "ipython3",
   "version": "3.9.13"
  },
  "toc": {
   "base_numbering": 1,
   "nav_menu": {},
   "number_sections": false,
   "sideBar": true,
   "skip_h1_title": false,
   "title_cell": "Table of Contents",
   "title_sidebar": "Contents",
   "toc_cell": false,
   "toc_position": {
    "height": "541.6px",
    "left": "93px",
    "top": "109.525px",
    "width": "245.75px"
   },
   "toc_section_display": true,
   "toc_window_display": true
  }
 },
 "nbformat": 4,
 "nbformat_minor": 5
}
