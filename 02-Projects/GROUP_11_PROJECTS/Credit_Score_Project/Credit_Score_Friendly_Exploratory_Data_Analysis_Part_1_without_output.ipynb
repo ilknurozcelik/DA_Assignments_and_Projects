{
 "cells": [
  {
   "cell_type": "markdown",
   "id": "f2d53d0b",
   "metadata": {
    "ExecuteTime": {
     "end_time": "2022-09-12T07:52:32.356310Z",
     "start_time": "2022-09-12T07:52:32.339150Z"
    }
   },
   "source": [
    "<p style=\"background-color:#FDFEFE; font-family:arial; color:#09042b; font-size:350%; text-align:center; border-radius:10px 10px;\"></p>\n",
    "\n",
    "<p style=\"background-color:#FDFEFE; font-family:arial; color:#09042b; font-size:400%; text-align:center; border-radius:10px 10px;\"> Credit Score Classification</p>\n",
    "\n",
    "<p style=\"background-color:#FDFEFE; font-family:arial; color:#09042b; font-size:350%; text-align:center; border-radius:10px 10px;\"> EDA Project Part 1 </p>\n",
    "\n",
    "\n",
    "<img src=\"https://t3.ftcdn.net/jpg/04/62/56/22/360_F_462562264_vzm8SoTxft5Ug3AEHjoPyHndtSGx6ymb.jpg\" align=\"center\"/>"
   ]
  },
  {
   "cell_type": "markdown",
   "id": "21267599",
   "metadata": {},
   "source": [
    "<a id=\"toc\"></a>\n",
    "\n",
    "## <p style=\"background-color:#7da6ff; font-family:arial; color:#09042b; font-size:175%; text-align:center; border-radius:10px 10px;\">Content</p>\n",
    "\n",
    "* [Aim of the Project](#0)\n",
    "* [Dataset Info](#1)\n",
    "* [Importing Related Libraries](#2)\n",
    "* [Recognizing & Understanding Data](#3)\n",
    "* [Cleaning Data](#4)    \n",
    "* [Handling with Missing Values](#5)\n",
    "* [Handling with Outliers](#6)"
   ]
  },
  {
   "cell_type": "markdown",
   "id": "61b511f0",
   "metadata": {},
   "source": [
    "## <p style=\"background-color:#7da6ff; font-family:arial; color:#09042b; font-size:175%; text-align:center; border-radius:10px 10px;\">Aim of the Project</p>\n",
    "\n",
    "<a id=\"0\"></a>\n",
    "<a href=\"#toc\" class=\"btn btn-primary btn-sm\" role=\"button\" aria-pressed=\"true\" \n",
    "style=\"color:#09042b; background-color:#7da6ff\" data-toggle=\"popover\">Content</a>\n",
    "\n",
    "\n",
    "A credit score is a number or a class that depicts a consumer’s creditworthiness. The higher the score, the better a borrower looks to potential lenders.\n",
    "\n",
    "A credit score is based on credit history: number of open accounts, total levels of debt, repayment history, and other factors. Lenders use credit scores to evaluate the probability that an individual will repay loans in a timely manner.\n",
    "\n",
    "In this project to recognize and understand the credit score classification data, a comprehensive Exploratory Data Analysis (EDA) was conducted and the data was prepared to implement the Machine Learning Algorithms.\n"
   ]
  },
  {
   "cell_type": "markdown",
   "id": "cced7d77",
   "metadata": {},
   "source": [
    "## <p style=\"background-color:#7da6ff; font-family:arial; color:#09042b; font-size:175%; text-align:center; border-radius:10px 10px;\">Dataset Info</p>\n",
    "\n",
    "<a id=\"1\"></a>\n",
    "<a href=\"#toc\" class=\"btn btn-primary btn-sm\" role=\"button\" aria-pressed=\"true\" \n",
    "style=\"color:#09042b; background-color:#7da6ff\" data-toggle=\"popover\">Content</a>\n",
    "\n",
    "\n",
    "The Credit score classification dataset has 100,000 entries, 12,500 different customers and 28 columns. Each entry contains the following information about customers:\n",
    "\n",
    "**ID :** a unique identification of an entry\n",
    "\n",
    "**Customer_ID :** a unique identification of a person\n",
    "\n",
    "**Month :** the month of the year\n",
    "\n",
    "**Name :** the name of a person\n",
    "\n",
    "**Age :** the age of the person\n",
    "\n",
    "**SSN :** the social security number of a person\n",
    "\n",
    "**Occupation :** the occupation of the person\n",
    "\n",
    "**Annual_Income :** the annual income of the person\n",
    "\n",
    "**Monthly_Inhand_Salary :** the monthly base salary of a person\n",
    "\n",
    "**Num_Bank_Accounts :** the number of bank accounts a person holds\n",
    "\n",
    "**Num_Credit_Card :** the number of other credit cards held by a person\n",
    "\n",
    "**Interest_Rate :** the interest rate on credit card\n",
    "\n",
    "**Num_of_Loan :** the number of loans taken from the bank\n",
    "\n",
    "**Type_of_Loan :** the types of loan taken by a person\n",
    "\n",
    "**Delay_from_due_date :** the average number of days delayed from the payment date\n",
    "\n",
    "**Num_of_Delayed_Payment :** the average number of payments delayed by a person\n",
    "\n",
    "**Changed_Credit_Limit :** the percentage change in credit card limit\n",
    "\n",
    "**Num_Credit_Inquiries :** the number of credit card inquiries\n",
    "\n",
    "**Credit_Mix :** the classification of the mix of credits\n",
    "\n",
    "**Outstanding_Debt :** the remaining debt to be paid (in USD)\n",
    "\n",
    "**Credit_Utilization_Ratio :** the utilization ratio of credit card\n",
    "\n",
    "**Credit_History_Age :** the age of credit history of the person\n",
    "\n",
    "**Payment_of_Min_Amount :** whether only the minimum amount was paid by the person\n",
    "\n",
    "**Total_EMI_per_month :** the monthly EMI payments (in USD)\n",
    "\n",
    "**Amount_invested_monthly :** the monthly amount invested by the customer (in USD)\n",
    "\n",
    "**Payment_Behaviour :** the payment behavior of the customer (in USD)\n",
    "\n",
    "**Monthly_Balance :** the monthly balance amount of the customer (in USD)\n",
    "\n",
    "**Credit_Score :** the bracket of credit score (Poor, Standard, Good)\n"
   ]
  },
  {
   "cell_type": "markdown",
   "id": "99846b33",
   "metadata": {},
   "source": [
    "## <p style=\"background-color:#7da6ff; font-family:arial; color:#09042b; font-size:175%; text-align:center; border-radius:10px 10px;\">Importing Related Libraries</p>\n",
    "\n",
    "<a id=\"2\"></a>\n",
    "<a href=\"#toc\" class=\"btn btn-primary btn-sm\" role=\"button\" aria-pressed=\"true\" \n",
    "style=\"color:#09042b; background-color:#7da6ff\" data-toggle=\"popover\">Content</a>"
   ]
  },
  {
   "cell_type": "code",
   "execution_count": null,
   "id": "610b9174",
   "metadata": {
    "ExecuteTime": {
     "end_time": "2022-09-12T10:24:40.920056Z",
     "start_time": "2022-09-12T10:24:40.898978Z"
    }
   },
   "outputs": [],
   "source": [
    "# import data analysis and visualisation libraries\n",
    "import numpy as np\n",
    "import pandas as pd\n",
    "import matplotlib.pyplot as plt\n",
    "from matplotlib import patches\n",
    "import seaborn as sns\n",
    "\n",
    "# import warnings to suppress warnings\n",
    "import warnings\n",
    "warnings.filterwarnings(\"ignore\")\n",
    "\n",
    "# Statistics functions\n",
    "from scipy.stats import norm\n",
    "from scipy import stats\n",
    "from scipy.stats import chi2_contingency\n",
    "from scipy.stats import chi2\n",
    "\n",
    "# Changing the figure size of a seaborn axes \n",
    "sns.set(rc={\"figure.figsize\": (10, 6)})\n",
    "\n",
    "# The style parameters control properties\n",
    "sns.set_style(\"whitegrid\")\n",
    "\n",
    "# To display maximum columns\n",
    "pd.set_option('display.max_columns', None)\n",
    "\n",
    "# To display maximum rows\n",
    "pd.set_option('display.max_rows', None)\n",
    "\n",
    "# To set float format\n",
    "pd.set_option('display.float_format','{:.2f}'.format)"
   ]
  },
  {
   "cell_type": "markdown",
   "id": "3c5b1c34",
   "metadata": {},
   "source": [
    "### <p style=\"background-color:#7da6ff; font-family:arial; color:#09042b; font-size:150%; text-align:left; border-radius:10px; line-height:1.5; text-align:center;\">Reading the data from file</p>"
   ]
  },
  {
   "cell_type": "code",
   "execution_count": null,
   "id": "af63f3a6",
   "metadata": {
    "ExecuteTime": {
     "end_time": "2022-09-12T10:24:41.359684Z",
     "start_time": "2022-09-12T10:24:40.921978Z"
    }
   },
   "outputs": [],
   "source": [
    "df= pd.read_csv(\"train.csv\")"
   ]
  },
  {
   "cell_type": "markdown",
   "id": "9c160507",
   "metadata": {},
   "source": [
    "## <p style=\"background-color:#7da6ff; font-family:arial; color:#09042b; font-size:175%; text-align:center; border-radius:10px 10px;\">Recognizing and Understanding Data</p>\n",
    "\n",
    "<a id=\"3\"></a>\n",
    "<a href=\"#toc\" class=\"btn btn-primary btn-sm\" role=\"button\" aria-pressed=\"true\" \n",
    "style=\"color:#09042b; background-color:#7da6ff\" data-toggle=\"popover\">Content</a>"
   ]
  },
  {
   "cell_type": "markdown",
   "id": "1cb77416",
   "metadata": {},
   "source": [
    "### Checking the dataframe with head, tail and sample"
   ]
  },
  {
   "cell_type": "code",
   "execution_count": null,
   "id": "fcbd2a2f",
   "metadata": {
    "ExecuteTime": {
     "end_time": "2022-09-12T10:24:41.391387Z",
     "start_time": "2022-09-12T10:24:41.361568Z"
    }
   },
   "outputs": [],
   "source": [
    " df.head()"
   ]
  },
  {
   "cell_type": "code",
   "execution_count": null,
   "id": "0a1b1421",
   "metadata": {
    "ExecuteTime": {
     "end_time": "2022-09-12T10:24:41.423339Z",
     "start_time": "2022-09-12T10:24:41.394304Z"
    }
   },
   "outputs": [],
   "source": [
    "df.tail()"
   ]
  },
  {
   "cell_type": "code",
   "execution_count": null,
   "id": "0903146b",
   "metadata": {
    "ExecuteTime": {
     "end_time": "2022-09-12T10:24:41.469965Z",
     "start_time": "2022-09-12T10:24:41.424204Z"
    },
    "scrolled": true
   },
   "outputs": [],
   "source": [
    "df.sample()"
   ]
  },
  {
   "cell_type": "code",
   "execution_count": null,
   "id": "37091f6f",
   "metadata": {
    "ExecuteTime": {
     "end_time": "2022-09-12T10:24:41.485948Z",
     "start_time": "2022-09-12T10:24:41.471856Z"
    }
   },
   "outputs": [],
   "source": [
    "df.shape"
   ]
  },
  {
   "cell_type": "markdown",
   "id": "78daa783",
   "metadata": {},
   "source": [
    "### Checking the summary information of df"
   ]
  },
  {
   "cell_type": "code",
   "execution_count": null,
   "id": "1b1a38de",
   "metadata": {
    "ExecuteTime": {
     "end_time": "2022-09-12T10:24:41.708288Z",
     "start_time": "2022-09-12T10:24:41.487855Z"
    }
   },
   "outputs": [],
   "source": [
    "df.info()"
   ]
  },
  {
   "cell_type": "code",
   "execution_count": null,
   "id": "55eea8d6",
   "metadata": {
    "ExecuteTime": {
     "end_time": "2022-09-12T10:24:41.912182Z",
     "start_time": "2022-09-12T10:24:41.710181Z"
    }
   },
   "outputs": [],
   "source": [
    "# Checking the null values of df\n",
    "\n",
    "df.isnull().sum()"
   ]
  },
  {
   "cell_type": "code",
   "execution_count": null,
   "id": "cbac55df",
   "metadata": {
    "ExecuteTime": {
     "end_time": "2022-09-12T10:24:42.132795Z",
     "start_time": "2022-09-12T10:24:41.914182Z"
    }
   },
   "outputs": [],
   "source": [
    "# Checking the duplicated values in df\n",
    "\n",
    "df.duplicated().sum()"
   ]
  },
  {
   "cell_type": "code",
   "execution_count": null,
   "id": "8f1dd6d6",
   "metadata": {
    "ExecuteTime": {
     "end_time": "2022-09-12T10:24:42.274771Z",
     "start_time": "2022-09-12T10:24:42.135746Z"
    }
   },
   "outputs": [],
   "source": [
    "# Checking the number of uniques in df\n",
    "\n",
    "df.nunique()"
   ]
  },
  {
   "cell_type": "code",
   "execution_count": null,
   "id": "9c7e0c9a",
   "metadata": {
    "ExecuteTime": {
     "end_time": "2022-09-12T10:24:42.320901Z",
     "start_time": "2022-09-12T10:24:42.276655Z"
    }
   },
   "outputs": [],
   "source": [
    "# Checking the desciptive values in df\n",
    "\n",
    "df.describe()"
   ]
  },
  {
   "cell_type": "markdown",
   "id": "15f5f6e9",
   "metadata": {},
   "source": [
    "## <p style=\"background-color:#7da6ff; font-family:arial; color:#09042b; font-size:175%; text-align:center; border-radius:10px; line-height:1.2\">Cleaning Data</p>\n",
    "\n",
    "<a id=\"4\"></a>\n",
    "<a href=\"#toc\" class=\"btn btn-primary btn-sm\" role=\"button\" aria-pressed=\"true\" \n",
    "style=\"color:#09042b; background-color:#7da6ff\" data-toggle=\"popover\">Content</a>\n",
    "\n",
    "There are so many strange values that should be cleaned or replaced with np.nan"
   ]
  },
  {
   "cell_type": "code",
   "execution_count": null,
   "id": "e6e60a14",
   "metadata": {
    "ExecuteTime": {
     "end_time": "2022-09-12T10:24:42.796583Z",
     "start_time": "2022-09-12T10:24:42.783584Z"
    }
   },
   "outputs": [],
   "source": [
    "# defining a function to replace \"_\", \"_______\", \"#F%$D@*&8\", \"!@9#%8\", \"__-333333333333333333333333333__\" with np.nan\n",
    "\n",
    "def clean_data(row) :\n",
    "    if row in [\"_\", \"_______\", \"#F%$D@*&8\", \"!@9#%8\", \"__-333333333333333333333333333__\"]:\n",
    "        return np.nan\n",
    "    else :\n",
    "        return row"
   ]
  },
  {
   "cell_type": "code",
   "execution_count": null,
   "id": "ecb500cd",
   "metadata": {
    "ExecuteTime": {
     "end_time": "2022-09-12T10:24:43.476686Z",
     "start_time": "2022-09-12T10:24:42.798583Z"
    }
   },
   "outputs": [],
   "source": [
    "# replacing the strange values with np.nan using clean_data function\n",
    "\n",
    "for col in df.columns :\n",
    "    df[col] = df[col].apply(clean_data)"
   ]
  },
  {
   "cell_type": "code",
   "execution_count": null,
   "id": "11af0063",
   "metadata": {
    "ExecuteTime": {
     "end_time": "2022-09-12T10:24:44.266083Z",
     "start_time": "2022-09-12T10:24:43.479586Z"
    }
   },
   "outputs": [],
   "source": [
    "# Strip \"_\" character at the begin and end of df features\n",
    "\n",
    "for col in df.columns :\n",
    "    if df[col].dtype == \"O\" :\n",
    "        if df[col].str.contains(\"_\").sum() > 0:\n",
    "            df[col] = df[col].str.strip(\"_\")"
   ]
  },
  {
   "cell_type": "code",
   "execution_count": null,
   "id": "47de686d",
   "metadata": {
    "ExecuteTime": {
     "end_time": "2022-09-12T10:24:44.377978Z",
     "start_time": "2022-09-12T10:24:44.266979Z"
    }
   },
   "outputs": [],
   "source": [
    "# Convert ID and Customer_ID numbers which were given as hexadecimal to decimal\n",
    "\n",
    "df[\"ID\"] = df.ID.apply(lambda x : int(x, 16))\n",
    "df[\"Customer_ID\"] = df.Customer_ID.str.strip(\"CUS_\").apply(lambda x : int(x, 16))"
   ]
  },
  {
   "cell_type": "markdown",
   "id": "a6746b18",
   "metadata": {},
   "source": [
    "### Fixing Data Type"
   ]
  },
  {
   "cell_type": "code",
   "execution_count": null,
   "id": "15e7e9b6",
   "metadata": {
    "ExecuteTime": {
     "end_time": "2022-09-12T10:24:44.785964Z",
     "start_time": "2022-09-12T10:24:44.770961Z"
    }
   },
   "outputs": [],
   "source": [
    "# defining column lists whose data types should be fixed to integer and float\n",
    "\n",
    "col_int = [\"ID\", \"Customer_ID\", \"Age\", \"Num_Bank_Accounts\", \"Num_Credit_Card\", \"Num_of_Loan\", \"Delay_from_due_date\"]\n",
    "\n",
    "col_float = [\"Num_of_Delayed_Payment\", \"Annual_Income\", \"Interest_Rate\", \"Changed_Credit_Limit\",\"Outstanding_Debt\",\\\n",
    "             \"Amount_invested_monthly\",\"Monthly_Balance\"]"
   ]
  },
  {
   "cell_type": "code",
   "execution_count": null,
   "id": "e6e77071",
   "metadata": {
    "ExecuteTime": {
     "end_time": "2022-09-12T10:24:44.816973Z",
     "start_time": "2022-09-12T10:24:44.787960Z"
    }
   },
   "outputs": [],
   "source": [
    "# fixing data types to integer\n",
    "for col in col_int :\n",
    "    df[col] = df[col].astype(int)"
   ]
  },
  {
   "cell_type": "code",
   "execution_count": null,
   "id": "c63d15de",
   "metadata": {
    "ExecuteTime": {
     "end_time": "2022-09-12T10:24:44.927174Z",
     "start_time": "2022-09-12T10:24:44.818961Z"
    }
   },
   "outputs": [],
   "source": [
    "# fixing data types to float\n",
    "for col in col_float :\n",
    "    df[col] = df[col].astype(float)"
   ]
  },
  {
   "cell_type": "code",
   "execution_count": null,
   "id": "9b36e5be",
   "metadata": {
    "ExecuteTime": {
     "end_time": "2022-09-12T10:24:45.039377Z",
     "start_time": "2022-09-12T10:24:44.929162Z"
    }
   },
   "outputs": [],
   "source": [
    "# checking the data types after fixing \n",
    "df.info()"
   ]
  },
  {
   "cell_type": "markdown",
   "id": "445d952c",
   "metadata": {},
   "source": [
    "## <p style=\"background-color:#7da6ff; font-family:arial; color:#09042b; font-size:175%; text-align:center; border-radius:10px 10px;\">Handling With Missing Values</p>\n",
    "\n",
    "<a id=\"5\"></a>\n",
    "<a href=\"#toc\" class=\"btn btn-primary btn-sm\" role=\"button\" aria-pressed=\"true\" \n",
    "style=\"color:#09042b; background-color:#7da6ff\" data-toggle=\"popover\">Content</a>"
   ]
  },
  {
   "cell_type": "markdown",
   "id": "5db19a14",
   "metadata": {},
   "source": [
    "### Defining a function for null check"
   ]
  },
  {
   "cell_type": "code",
   "execution_count": null,
   "id": "cd4343bd",
   "metadata": {
    "ExecuteTime": {
     "end_time": "2022-09-12T10:24:45.055205Z",
     "start_time": "2022-09-12T10:24:45.042199Z"
    }
   },
   "outputs": [],
   "source": [
    "def null_check (col) :\n",
    "    print(\"Column name :\", col)\n",
    "    print(\"--\"*16)\n",
    "    print(\"Number of nulls :\", df[col].isnull().sum())\n",
    "    print(\"Percent of nulls :\", '%', round((df[col].isnull().sum()/df.shape[0])*100, 2))\n",
    "    print(\"Value_counts :\", \"\\n\",df[col].value_counts(dropna=False).head())  # brings only first 5 value"
   ]
  },
  {
   "cell_type": "markdown",
   "id": "9c303db7",
   "metadata": {},
   "source": [
    "* There are 13 columns having null values in df.\n",
    "* Now let's work on this null values column by column."
   ]
  },
  {
   "cell_type": "markdown",
   "id": "7509b1c6",
   "metadata": {},
   "source": [
    "### Name column"
   ]
  },
  {
   "cell_type": "code",
   "execution_count": null,
   "id": "b72dc009",
   "metadata": {
    "ExecuteTime": {
     "end_time": "2022-09-12T10:24:45.086213Z",
     "start_time": "2022-09-12T10:24:45.056204Z"
    }
   },
   "outputs": [],
   "source": [
    "# Checking the null values in Name column\n",
    "\n",
    "null_check(\"Name\")"
   ]
  },
  {
   "cell_type": "code",
   "execution_count": null,
   "id": "f6d124b0",
   "metadata": {
    "ExecuteTime": {
     "end_time": "2022-09-12T10:24:46.478276Z",
     "start_time": "2022-09-12T10:24:45.089196Z"
    }
   },
   "outputs": [],
   "source": [
    "# When we grouped the data by Customer_ID, we can see that the null values in Name column can be filled with ffill and bfill method.\n",
    "\n",
    "df[\"Name\"] = df.groupby(\"Customer_ID\")[\"Name\"].fillna(method='ffill').fillna(method='bfill')"
   ]
  },
  {
   "cell_type": "markdown",
   "id": "416367ce",
   "metadata": {},
   "source": [
    "### SSN column"
   ]
  },
  {
   "cell_type": "code",
   "execution_count": null,
   "id": "7f494370",
   "metadata": {
    "ExecuteTime": {
     "end_time": "2022-09-12T10:24:46.525637Z",
     "start_time": "2022-09-12T10:24:46.496157Z"
    }
   },
   "outputs": [],
   "source": [
    "# Checking the null values in SSN column\n",
    "\n",
    "null_check(\"SSN\")"
   ]
  },
  {
   "cell_type": "code",
   "execution_count": null,
   "id": "ee73585a",
   "metadata": {
    "ExecuteTime": {
     "end_time": "2022-09-12T10:24:47.854382Z",
     "start_time": "2022-09-12T10:24:46.529649Z"
    }
   },
   "outputs": [],
   "source": [
    "# Null values in SSN column can be filled with ffill and bfill method like in Name column.\n",
    "\n",
    "df[\"SSN\"] = df.groupby(\"Customer_ID\")[\"SSN\"].fillna(method=\"ffill\").fillna(method=\"bfill\")"
   ]
  },
  {
   "cell_type": "markdown",
   "id": "a0267e45",
   "metadata": {},
   "source": [
    "### Occupation column"
   ]
  },
  {
   "cell_type": "code",
   "execution_count": null,
   "id": "fc021ede",
   "metadata": {
    "ExecuteTime": {
     "end_time": "2022-09-12T10:24:47.899787Z",
     "start_time": "2022-09-12T10:24:47.871308Z"
    }
   },
   "outputs": [],
   "source": [
    "# Checking the null values in Occupation column\n",
    "\n",
    "null_check(\"Occupation\")"
   ]
  },
  {
   "cell_type": "code",
   "execution_count": null,
   "id": "e6f3738f",
   "metadata": {
    "ExecuteTime": {
     "end_time": "2022-09-12T10:24:49.227881Z",
     "start_time": "2022-09-12T10:24:47.901791Z"
    }
   },
   "outputs": [],
   "source": [
    "# Null values in Occupation column can be filled with ffill and bfill method like in Name column.\n",
    "\n",
    "df[\"Occupation\"] = df.groupby(\"Customer_ID\")[\"Occupation\"].fillna(method=\"ffill\").fillna(method=\"bfill\")"
   ]
  },
  {
   "cell_type": "markdown",
   "id": "30fac2b1",
   "metadata": {},
   "source": [
    "### Monthly_Inhand_Salary column"
   ]
  },
  {
   "cell_type": "code",
   "execution_count": null,
   "id": "dfa404ed",
   "metadata": {
    "ExecuteTime": {
     "end_time": "2022-09-12T10:24:49.259217Z",
     "start_time": "2022-09-12T10:24:49.245214Z"
    }
   },
   "outputs": [],
   "source": [
    "# Checking the null values in Monthly_Inhand_Salary column\n",
    "\n",
    "null_check(\"Monthly_Inhand_Salary\")"
   ]
  },
  {
   "cell_type": "code",
   "execution_count": null,
   "id": "9d1d61e1",
   "metadata": {
    "ExecuteTime": {
     "end_time": "2022-09-12T10:24:49.306732Z",
     "start_time": "2022-09-12T10:24:49.261212Z"
    }
   },
   "outputs": [],
   "source": [
    "# Checking the null values in Monthly_Inhand_Salary column by grouping Customer_ID\n",
    "\n",
    "df.groupby(\"Customer_ID\").Monthly_Inhand_Salary.value_counts(dropna=False).head()"
   ]
  },
  {
   "cell_type": "code",
   "execution_count": null,
   "id": "578f5fb4",
   "metadata": {
    "ExecuteTime": {
     "end_time": "2022-09-12T10:24:50.303258Z",
     "start_time": "2022-09-12T10:24:49.308733Z"
    }
   },
   "outputs": [],
   "source": [
    "# Null values in Monthly_Inhand_Salary column can be filled with ffill and bfill method like in Name column.\n",
    "    \n",
    "df[\"Monthly_Inhand_Salary\"] = df.groupby(\"Customer_ID\")[\"Monthly_Inhand_Salary\"].fillna(method=\"ffill\").fillna(method=\"bfill\")"
   ]
  },
  {
   "cell_type": "markdown",
   "id": "6a4f3091",
   "metadata": {
    "ExecuteTime": {
     "end_time": "2022-09-12T10:20:36.715685Z",
     "start_time": "2022-09-12T10:20:36.703610Z"
    }
   },
   "source": [
    "### Type_of_Loan column"
   ]
  },
  {
   "cell_type": "code",
   "execution_count": null,
   "id": "794458e1",
   "metadata": {
    "ExecuteTime": {
     "end_time": "2022-09-12T10:24:53.387992Z",
     "start_time": "2022-09-12T10:24:53.371070Z"
    }
   },
   "outputs": [],
   "source": [
    "# Checking the null values in Type_of_Loan column\n",
    "\n",
    "null_check(\"Type_of_Loan\")"
   ]
  },
  {
   "cell_type": "code",
   "execution_count": null,
   "id": "a9ef84c5",
   "metadata": {
    "ExecuteTime": {
     "end_time": "2022-09-12T10:24:54.817071Z",
     "start_time": "2022-09-12T10:24:54.778075Z"
    }
   },
   "outputs": [],
   "source": [
    "# Checking the null values in Type_of_Loan column by grouping Customer_ID\n",
    "\n",
    "df.groupby(\"Customer_ID\").Type_of_Loan.value_counts(dropna=False).head()"
   ]
  },
  {
   "cell_type": "markdown",
   "id": "bbae7c87",
   "metadata": {},
   "source": [
    "According to the domain knowledge, the number of loans taken and how they are paid are the parameters that affect the credit score, rather than the type of loan. As we have other features that affect credit score rather than type of loan and filling null values in Type_of_Loan column with appropriate values is not possible, we can drop Type_of_Loan column."
   ]
  },
  {
   "cell_type": "code",
   "execution_count": null,
   "id": "61f2af0f",
   "metadata": {
    "ExecuteTime": {
     "end_time": "2022-09-12T10:24:56.501719Z",
     "start_time": "2022-09-12T10:24:56.439190Z"
    }
   },
   "outputs": [],
   "source": [
    "df.drop(columns=\"Type_of_Loan\", inplace=True)"
   ]
  },
  {
   "cell_type": "markdown",
   "id": "1b83c217",
   "metadata": {},
   "source": [
    "### Num_of_Delayed_Payment column"
   ]
  },
  {
   "cell_type": "code",
   "execution_count": null,
   "id": "ff7abfb6",
   "metadata": {
    "ExecuteTime": {
     "end_time": "2022-09-12T10:25:47.654182Z",
     "start_time": "2022-09-12T10:25:47.639219Z"
    }
   },
   "outputs": [],
   "source": [
    "# Checking the null values in Num_of_Delayed_Payment column\n",
    "\n",
    "null_check(\"Num_of_Delayed_Payment\")"
   ]
  },
  {
   "cell_type": "code",
   "execution_count": null,
   "id": "981e8734",
   "metadata": {
    "ExecuteTime": {
     "end_time": "2022-09-12T10:25:57.114737Z",
     "start_time": "2022-09-12T10:25:57.066437Z"
    },
    "scrolled": true
   },
   "outputs": [],
   "source": [
    "# Checking the null values in Num_of_Delayed_Payment column by grouping Customer_ID\n",
    "\n",
    "df.groupby(\"Customer_ID\").Num_of_Delayed_Payment.value_counts(dropna=False).head(10)"
   ]
  },
  {
   "cell_type": "code",
   "execution_count": null,
   "id": "06057f01",
   "metadata": {
    "ExecuteTime": {
     "end_time": "2022-09-12T10:27:15.241052Z",
     "start_time": "2022-09-12T10:27:15.222326Z"
    }
   },
   "outputs": [],
   "source": [
    "# checking the number of delayed payment values for Customer 1011\n",
    "\n",
    "df[df.Customer_ID == 1011]"
   ]
  },
  {
   "cell_type": "code",
   "execution_count": null,
   "id": "5990128e",
   "metadata": {
    "ExecuteTime": {
     "end_time": "2022-09-12T10:27:26.252623Z",
     "start_time": "2022-09-12T10:27:25.396004Z"
    }
   },
   "outputs": [],
   "source": [
    "# Checking the mode values in Num_of_Delayed_Payment column by grouping Customer_ID\n",
    "\n",
    "df.groupby(\"Customer_ID\").Num_of_Delayed_Payment.apply(lambda x: x.mode()[0]).head()"
   ]
  },
  {
   "cell_type": "code",
   "execution_count": null,
   "id": "1c3103be",
   "metadata": {
    "ExecuteTime": {
     "end_time": "2022-09-12T10:31:46.987650Z",
     "start_time": "2022-09-12T10:31:45.124325Z"
    }
   },
   "outputs": [],
   "source": [
    "# Null values in Num_of_Delayed_Payment column can be filled with mode by grouping Customer_ID.\n",
    "    \n",
    "df[\"Num_of_Delayed_Payment\"] = df.groupby(\"Customer_ID\")[\"Num_of_Delayed_Payment\"].apply(lambda x : x.fillna(x.mode()[0]))"
   ]
  },
  {
   "cell_type": "markdown",
   "id": "bb354e3c",
   "metadata": {},
   "source": [
    "### Changed_Credit_Limit column"
   ]
  },
  {
   "cell_type": "code",
   "execution_count": null,
   "id": "a1057cdf",
   "metadata": {
    "ExecuteTime": {
     "end_time": "2022-09-12T10:32:28.843079Z",
     "start_time": "2022-09-12T10:32:28.820961Z"
    }
   },
   "outputs": [],
   "source": [
    "# Checking the null values in Changed_Credit_Limit column\n",
    "\n",
    "null_check(\"Changed_Credit_Limit\")"
   ]
  },
  {
   "cell_type": "code",
   "execution_count": null,
   "id": "63978a46",
   "metadata": {
    "ExecuteTime": {
     "end_time": "2022-09-12T10:32:31.838673Z",
     "start_time": "2022-09-12T10:32:31.797502Z"
    }
   },
   "outputs": [],
   "source": [
    "# Checking the null values in Changed_Credit_Limit column by grouping Customer_ID\n",
    "\n",
    "df.groupby(\"Customer_ID\").Changed_Credit_Limit.value_counts(dropna=False).head()"
   ]
  },
  {
   "cell_type": "code",
   "execution_count": null,
   "id": "b46e384a",
   "metadata": {
    "ExecuteTime": {
     "end_time": "2022-09-12T10:32:42.839745Z",
     "start_time": "2022-09-12T10:32:41.834166Z"
    }
   },
   "outputs": [],
   "source": [
    "# Null values in Changed_Credit_Limit column can be filled with ffill and bfill method by grouping Customer_ID.\n",
    "    \n",
    "df[\"Changed_Credit_Limit\"] = df.groupby(\"Customer_ID\")[\"Changed_Credit_Limit\"].fillna(method=\"ffill\").fillna(method=\"bfill\")"
   ]
  },
  {
   "cell_type": "markdown",
   "id": "7650e1e4",
   "metadata": {},
   "source": [
    "### Num_Credit_Inquiries column"
   ]
  },
  {
   "cell_type": "code",
   "execution_count": null,
   "id": "d3ce787e",
   "metadata": {
    "ExecuteTime": {
     "end_time": "2022-09-12T10:36:19.586605Z",
     "start_time": "2022-09-12T10:36:19.574505Z"
    }
   },
   "outputs": [],
   "source": [
    "# Checking the null values in Num_Credit_Inquiries column\n",
    "\n",
    "null_check(\"Num_Credit_Inquiries\")"
   ]
  },
  {
   "cell_type": "code",
   "execution_count": null,
   "id": "0d5aa5d9",
   "metadata": {
    "ExecuteTime": {
     "end_time": "2022-09-12T10:36:31.807963Z",
     "start_time": "2022-09-12T10:36:31.773876Z"
    },
    "scrolled": true
   },
   "outputs": [],
   "source": [
    "# Checking the null values in Num_Credit_Inquiries column by grouping Customer_ID\n",
    "\n",
    "df.groupby(\"Customer_ID\").Num_Credit_Inquiries.value_counts(dropna=False).head(6)"
   ]
  },
  {
   "cell_type": "code",
   "execution_count": null,
   "id": "d7846cce",
   "metadata": {
    "ExecuteTime": {
     "end_time": "2022-09-12T10:36:50.079968Z",
     "start_time": "2022-09-12T10:36:48.354275Z"
    }
   },
   "outputs": [],
   "source": [
    "# Null values in Num_Credit_Inquiries column can be filled with ffill and bfill method by grouping Customer_ID.\n",
    " \n",
    "df[\"Num_Credit_Inquiries\"] = df.groupby(\"Customer_ID\")[\"Num_Credit_Inquiries\"].apply(lambda x : x.fillna(method=\"ffill\").fillna(method=\"bfill\"))"
   ]
  },
  {
   "cell_type": "markdown",
   "id": "e45f2996",
   "metadata": {},
   "source": [
    "### Credit_Mix column"
   ]
  },
  {
   "cell_type": "code",
   "execution_count": null,
   "id": "766ebdc9",
   "metadata": {
    "ExecuteTime": {
     "end_time": "2022-09-12T10:37:21.219035Z",
     "start_time": "2022-09-12T10:37:21.201864Z"
    }
   },
   "outputs": [],
   "source": [
    "# Checking the null values in Credit_Mix column\n",
    "\n",
    "null_check(\"Credit_Mix\")"
   ]
  },
  {
   "cell_type": "code",
   "execution_count": null,
   "id": "94dabb5f",
   "metadata": {
    "ExecuteTime": {
     "end_time": "2022-09-12T10:37:31.798382Z",
     "start_time": "2022-09-12T10:37:31.780435Z"
    }
   },
   "outputs": [],
   "source": [
    "# Checking the descriptive values of Credit_Mix column\n",
    "\n",
    "df.Credit_Mix.describe()"
   ]
  },
  {
   "cell_type": "code",
   "execution_count": null,
   "id": "e160fa84",
   "metadata": {
    "ExecuteTime": {
     "end_time": "2022-09-12T10:37:40.767281Z",
     "start_time": "2022-09-12T10:37:40.728286Z"
    }
   },
   "outputs": [],
   "source": [
    "# Checking the null values in Credit_Mix column by grouping Customer_ID\n",
    "\n",
    "df.groupby(\"Customer_ID\").Credit_Mix.value_counts(dropna=False).head(6)"
   ]
  },
  {
   "cell_type": "code",
   "execution_count": null,
   "id": "5b5628c5",
   "metadata": {
    "ExecuteTime": {
     "end_time": "2022-09-12T10:37:50.943965Z",
     "start_time": "2022-09-12T10:37:50.907849Z"
    },
    "scrolled": true
   },
   "outputs": [],
   "source": [
    "# Checking the Credit_Mix values for each Customer\n",
    "\n",
    "df[[\"Customer_ID\",\"Credit_Mix\"]].head()"
   ]
  },
  {
   "cell_type": "code",
   "execution_count": null,
   "id": "245c3eb9",
   "metadata": {
    "ExecuteTime": {
     "end_time": "2022-09-12T10:38:11.943493Z",
     "start_time": "2022-09-12T10:38:09.491575Z"
    }
   },
   "outputs": [],
   "source": [
    "# According to the analysis above null values in Credit_Mix column can be filled with mode by grouping Customer_ID\n",
    "\n",
    "df[\"Credit_Mix\"] = df.groupby(\"Customer_ID\")[\"Credit_Mix\"].apply(lambda x : x.fillna(x.mode()[0]))"
   ]
  },
  {
   "cell_type": "markdown",
   "id": "ec8738c6",
   "metadata": {},
   "source": [
    "### Credit_History_Age column"
   ]
  },
  {
   "cell_type": "code",
   "execution_count": null,
   "id": "0c099c07",
   "metadata": {
    "ExecuteTime": {
     "end_time": "2022-09-12T10:38:42.634952Z",
     "start_time": "2022-09-12T10:38:42.612606Z"
    }
   },
   "outputs": [],
   "source": [
    "# Checking the null values in Credit_History_Age column\n",
    "\n",
    "null_check(\"Credit_History_Age\")"
   ]
  },
  {
   "cell_type": "code",
   "execution_count": null,
   "id": "61e790f3",
   "metadata": {
    "ExecuteTime": {
     "end_time": "2022-09-12T10:38:51.901219Z",
     "start_time": "2022-09-12T10:38:51.886457Z"
    }
   },
   "outputs": [],
   "source": [
    "# Defining a function to convert the Credit_History_Age values to month\n",
    "\n",
    "def Cred_Hist_Age (cha) :\n",
    "    if type(cha) == float :\n",
    "        return cha\n",
    "    else :\n",
    "        return int(cha.split()[0])*12 + int(cha.split()[3])"
   ]
  },
  {
   "cell_type": "code",
   "execution_count": null,
   "id": "a3aa2d9e",
   "metadata": {
    "ExecuteTime": {
     "end_time": "2022-09-12T10:39:01.874223Z",
     "start_time": "2022-09-12T10:39:01.776434Z"
    }
   },
   "outputs": [],
   "source": [
    "# convert the Credit_History_Age values to month\n",
    "\n",
    "df[\"Credit_History_Age\"] = df.Credit_History_Age.apply(Cred_Hist_Age).astype(float)"
   ]
  },
  {
   "cell_type": "code",
   "execution_count": null,
   "id": "eecd1cb1",
   "metadata": {
    "ExecuteTime": {
     "end_time": "2022-09-12T10:39:10.074392Z",
     "start_time": "2022-09-12T10:39:10.053304Z"
    },
    "scrolled": true
   },
   "outputs": [],
   "source": [
    "# Checking the Credit_History_Age values after converting to month\n",
    "\n",
    "df[\"Credit_History_Age\"].head()"
   ]
  },
  {
   "cell_type": "code",
   "execution_count": null,
   "id": "e2b38640",
   "metadata": {
    "ExecuteTime": {
     "end_time": "2022-09-12T10:39:23.244016Z",
     "start_time": "2022-09-12T10:39:23.197069Z"
    },
    "scrolled": true
   },
   "outputs": [],
   "source": [
    "# Checking the null values in Credit_History_Age column by grouping Customer_ID\n",
    "\n",
    "df.groupby(\"Customer_ID\")[\"Credit_History_Age\"].value_counts(dropna=False).head(10)"
   ]
  },
  {
   "cell_type": "code",
   "execution_count": null,
   "id": "3fbfd99a",
   "metadata": {
    "ExecuteTime": {
     "end_time": "2022-09-12T10:39:36.521805Z",
     "start_time": "2022-09-12T10:39:36.505842Z"
    }
   },
   "outputs": [],
   "source": [
    "# Defining a function to fill null values in Credit_History_Age column with incrementally\n",
    "# TİP: first null values in Credit_History_Age column should be replaced with 0(zero) before using the defined function\n",
    "\n",
    "def fill_credit_history_age_incremental (x) :\n",
    "    if x.values[0] == 0 :\n",
    "        return np.arange((int(x.values[1])-1), (int(x.values[1])-1)+len(x))\n",
    "    else :\n",
    "        return np.arange(int(x.values[0]), int(x.values[0])+len(x))"
   ]
  },
  {
   "cell_type": "code",
   "execution_count": null,
   "id": "57a434d7",
   "metadata": {
    "ExecuteTime": {
     "end_time": "2022-09-12T10:39:50.212642Z",
     "start_time": "2022-09-12T10:39:49.639677Z"
    }
   },
   "outputs": [],
   "source": [
    "# filling null values in Credit_History_Age column with incrementally\n",
    "\n",
    "df[\"Credit_History_Age\"] = df.Credit_History_Age.fillna(0) # firstly fill null values with 0 then apply the function defined\n",
    "\n",
    "\n",
    "# df[\"Credit_History_Age\"] = df.groupby(\"Customer_ID\")[\"Credit_History_Age\"].transform(lambda x : fill_credit_history_age_incremental(x))\n",
    "\n",
    "# or\n",
    "\n",
    "df[\"Credit_History_Age\"] = df.groupby(\"Customer_ID\")[\"Credit_History_Age\"].transform(fill_credit_history_age_incremental)"
   ]
  },
  {
   "cell_type": "markdown",
   "id": "19c21737",
   "metadata": {
    "ExecuteTime": {
     "end_time": "2022-09-12T10:40:09.583812Z",
     "start_time": "2022-09-12T10:40:09.569814Z"
    }
   },
   "source": [
    "### Amount_invested_monthly column"
   ]
  },
  {
   "cell_type": "code",
   "execution_count": null,
   "id": "798c590c",
   "metadata": {
    "ExecuteTime": {
     "end_time": "2022-09-12T10:43:46.868535Z",
     "start_time": "2022-09-12T10:43:46.846546Z"
    }
   },
   "outputs": [],
   "source": [
    "# Checking the null values in Amount_invested_monthly column\n",
    "\n",
    "null_check(\"Amount_invested_monthly\")"
   ]
  },
  {
   "cell_type": "code",
   "execution_count": null,
   "id": "fbdf9acd",
   "metadata": {
    "ExecuteTime": {
     "end_time": "2022-09-12T10:44:00.056479Z",
     "start_time": "2022-09-12T10:43:59.998557Z"
    },
    "scrolled": true
   },
   "outputs": [],
   "source": [
    "# Checking the null values in Amount_invested_monthly column by grouping Customer_ID\n",
    "\n",
    "df.groupby(\"Customer_ID\").Amount_invested_monthly.value_counts(dropna=False).head(10)"
   ]
  },
  {
   "cell_type": "code",
   "execution_count": null,
   "id": "1d2ddacf",
   "metadata": {
    "ExecuteTime": {
     "end_time": "2022-09-12T10:45:05.860977Z",
     "start_time": "2022-09-12T10:44:57.471384Z"
    }
   },
   "outputs": [],
   "source": [
    "# Checking the descriptive values in Amount_invested_monthly column by grouping Customer_ID\n",
    "\n",
    "df.groupby(\"Customer_ID\").Amount_invested_monthly.describe().head()"
   ]
  },
  {
   "cell_type": "code",
   "execution_count": null,
   "id": "0811f514",
   "metadata": {
    "ExecuteTime": {
     "end_time": "2022-09-12T10:45:50.324104Z",
     "start_time": "2022-09-12T10:45:48.936244Z"
    }
   },
   "outputs": [],
   "source": [
    "# According to the analysis above, null values in Amount_invested_monthly column can be filled with median by grouping Customer_ID\n",
    "\n",
    "df[\"Amount_invested_monthly\"] = df.groupby(\"Customer_ID\")[\"Amount_invested_monthly\"].apply(lambda x : x.fillna(x.median()))"
   ]
  },
  {
   "cell_type": "markdown",
   "id": "b52f8fe7",
   "metadata": {},
   "source": [
    "### Payment_Behaviour column"
   ]
  },
  {
   "cell_type": "code",
   "execution_count": null,
   "id": "3b7e24a4",
   "metadata": {
    "ExecuteTime": {
     "end_time": "2022-09-12T10:46:20.080621Z",
     "start_time": "2022-09-12T10:46:20.054050Z"
    }
   },
   "outputs": [],
   "source": [
    "# Checking the null values in Payment_Behaviour column\n",
    "\n",
    "null_check(\"Payment_Behaviour\")"
   ]
  },
  {
   "cell_type": "code",
   "execution_count": null,
   "id": "2486be59",
   "metadata": {
    "ExecuteTime": {
     "end_time": "2022-09-12T10:46:29.918048Z",
     "start_time": "2022-09-12T10:46:29.869111Z"
    }
   },
   "outputs": [],
   "source": [
    "# Checking the null values in Payment_Behaviour column by grouping Customer_ID\n",
    "\n",
    "df.groupby(\"Customer_ID\").Payment_Behaviour.value_counts(dropna=False).head(10)"
   ]
  },
  {
   "cell_type": "markdown",
   "id": "ef3a4be1",
   "metadata": {},
   "source": [
    "According to the domain knowledge we have other features (such as Num_of_Delayed_Payment, Delay_from_due_date, Payment_of_Min_Amount, ..) that represents payment behaviour. And also filling null values in Type_of_Loan column with appropriate values is not possible. For the reasons explained above, we can drop Payment_Behaviour column."
   ]
  },
  {
   "cell_type": "code",
   "execution_count": null,
   "id": "1c05ea20",
   "metadata": {
    "ExecuteTime": {
     "end_time": "2022-09-12T10:47:15.475450Z",
     "start_time": "2022-09-12T10:47:15.421330Z"
    }
   },
   "outputs": [],
   "source": [
    "df.drop(columns=\"Payment_Behaviour\", inplace=True)"
   ]
  },
  {
   "cell_type": "markdown",
   "id": "106ba3ea",
   "metadata": {},
   "source": [
    "### Monthly_Balance column"
   ]
  },
  {
   "cell_type": "code",
   "execution_count": null,
   "id": "87f6eb2d",
   "metadata": {
    "ExecuteTime": {
     "end_time": "2022-09-12T10:47:58.631648Z",
     "start_time": "2022-09-12T10:47:58.600750Z"
    }
   },
   "outputs": [],
   "source": [
    "# Checking the null values in Monthly_Balance column\n",
    "\n",
    "null_check(\"Monthly_Balance\")"
   ]
  },
  {
   "cell_type": "code",
   "execution_count": null,
   "id": "16ddca53",
   "metadata": {
    "ExecuteTime": {
     "end_time": "2022-09-12T10:48:10.151514Z",
     "start_time": "2022-09-12T10:48:10.092384Z"
    },
    "scrolled": true
   },
   "outputs": [],
   "source": [
    "# Checking the null values in Monthly_Balance column by grouping Customer_ID\n",
    "\n",
    "df.groupby(\"Customer_ID\").Monthly_Balance.value_counts(dropna=False).head(10)"
   ]
  },
  {
   "cell_type": "code",
   "execution_count": null,
   "id": "7b89fd37",
   "metadata": {
    "ExecuteTime": {
     "end_time": "2022-09-12T10:48:37.314080Z",
     "start_time": "2022-09-12T10:48:23.837311Z"
    }
   },
   "outputs": [],
   "source": [
    "# Checking the descriptive values in Monthly_Balance column by grouping Customer_ID\n",
    "\n",
    "df.groupby(\"Customer_ID\").Monthly_Balance.describe().head().T"
   ]
  },
  {
   "cell_type": "markdown",
   "id": "3d218641",
   "metadata": {},
   "source": [
    "According to the analysis above, firstly null values in Monthly_Balance column should be filled with interpolate method. Then the remaining blank values in the first row for each Customer should be filled with the minimum Monthly_Balance values of each Customer."
   ]
  },
  {
   "cell_type": "code",
   "execution_count": null,
   "id": "8556cec4",
   "metadata": {
    "ExecuteTime": {
     "end_time": "2022-09-12T10:49:24.965670Z",
     "start_time": "2022-09-12T10:49:22.186176Z"
    }
   },
   "outputs": [],
   "source": [
    "df[\"Monthly_Balance\"] = df.groupby(\"Customer_ID\")[\"Monthly_Balance\"].apply(lambda x : x.interpolate().fillna(x.min()))"
   ]
  },
  {
   "cell_type": "code",
   "execution_count": null,
   "id": "75c457ea",
   "metadata": {
    "ExecuteTime": {
     "end_time": "2022-09-12T10:50:43.491483Z",
     "start_time": "2022-09-12T10:50:30.042579Z"
    }
   },
   "outputs": [],
   "source": [
    "# Checking the descriptive values in Monthly_Balance column after filling missing values\n",
    "\n",
    "df.groupby(\"Customer_ID\").Monthly_Balance.describe().head(10).T"
   ]
  },
  {
   "cell_type": "code",
   "execution_count": null,
   "id": "8f881852",
   "metadata": {
    "ExecuteTime": {
     "end_time": "2022-09-12T10:53:52.174601Z",
     "start_time": "2022-09-12T10:53:52.084240Z"
    }
   },
   "outputs": [],
   "source": [
    "# Last check for null values in df\n",
    "\n",
    "df.isnull().sum()"
   ]
  },
  {
   "cell_type": "markdown",
   "id": "139bb37e",
   "metadata": {},
   "source": [
    "## <p style=\"background-color:#7da6ff; font-family:arial; color:#09042b; font-size:175%; text-align:center; border-radius:10px 10px;\">Handling With Outliers</p>\n",
    "\n",
    "<a id=\"6\"></a>\n",
    "<a href=\"#toc\" class=\"btn btn-primary btn-sm\" role=\"button\" aria-pressed=\"true\" \n",
    "style=\"color:#09042b; background-color:#7da6ff\" data-toggle=\"popover\">Content</a>"
   ]
  },
  {
   "cell_type": "markdown",
   "id": "cacb2dc3",
   "metadata": {},
   "source": [
    "## Handling with outliers for numerical features"
   ]
  },
  {
   "cell_type": "code",
   "execution_count": null,
   "id": "1b431e12",
   "metadata": {},
   "outputs": [],
   "source": [
    "# Creating a df_numeric contains only numerical features\n",
    "\n",
    "df_numeric = df.select_dtypes(exclude=[\"object\"])"
   ]
  },
  {
   "cell_type": "code",
   "execution_count": null,
   "id": "e47dc9ac",
   "metadata": {},
   "outputs": [],
   "source": [
    "# Checking the information about df_numeric\n",
    "\n",
    "df_numeric.info()"
   ]
  },
  {
   "cell_type": "code",
   "execution_count": null,
   "id": "d22d9df2",
   "metadata": {},
   "outputs": [],
   "source": [
    "# Checking the desciptive values in df\n",
    "\n",
    "df_numeric.describe()"
   ]
  },
  {
   "cell_type": "markdown",
   "id": "dae7fcc7",
   "metadata": {},
   "source": [
    "### Histplots for numerical features"
   ]
  },
  {
   "cell_type": "code",
   "execution_count": null,
   "id": "767af0c1",
   "metadata": {},
   "outputs": [],
   "source": [
    "fig_ = df_numeric.iloc[:,2:].hist(figsize=(12, 36), layout=(10,2), bins=30, edgecolor=\"black\");"
   ]
  },
  {
   "cell_type": "markdown",
   "id": "5480bbf7",
   "metadata": {},
   "source": [
    "### Boxplots for numeric columns by grouping Credit Score"
   ]
  },
  {
   "cell_type": "code",
   "execution_count": null,
   "id": "d8f82fc4",
   "metadata": {},
   "outputs": [],
   "source": [
    "fig = plt.figure(figsize=(10,36), dpi=200)\n",
    "for i, col in enumerate(df_numeric.iloc[:,2:].columns):\n",
    "        plt.subplot(10,2,i+1)\n",
    "        sns.boxplot(x= \"Credit_Score\", y=col, data=df)\n",
    "        plt.ticklabel_format(style='plain', axis='y')\n",
    "\n",
    "plt.tight_layout();"
   ]
  },
  {
   "cell_type": "markdown",
   "id": "7886f2c9",
   "metadata": {},
   "source": [
    "### Conclusion about plots of numeric columns\n",
    "\n",
    "When we examine the graphs above, it has been evaluated that there may be extreme values in the columns given below.\n",
    "\n",
    "* Age\n",
    "* Annual_Income\n",
    "* Monthly_Inhand_Salary\n",
    "* Num_Bank_Accounts\n",
    "* Num_Credit_Card\n",
    "* Interest_Rate\n",
    "* Num_of_Loan\n",
    "* Num_of_Delayed_Payment\n",
    "* Num_Credit_Inquiries\n",
    "* Total_EMI_per_month\n",
    "* Amount_invested_monthly\n",
    "\n",
    "First of all, extreme values in these columns will be studied."
   ]
  },
  {
   "cell_type": "markdown",
   "id": "81c9264e",
   "metadata": {},
   "source": [
    "### Defining a function to find iqr lower, upper limits and the number of extreme values"
   ]
  },
  {
   "cell_type": "code",
   "execution_count": null,
   "id": "100363d4",
   "metadata": {},
   "outputs": [],
   "source": [
    "def iqr_lower_upper (col) :\n",
    "    global lower, upper\n",
    "    q1 = df_numeric[col].quantile(0.25)\n",
    "    q3 = df_numeric[col].quantile(0.75)\n",
    "    iqr = q3 -q1\n",
    "    lower = round(q1 -1.5*iqr, 2)\n",
    "    upper = round(q3 + 1.5*iqr, 2)\n",
    "    nr_extreme = df.loc[(df[col] < lower) | (df[col] > upper)].shape[0] \n",
    "    print(f\"lower limit : {lower}\\nupper limit: {upper}\\nthe number of extreme values outside the lower and upper limits : {nr_extreme}\")"
   ]
  },
  {
   "cell_type": "markdown",
   "id": "f1cda3e9",
   "metadata": {},
   "source": [
    "### Age column"
   ]
  },
  {
   "cell_type": "code",
   "execution_count": null,
   "id": "7a4f098e",
   "metadata": {},
   "outputs": [],
   "source": [
    "# Finding iqr lower and upper limit of Age column\n",
    "\n",
    "iqr_lower_upper(\"Age\")"
   ]
  },
  {
   "cell_type": "code",
   "execution_count": null,
   "id": "a5f03f54",
   "metadata": {},
   "outputs": [],
   "source": [
    "# Checking the value counts of Age column by grouping Customer_ID\n",
    "\n",
    "df.groupby(\"Customer_ID\")[\"Age\"].value_counts().head()"
   ]
  },
  {
   "cell_type": "code",
   "execution_count": null,
   "id": "0a98c38e",
   "metadata": {},
   "outputs": [],
   "source": [
    "# checking the extreme values outside the lower and upper limits by sorting the Age value\n",
    "\n",
    "df[(df.Age < lower)|(df.Age > upper)][[\"Age\"]].value_counts(dropna=False).sort_index().head()"
   ]
  },
  {
   "cell_type": "markdown",
   "id": "31b2bf3a",
   "metadata": {},
   "source": [
    "**According to the  analysis above the extreme values in Age column outside the lower and upper limits should be replaced with np.nan. Then null values can be filled with ffill and bfill method.**"
   ]
  },
  {
   "cell_type": "code",
   "execution_count": null,
   "id": "dc3fce03",
   "metadata": {},
   "outputs": [],
   "source": [
    "# Replacing extreme values in Age column with np.nan\n",
    "\n",
    "df[\"Age\"] = df.Age.replace([df[(df.Age > upper) | (df.Age < 0)][\"Age\"]], np.nan)"
   ]
  },
  {
   "cell_type": "code",
   "execution_count": null,
   "id": "bbaefcca",
   "metadata": {},
   "outputs": [],
   "source": [
    "# Filling null values with ffill and bfill method by grouping Customer_ID\n",
    "\n",
    "df[\"Age\"] = df.groupby(\"Customer_ID\")[\"Age\"].fillna(method=\"ffill\").fillna(method=\"bfill\").astype(int)"
   ]
  },
  {
   "cell_type": "markdown",
   "id": "0d111f22",
   "metadata": {},
   "source": [
    "### Annual_Income column"
   ]
  },
  {
   "cell_type": "code",
   "execution_count": null,
   "id": "d77c6166",
   "metadata": {},
   "outputs": [],
   "source": [
    "# Finding iqr lower and upper limit of Annual_Income column\n",
    "\n",
    "iqr_lower_upper(\"Annual_Income\")"
   ]
  },
  {
   "cell_type": "code",
   "execution_count": null,
   "id": "1bbe8001",
   "metadata": {},
   "outputs": [],
   "source": [
    "# Checking the value counts of Annual_Income column by grouping Customer_ID\n",
    "\n",
    "df.groupby(\"Customer_ID\")[\"Annual_Income\"].value_counts().head()"
   ]
  },
  {
   "cell_type": "code",
   "execution_count": null,
   "id": "c067e763",
   "metadata": {},
   "outputs": [],
   "source": [
    "# checking the extreme values outside the lower and upper limits by sorting the Annual_Income value\n",
    "\n",
    "df[(df.Annual_Income < lower)|(df.Annual_Income > upper)][[\"Annual_Income\"]].value_counts(dropna=False).sort_index().head()"
   ]
  },
  {
   "cell_type": "code",
   "execution_count": null,
   "id": "79507666",
   "metadata": {},
   "outputs": [],
   "source": [
    "# Checking the Annual_Income value less than 0\n",
    "\n",
    "df[(df.Annual_Income < 0)][[\"Annual_Income\"]].count()"
   ]
  },
  {
   "cell_type": "code",
   "execution_count": null,
   "id": "f9687d6b",
   "metadata": {},
   "outputs": [],
   "source": [
    "# Checking the customer information whose Annual_Income value is greater than upper limit\n",
    "\n",
    "df[(df.Annual_Income > upper)].head()"
   ]
  },
  {
   "cell_type": "code",
   "execution_count": null,
   "id": "b0b66c98",
   "metadata": {},
   "outputs": [],
   "source": [
    "# Checking the Annual_Income value for Customer_ID = 10314\n",
    "\n",
    "df[df.Customer_ID == 10314][[\"Customer_ID\",\"Annual_Income\"]]"
   ]
  },
  {
   "cell_type": "markdown",
   "id": "bb2b405d",
   "metadata": {},
   "source": [
    "**According to the  analysis above the extreme values in Annual_Income column outside the 0 and upper limits should be replaced with np.nan. Then null values can be filled with ffill and bfill method.**"
   ]
  },
  {
   "cell_type": "code",
   "execution_count": null,
   "id": "839f20fb",
   "metadata": {},
   "outputs": [],
   "source": [
    "# Replacing extreme values in Annual_Income column with np.nan\n",
    "\n",
    "df[\"Annual_Income\"] = df.Annual_Income.replace([df[(df.Annual_Income > upper) | (df.Annual_Income < 0)][\"Annual_Income\"]], np.nan)"
   ]
  },
  {
   "cell_type": "code",
   "execution_count": null,
   "id": "204a10b5",
   "metadata": {},
   "outputs": [],
   "source": [
    "# Filling null values with ffill and bfill method by grouping Customer_ID\n",
    "\n",
    "df[\"Annual_Income\"] = df.groupby(\"Customer_ID\")[\"Annual_Income\"].fillna(method=\"ffill\").fillna(method=\"bfill\")"
   ]
  },
  {
   "cell_type": "markdown",
   "id": "eb03f768",
   "metadata": {},
   "source": [
    "### Monthly_Inhand_Salary"
   ]
  },
  {
   "cell_type": "code",
   "execution_count": null,
   "id": "c3ca5bb3",
   "metadata": {},
   "outputs": [],
   "source": [
    "# Finding iqr lower and upper limit of Monthly_Inhand_Salary column\n",
    "\n",
    "iqr_lower_upper(\"Monthly_Inhand_Salary\")"
   ]
  },
  {
   "cell_type": "code",
   "execution_count": null,
   "id": "d80a8d95",
   "metadata": {},
   "outputs": [],
   "source": [
    "# Checking the value counts of Monthly_Inhand_Salary column by grouping Customer_ID\n",
    "\n",
    "df.groupby(\"Customer_ID\")[\"Monthly_Inhand_Salary\"].value_counts().head()"
   ]
  },
  {
   "cell_type": "code",
   "execution_count": null,
   "id": "c601d9b8",
   "metadata": {},
   "outputs": [],
   "source": [
    "# checking the extreme values outside the upper limit by sorting the Monthly_Inhand_Salary value\n",
    "\n",
    "df[(df.Monthly_Inhand_Salary > upper)][[\"Monthly_Inhand_Salary\"]].value_counts(dropna=False).sort_index().head()"
   ]
  },
  {
   "cell_type": "code",
   "execution_count": null,
   "id": "95a08a47",
   "metadata": {},
   "outputs": [],
   "source": [
    "# Checking the Monthly_Inhand_Salary value less than 0\n",
    "\n",
    "df[(df.Monthly_Inhand_Salary < 0)][[\"Monthly_Inhand_Salary\"]].count()"
   ]
  },
  {
   "cell_type": "code",
   "execution_count": null,
   "id": "6a9c9ecb",
   "metadata": {},
   "outputs": [],
   "source": [
    "# Checking the scatterplot of Monthly_Inhand_Salary and Annual_Income to determine outlier limits\n",
    "\n",
    "sns.scatterplot(x=df.Monthly_Inhand_Salary, y= df.Annual_Income, data=df, hue=\"Credit_Score\", alpha=0.6);"
   ]
  },
  {
   "cell_type": "markdown",
   "id": "fba92f5d",
   "metadata": {},
   "source": [
    "As it is seen from the scatterplot there are strong correlations between Monthly_Inhand_Salary and Annual_Income and it was concluded that Monthly_Inhand_Salary value greater or equal to 11900 and Annual_Income value less than 120000 are outliers.\n",
    "So out of these values can be dropped from df."
   ]
  },
  {
   "cell_type": "code",
   "execution_count": null,
   "id": "ed280cd8",
   "metadata": {},
   "outputs": [],
   "source": [
    "df[(df.Monthly_Inhand_Salary >= 11900) & (df.Annual_Income < 120000)].Customer_ID.value_counts().head()"
   ]
  },
  {
   "cell_type": "code",
   "execution_count": null,
   "id": "88564694",
   "metadata": {},
   "outputs": [],
   "source": [
    "df[df.Customer_ID == 37775] # The Annual_Income can't be less than Monthly_Inhand_Salary! It should be dropped. "
   ]
  },
  {
   "cell_type": "code",
   "execution_count": null,
   "id": "95061bf4",
   "metadata": {},
   "outputs": [],
   "source": [
    "# Dropping outliers\n",
    "\n",
    "df.drop(index=df[(df.Monthly_Inhand_Salary >= 11900) & (df.Annual_Income < 120000)].index, inplace=True)"
   ]
  },
  {
   "cell_type": "code",
   "execution_count": null,
   "id": "5ce7e126",
   "metadata": {},
   "outputs": [],
   "source": [
    "df.shape"
   ]
  },
  {
   "cell_type": "markdown",
   "id": "d8aaf89d",
   "metadata": {},
   "source": [
    "### Num_Bank_Accounts"
   ]
  },
  {
   "cell_type": "code",
   "execution_count": null,
   "id": "c210b3bc",
   "metadata": {},
   "outputs": [],
   "source": [
    "# Finding iqr lower and upper limit of Num_Bank_Accounts column\n",
    "\n",
    "iqr_lower_upper(\"Num_Bank_Accounts\")"
   ]
  },
  {
   "cell_type": "code",
   "execution_count": null,
   "id": "1b84bdb8",
   "metadata": {},
   "outputs": [],
   "source": [
    "# Checking the value counts of Num_Bank_Accounts column by grouping Customer_ID\n",
    "\n",
    "df.groupby(\"Customer_ID\")[\"Num_Bank_Accounts\"].value_counts().head()"
   ]
  },
  {
   "cell_type": "code",
   "execution_count": null,
   "id": "a30a5245",
   "metadata": {},
   "outputs": [],
   "source": [
    "# Checking the scatterplot of Annual_Income and Num_Bank_Accounts to determine outliers\n",
    "\n",
    "sns.scatterplot(x= df.Num_Bank_Accounts, y=df.Annual_Income,  data=df, hue=\"Credit_Score\", alpha=0.6);"
   ]
  },
  {
   "cell_type": "code",
   "execution_count": null,
   "id": "7c760bda",
   "metadata": {},
   "outputs": [],
   "source": [
    "# checking the extreme values in Num_Bank_Accounts outside the lower and upper limits by sorting the Num_Bank_Accounts value\n",
    "\n",
    "df[(df.Num_Bank_Accounts < lower)|(df.Num_Bank_Accounts > upper)][[\"Num_Bank_Accounts\"]].value_counts(dropna=False).sort_index().head()"
   ]
  },
  {
   "cell_type": "code",
   "execution_count": null,
   "id": "eb4205ae",
   "metadata": {},
   "outputs": [],
   "source": [
    "# Checking the number of Num_Bank_Accounts whose Num_Bank_Accounts value less than 0\n",
    "\n",
    "(df.Num_Bank_Accounts < 0).sum()"
   ]
  },
  {
   "cell_type": "code",
   "execution_count": null,
   "id": "edf03063",
   "metadata": {},
   "outputs": [],
   "source": [
    "# Checking the customer information whose Num_Bank_Accounts value is less than 0\n",
    "\n",
    "df[(df.Num_Bank_Accounts < 0)].head()"
   ]
  },
  {
   "cell_type": "code",
   "execution_count": null,
   "id": "e8318869",
   "metadata": {},
   "outputs": [],
   "source": [
    "# Checking the Num_Bank_Accounts value for Customer_ID = 10314\n",
    "\n",
    "df[df.Customer_ID == 17340][[\"Customer_ID\",\"Num_Bank_Accounts\"]]"
   ]
  },
  {
   "cell_type": "code",
   "execution_count": null,
   "id": "5cf866b1",
   "metadata": {},
   "outputs": [],
   "source": [
    "# checking the extreme values in Num_Bank_Accounts column outside the upper limit\n",
    "\n",
    "df[(df.Num_Bank_Accounts > upper)].head()"
   ]
  },
  {
   "cell_type": "code",
   "execution_count": null,
   "id": "b6dc8ab3",
   "metadata": {},
   "outputs": [],
   "source": [
    "# checking the extreme values in Num_Bank_Accounts column outside the upper limit for Customer_ID = 2825\n",
    "\n",
    "df[df.Customer_ID == 2825][[\"Customer_ID\",\"Num_Bank_Accounts\"]]"
   ]
  },
  {
   "cell_type": "markdown",
   "id": "a06a9ae1",
   "metadata": {},
   "source": [
    "**According to the analysis above the extreme values in Num_Bank_Accounts column less than 0 can be replaced with 1 as the former values in Num_Bank_Accounts  are 0 and the Num_Credit_Card of these Customers are greater than one.**\n",
    "\n",
    "**Additionally the extreme values in Num_Bank_Accounts column greater than upper limit should be replaced with np.nan. Then null values can be filled with ffill and bfill method.**"
   ]
  },
  {
   "cell_type": "code",
   "execution_count": null,
   "id": "206ab373",
   "metadata": {},
   "outputs": [],
   "source": [
    "# Replacing the extreme values in Num_Bank_Accounts column less than 0 with np.nan and then filling null values with 1\n",
    "\n",
    "df[\"Num_Bank_Accounts\"] = df.Num_Bank_Accounts.replace([df[(df.Num_Bank_Accounts < 0)][\"Num_Bank_Accounts\"]], np.nan).fillna(1)"
   ]
  },
  {
   "cell_type": "code",
   "execution_count": null,
   "id": "7f73efbd",
   "metadata": {},
   "outputs": [],
   "source": [
    "# Replacing the extreme values in Num_Bank_Accounts column greater than upper limit with np.nan and then\n",
    "# filling null values with ffill and bfill method.\n",
    "df[\"Num_Bank_Accounts\"] = df.Num_Bank_Accounts.replace([df[(df.Num_Bank_Accounts > upper)][\"Num_Bank_Accounts\"]], np.nan)\n",
    "df[\"Num_Bank_Accounts\"] = df.groupby(\"Customer_ID\")[\"Num_Bank_Accounts\"].fillna(method=\"ffill\").fillna(method=\"bfill\")"
   ]
  },
  {
   "cell_type": "code",
   "execution_count": null,
   "id": "f1102ddb",
   "metadata": {},
   "outputs": [],
   "source": [
    "# Checking the scatterplot of Annual_Income and Num_Bank_Accounts after handling with outliers\n",
    "\n",
    "sns.scatterplot(x= df.Num_Bank_Accounts, y=df.Annual_Income,  data=df, hue=\"Credit_Score\", alpha=0.6);"
   ]
  },
  {
   "cell_type": "markdown",
   "id": "2d6332ca",
   "metadata": {},
   "source": [
    "### Num_Credit_Card"
   ]
  },
  {
   "cell_type": "code",
   "execution_count": null,
   "id": "97fa31f7",
   "metadata": {},
   "outputs": [],
   "source": [
    "# Finding iqr lower and upper limit of Num_Credit_Card column\n",
    "\n",
    "iqr_lower_upper(\"Num_Credit_Card\")"
   ]
  },
  {
   "cell_type": "code",
   "execution_count": null,
   "id": "7a411b71",
   "metadata": {},
   "outputs": [],
   "source": [
    "# Checking the value counts of Num_Credit_Card column by grouping Customer_ID\n",
    "\n",
    "df.groupby(\"Customer_ID\")[\"Num_Credit_Card\"].value_counts().head(6)"
   ]
  },
  {
   "cell_type": "code",
   "execution_count": null,
   "id": "890febcc",
   "metadata": {},
   "outputs": [],
   "source": [
    "# Checking the scatterplot of Annual_Income and Num_Credit_Card to determine outliers\n",
    "\n",
    "sns.scatterplot(x= df.Num_Credit_Card, y=df.Annual_Income,  data=df, hue=\"Credit_Score\", alpha=0.6);"
   ]
  },
  {
   "cell_type": "code",
   "execution_count": null,
   "id": "0d8a504a",
   "metadata": {},
   "outputs": [],
   "source": [
    "# checking the extreme values in Num_Credit_Card outside the lower and upper limits by sorting the Num_Credit_Card value\n",
    "\n",
    "df[(df.Num_Credit_Card < lower)|(df.Num_Credit_Card > upper)][[\"Num_Credit_Card\"]].value_counts(dropna=False).sort_index().head()"
   ]
  },
  {
   "cell_type": "code",
   "execution_count": null,
   "id": "e4757026",
   "metadata": {},
   "outputs": [],
   "source": [
    "# Checking the number of Num_Credit_Card whose Num_Credit_Card value less than 0\n",
    "\n",
    "(df.Num_Credit_Card < 0).sum()"
   ]
  },
  {
   "cell_type": "code",
   "execution_count": null,
   "id": "07370cba",
   "metadata": {},
   "outputs": [],
   "source": [
    "# Checking the number of Num_Credit_Card whose Num_Credit_Card value greater than upper limit\n",
    "\n",
    "(df.Num_Credit_Card > upper).sum()"
   ]
  },
  {
   "cell_type": "code",
   "execution_count": null,
   "id": "c96121f7",
   "metadata": {},
   "outputs": [],
   "source": [
    "# Checking the customer information whose Num_Credit_Card value greater than upper limit\n",
    "\n",
    "df[df.Num_Credit_Card > upper].head()"
   ]
  },
  {
   "cell_type": "code",
   "execution_count": null,
   "id": "89dadbe4",
   "metadata": {},
   "outputs": [],
   "source": [
    "# Checking the Num_Credit_Card value for Customer_ID = 8625\n",
    "\n",
    "df[df.Customer_ID == 8625][[\"Customer_ID\",\"Num_Credit_Card\"]]"
   ]
  },
  {
   "cell_type": "markdown",
   "id": "b0804d1a",
   "metadata": {},
   "source": [
    "**According to the analysis above the extreme values in Annual_Income column outside the upper limit should be replaced with np.nan. Then null values can be filled with ffill and bfill method.**"
   ]
  },
  {
   "cell_type": "code",
   "execution_count": null,
   "id": "94bea82d",
   "metadata": {},
   "outputs": [],
   "source": [
    "# Replacing the extreme values in Num_Credit_Card column greater than upper limit with np.nan and then\n",
    "# filling null values with ffill and bfill method by grouping Customer_ID.\n",
    "\n",
    "df[\"Num_Credit_Card\"] = df.Num_Credit_Card.replace([df[(df.Num_Credit_Card > upper)][\"Num_Credit_Card\"]], np.nan)\n",
    "df[\"Num_Credit_Card\"] = df.groupby(\"Customer_ID\")[\"Num_Credit_Card\"].fillna(method=\"ffill\").fillna(method=\"bfill\")"
   ]
  },
  {
   "cell_type": "code",
   "execution_count": null,
   "id": "0ba668fc",
   "metadata": {},
   "outputs": [],
   "source": [
    "# Checking the scatterplot of Annual_Income and Num_Credit_Card after handling with outliers\n",
    "\n",
    "sns.scatterplot(x= df.Num_Credit_Card, y=df.Annual_Income,  data=df, hue=\"Credit_Score\", alpha=0.6);"
   ]
  },
  {
   "cell_type": "markdown",
   "id": "1643f23d",
   "metadata": {},
   "source": [
    "### Interest_Rate column"
   ]
  },
  {
   "cell_type": "code",
   "execution_count": null,
   "id": "fe0c1fa3",
   "metadata": {},
   "outputs": [],
   "source": [
    "# Finding iqr lower and upper limit of Interest_Rate column\n",
    "\n",
    "iqr_lower_upper(\"Interest_Rate\")"
   ]
  },
  {
   "cell_type": "code",
   "execution_count": null,
   "id": "5766e26b",
   "metadata": {},
   "outputs": [],
   "source": [
    "# Checking the value counts of Interest_Rate column by grouping Customer_ID\n",
    "\n",
    "df.groupby(\"Customer_ID\")[\"Interest_Rate\"].value_counts().head(10)"
   ]
  },
  {
   "cell_type": "code",
   "execution_count": null,
   "id": "bf7dfb7a",
   "metadata": {},
   "outputs": [],
   "source": [
    "# Checking the scatterplot of Annual_Income and Interest_Rate to determine outliers\n",
    "\n",
    "sns.scatterplot(x= df.Interest_Rate, y=df.Annual_Income,  data=df, hue=\"Credit_Score\", alpha=0.6);"
   ]
  },
  {
   "cell_type": "code",
   "execution_count": null,
   "id": "9da32fd7",
   "metadata": {},
   "outputs": [],
   "source": [
    "# checking the extreme values in Interest_Rate outside the lower and upper limits by sorting the Interest_Rate value\n",
    "\n",
    "df[(df.Interest_Rate < lower)|(df.Interest_Rate > upper)][[\"Interest_Rate\"]].value_counts(dropna=False).sort_index().head()"
   ]
  },
  {
   "cell_type": "code",
   "execution_count": null,
   "id": "99a908ea",
   "metadata": {},
   "outputs": [],
   "source": [
    "# Checking the number of Interest_Rate whose Interest_Rate value less than 0\n",
    "\n",
    "(df.Interest_Rate < 0).sum()"
   ]
  },
  {
   "cell_type": "code",
   "execution_count": null,
   "id": "ade33ab4",
   "metadata": {},
   "outputs": [],
   "source": [
    "# Checking the number of Interest_Rate whose Interest_Rate value greater than upper limit\n",
    "\n",
    "(df.Interest_Rate > upper).sum()"
   ]
  },
  {
   "cell_type": "code",
   "execution_count": null,
   "id": "0a173929",
   "metadata": {},
   "outputs": [],
   "source": [
    "# Checking the customer information whose Interest_Rate value greater than upper limit\n",
    "\n",
    "df[df.Interest_Rate > upper].head()"
   ]
  },
  {
   "cell_type": "code",
   "execution_count": null,
   "id": "21dcac93",
   "metadata": {},
   "outputs": [],
   "source": [
    "# Checking the Interest_Rate value for Customer_ID = 38382\n",
    "\n",
    "df[df.Customer_ID == 38382][[\"Customer_ID\",\"Interest_Rate\"]]"
   ]
  },
  {
   "cell_type": "markdown",
   "id": "085de3c2",
   "metadata": {},
   "source": [
    "**According to the analysis above the extreme values in Interest_Rate column outside the upper limit should be replaced with np.nan. Then null values can be filled with ffill and bfill method.**"
   ]
  },
  {
   "cell_type": "code",
   "execution_count": null,
   "id": "9ef67a95",
   "metadata": {},
   "outputs": [],
   "source": [
    "# Replacing the extreme values in Interest_Rate column greater than upper limit with np.nan and then\n",
    "# filling null values with ffill and bfill method by grouping Customer_ID.\n",
    "\n",
    "df[\"Interest_Rate\"] = df.Interest_Rate.replace([df[(df.Interest_Rate > upper)][\"Interest_Rate\"]], np.nan)\n",
    "df[\"Interest_Rate\"] = df.groupby(\"Customer_ID\")[\"Interest_Rate\"].fillna(method=\"ffill\").fillna(method=\"bfill\")"
   ]
  },
  {
   "cell_type": "code",
   "execution_count": null,
   "id": "a61c5295",
   "metadata": {},
   "outputs": [],
   "source": [
    "# Checking the scatterplot of Annual_Income and Interest_Rate after handling with outliers\n",
    "\n",
    "sns.scatterplot(x= df.Interest_Rate, y=df.Annual_Income,  data=df, hue=\"Credit_Score\", alpha=0.6);"
   ]
  },
  {
   "cell_type": "markdown",
   "id": "3cefddc6",
   "metadata": {},
   "source": [
    "### Num_of_Loan column"
   ]
  },
  {
   "cell_type": "code",
   "execution_count": null,
   "id": "45be3e81",
   "metadata": {},
   "outputs": [],
   "source": [
    "# Finding iqr lower and upper limit of Num_of_Loan column\n",
    "\n",
    "iqr_lower_upper(\"Num_of_Loan\")"
   ]
  },
  {
   "cell_type": "code",
   "execution_count": null,
   "id": "e3e61872",
   "metadata": {},
   "outputs": [],
   "source": [
    "# Checking the value counts of Num_of_Loan column by grouping Customer_ID\n",
    "\n",
    "df.groupby(\"Customer_ID\")[\"Num_of_Loan\"].value_counts().head()"
   ]
  },
  {
   "cell_type": "code",
   "execution_count": null,
   "id": "37108282",
   "metadata": {},
   "outputs": [],
   "source": [
    "# Checking the scatterplot of Annual_Income and Num_of_Loan to determine outliers\n",
    "\n",
    "sns.scatterplot(x= df.Num_of_Loan, y=df.Annual_Income,  data=df, hue=\"Credit_Score\", alpha=0.6);"
   ]
  },
  {
   "cell_type": "code",
   "execution_count": null,
   "id": "787b7488",
   "metadata": {},
   "outputs": [],
   "source": [
    "# checking the extreme values in Num_of_Loan outside the lower and upper limits by sorting the Num_of_Loan value\n",
    "\n",
    "df[(df.Num_of_Loan < lower)|(df.Num_of_Loan > upper)][[\"Num_of_Loan\"]].value_counts(dropna=False).sort_index().head()"
   ]
  },
  {
   "cell_type": "code",
   "execution_count": null,
   "id": "ae178a83",
   "metadata": {},
   "outputs": [],
   "source": [
    "# Checking the number of Num_of_Loan whose Num_of_Loan value less than 0\n",
    "\n",
    "(df.Num_of_Loan < 0).sum()"
   ]
  },
  {
   "cell_type": "code",
   "execution_count": null,
   "id": "4734ab4f",
   "metadata": {},
   "outputs": [],
   "source": [
    "# Checking the customer information whose Num_of_Loan value less than 0\n",
    "\n",
    "df[df.Num_of_Loan < 0].head()"
   ]
  },
  {
   "cell_type": "code",
   "execution_count": null,
   "id": "dbed1ee9",
   "metadata": {},
   "outputs": [],
   "source": [
    "# Checking the Num_of_Loan value for Customer_ID = 7387\n",
    "\n",
    "df[df.Customer_ID == 7387][[\"Customer_ID\",\"Num_of_Loan\"]]"
   ]
  },
  {
   "cell_type": "code",
   "execution_count": null,
   "id": "4246dc90",
   "metadata": {},
   "outputs": [],
   "source": [
    "# Checking the number of Num_of_Loan whose Num_of_Loan value greater than upper limit\n",
    "\n",
    "(df.Num_of_Loan > upper).sum()"
   ]
  },
  {
   "cell_type": "code",
   "execution_count": null,
   "id": "a1f9087f",
   "metadata": {},
   "outputs": [],
   "source": [
    "# Checking the customer information whose Num_of_Loan value greater than upper limit\n",
    "\n",
    "df[df.Num_of_Loan > upper].head()"
   ]
  },
  {
   "cell_type": "code",
   "execution_count": null,
   "id": "06916bd5",
   "metadata": {},
   "outputs": [],
   "source": [
    "# Checking the Num_of_Loan value for Customer_ID = 3929\n",
    "\n",
    "df[df.Customer_ID == 3929][[\"Customer_ID\",\"Num_of_Loan\"]]"
   ]
  },
  {
   "cell_type": "markdown",
   "id": "f615ffcb",
   "metadata": {},
   "source": [
    "**According to the analysis above the extreme values in Num_of_Loan column outside the 0 and upper limit should be replaced with np.nan. Then null values can be filled with ffill and bfill method.**"
   ]
  },
  {
   "cell_type": "code",
   "execution_count": null,
   "id": "6712636c",
   "metadata": {},
   "outputs": [],
   "source": [
    "# Replacing the extreme values in Num_of_Loan column less than 0 and greater than upper limit with np.nan and then\n",
    "# filling null values with ffill and bfill method by grouping Customer_ID.\n",
    "\n",
    "df[\"Num_of_Loan\"] = df.Num_of_Loan.replace([df[(df.Num_of_Loan < 0) | (df.Num_of_Loan > upper)][\"Num_of_Loan\"]], np.nan)\n",
    "df[\"Num_of_Loan\"] = df.groupby(\"Customer_ID\")[\"Num_of_Loan\"].fillna(method=\"ffill\").fillna(method=\"bfill\")"
   ]
  },
  {
   "cell_type": "code",
   "execution_count": null,
   "id": "e8219b87",
   "metadata": {},
   "outputs": [],
   "source": [
    "# Checking the scatterplot of Annual_Income and Num_of_Loan after handling with outliers\n",
    "\n",
    "sns.scatterplot(x= df.Num_of_Loan, y=df.Annual_Income,  data=df, hue=\"Credit_Score\", alpha=0.6);"
   ]
  },
  {
   "cell_type": "markdown",
   "id": "49abf63c",
   "metadata": {},
   "source": [
    "### Num_of_Delayed_Payment column"
   ]
  },
  {
   "cell_type": "code",
   "execution_count": null,
   "id": "6c1f5d12",
   "metadata": {},
   "outputs": [],
   "source": [
    "# Finding iqr lower and upper limit of Num_of_Delayed_Payment column\n",
    "\n",
    "iqr_lower_upper(\"Num_of_Delayed_Payment\")"
   ]
  },
  {
   "cell_type": "code",
   "execution_count": null,
   "id": "76624109",
   "metadata": {},
   "outputs": [],
   "source": [
    "# Checking the value counts of Num_of_Delayed_Payment column by grouping Customer_ID\n",
    "\n",
    "df.groupby(\"Customer_ID\")[\"Num_of_Delayed_Payment\"].value_counts().head(7)"
   ]
  },
  {
   "cell_type": "code",
   "execution_count": null,
   "id": "8bddf907",
   "metadata": {},
   "outputs": [],
   "source": [
    "# Checking the scatterplot of Annual_Income and Num_of_Delayed_Payment to determine outliers\n",
    "\n",
    "sns.scatterplot(x= df.Num_of_Delayed_Payment, y=df.Annual_Income,  data=df, hue=\"Credit_Score\", alpha=0.6);"
   ]
  },
  {
   "cell_type": "code",
   "execution_count": null,
   "id": "33c66eca",
   "metadata": {},
   "outputs": [],
   "source": [
    "# checking the extreme values in Num_of_Delayed_Payment less than 0 and greater than upper limit by sorting the Num_of_Delayed_Payment value\n",
    "\n",
    "df[(df.Num_of_Delayed_Payment < 0)|(df.Num_of_Delayed_Payment > upper)][[\"Num_of_Delayed_Payment\"]].value_counts(dropna=False).sort_index().head()"
   ]
  },
  {
   "cell_type": "code",
   "execution_count": null,
   "id": "33231980",
   "metadata": {},
   "outputs": [],
   "source": [
    "# Checking the number of Num_of_Delayed_Payment whose Num_of_Delayed_Payment value less than 0\n",
    "\n",
    "(df.Num_of_Delayed_Payment < 0).sum()"
   ]
  },
  {
   "cell_type": "code",
   "execution_count": null,
   "id": "1ea299d1",
   "metadata": {},
   "outputs": [],
   "source": [
    "# Checking the customer information whose Num_of_Delayed_Payment value less than 0\n",
    "\n",
    "df[df.Num_of_Delayed_Payment < 0].head()"
   ]
  },
  {
   "cell_type": "code",
   "execution_count": null,
   "id": "8f277eba",
   "metadata": {},
   "outputs": [],
   "source": [
    "# Checking the Num_of_Delayed_Payment value for Customer_ID = 8625\n",
    "\n",
    "df[df.Customer_ID == 8625][[\"Customer_ID\",\"Num_of_Delayed_Payment\"]]"
   ]
  },
  {
   "cell_type": "code",
   "execution_count": null,
   "id": "2347190c",
   "metadata": {},
   "outputs": [],
   "source": [
    "# Checking the number of Num_of_Delayed_Payment whose Num_of_Delayed_Payment value greater than upper limit\n",
    "\n",
    "(df.Num_of_Delayed_Payment > upper).sum()"
   ]
  },
  {
   "cell_type": "code",
   "execution_count": null,
   "id": "e80d2da5",
   "metadata": {},
   "outputs": [],
   "source": [
    "# Checking the customer information whose Num_of_Delayed_Payment value greater than upper limit\n",
    "\n",
    "df[df.Num_of_Delayed_Payment > upper].head()"
   ]
  },
  {
   "cell_type": "code",
   "execution_count": null,
   "id": "521c080f",
   "metadata": {},
   "outputs": [],
   "source": [
    "# Checking the Num_of_Delayed_Payment value for Customer_ID = 24648\n",
    "\n",
    "df[df.Customer_ID == 24648][[\"Customer_ID\",\"Num_of_Delayed_Payment\"]]"
   ]
  },
  {
   "cell_type": "markdown",
   "id": "354c3e4b",
   "metadata": {},
   "source": [
    "**According to the analysis above the extreme values in Num_of_Delayed_Payment column less than 0 and greater than upper limit should be replaced with np.nan. Then null values can be filled with mode value for each Customer by grouping Customer_ID.**"
   ]
  },
  {
   "cell_type": "code",
   "execution_count": null,
   "id": "e816212c",
   "metadata": {},
   "outputs": [],
   "source": [
    "# Replacing the extreme values in Num_of_Delayed_Payment column less than 0 and greater than upper limit with np.nan and then\n",
    "# filling null values with ffill and bfill method by grouping Customer_ID.\n",
    "\n",
    "df[\"Num_of_Delayed_Payment\"] = df.Num_of_Delayed_Payment.replace([df[(df.Num_of_Delayed_Payment < 0) | (df.Num_of_Delayed_Payment > upper)][\"Num_of_Delayed_Payment\"]], np.nan)\n",
    "df[\"Num_of_Delayed_Payment\"] = df.groupby(\"Customer_ID\")[\"Num_of_Delayed_Payment\"].apply(lambda x : x.fillna(x.mode()[0]))"
   ]
  },
  {
   "cell_type": "code",
   "execution_count": null,
   "id": "46da25c3",
   "metadata": {},
   "outputs": [],
   "source": [
    "# Checking the scatterplot of Annual_Income and Num_of_Delayed_Payment after handling with outliers\n",
    "\n",
    "sns.scatterplot(x= df.Num_of_Delayed_Payment, y=df.Annual_Income,  data=df, hue=\"Credit_Score\", alpha=0.6);"
   ]
  },
  {
   "cell_type": "markdown",
   "id": "8b5400f3",
   "metadata": {},
   "source": [
    "### Num_Credit_Inquiries column"
   ]
  },
  {
   "cell_type": "code",
   "execution_count": null,
   "id": "ffc18bfc",
   "metadata": {},
   "outputs": [],
   "source": [
    "# Finding iqr lower and upper limit of Num_Credit_Inquiries column\n",
    "\n",
    "iqr_lower_upper(\"Num_Credit_Inquiries\")"
   ]
  },
  {
   "cell_type": "code",
   "execution_count": null,
   "id": "c24306a8",
   "metadata": {},
   "outputs": [],
   "source": [
    "# Checking the value counts of Num_Credit_Inquiries column by grouping Customer_ID\n",
    "\n",
    "df.groupby(\"Customer_ID\")[\"Num_Credit_Inquiries\"].value_counts().head()"
   ]
  },
  {
   "cell_type": "code",
   "execution_count": null,
   "id": "1081eece",
   "metadata": {},
   "outputs": [],
   "source": [
    "# Checking the scatterplot of Annual_Income and Num_Credit_Inquiries to determine outliers\n",
    "\n",
    "sns.scatterplot(x= df.Num_Credit_Inquiries, y=df.Annual_Income,  data=df, hue=\"Credit_Score\", alpha=0.6);"
   ]
  },
  {
   "cell_type": "code",
   "execution_count": null,
   "id": "e224f1a8",
   "metadata": {},
   "outputs": [],
   "source": [
    "# Checking the extreme values in Num_Credit_Inquiries less than 0 and greater than upper limit by sorting the Num_Credit_Inquiries value\n",
    "\n",
    "df[(df.Num_Credit_Inquiries < 0)|(df.Num_Credit_Inquiries > upper)][[\"Num_Credit_Inquiries\"]].value_counts(dropna=False).sort_index().head()"
   ]
  },
  {
   "cell_type": "code",
   "execution_count": null,
   "id": "7402af81",
   "metadata": {},
   "outputs": [],
   "source": [
    "# Checking the number of Num_Credit_Inquiries whose Num_Credit_Inquiries value less than 0\n",
    "\n",
    "(df.Num_Credit_Inquiries < 0).sum()"
   ]
  },
  {
   "cell_type": "code",
   "execution_count": null,
   "id": "f475d5c5",
   "metadata": {},
   "outputs": [],
   "source": [
    "# Checking the number of Num_Credit_Inquiries whose Num_Credit_Inquiries value greater than upper limit\n",
    "\n",
    "(df.Num_Credit_Inquiries > upper).sum()"
   ]
  },
  {
   "cell_type": "code",
   "execution_count": null,
   "id": "a8ac4df0",
   "metadata": {},
   "outputs": [],
   "source": [
    "# Checking the customer information whose Num_Credit_Inquiries value greater than upper limit\n",
    "\n",
    "df[df.Num_Credit_Inquiries > upper].head()"
   ]
  },
  {
   "cell_type": "code",
   "execution_count": null,
   "id": "d3d9bd08",
   "metadata": {},
   "outputs": [],
   "source": [
    "# Checking the Num_Credit_Inquiries value for Customer_ID = 41326\n",
    "\n",
    "df[df.Customer_ID == 41326][[\"Customer_ID\",\"Num_Credit_Inquiries\"]]"
   ]
  },
  {
   "cell_type": "markdown",
   "id": "bcfb7d35",
   "metadata": {},
   "source": [
    "**According to the analysis above the extreme values in Num_Credit_Inquiries column greater than upper limit should be replaced with np.nan. Then null values can be filled with ffill and bfill method.**"
   ]
  },
  {
   "cell_type": "code",
   "execution_count": null,
   "id": "1843c8c3",
   "metadata": {},
   "outputs": [],
   "source": [
    "# Replacing the extreme values in Num_of_Loan column less than 0 and greater than upper limit with np.nan and then\n",
    "# filling null values with ffill and bfill method by grouping Customer_ID.\n",
    "\n",
    "df[\"Num_Credit_Inquiries\"] = df.Num_Credit_Inquiries.replace([df[(df.Num_Credit_Inquiries > upper)][\"Num_Credit_Inquiries\"]], np.nan)\n",
    "df[\"Num_Credit_Inquiries\"] = df.groupby(\"Customer_ID\")[\"Num_Credit_Inquiries\"].fillna(method=\"ffill\").fillna(method=\"bfill\")"
   ]
  },
  {
   "cell_type": "code",
   "execution_count": null,
   "id": "dd8acb20",
   "metadata": {},
   "outputs": [],
   "source": [
    "# Checking the scatterplot of Annual_Income and Num_Credit_Inquiries after handling with outliers\n",
    "\n",
    "sns.scatterplot(x= df.Num_Credit_Inquiries, y=df.Annual_Income,  data=df, hue=\"Credit_Score\", alpha=0.6);"
   ]
  },
  {
   "cell_type": "markdown",
   "id": "6a8253cd",
   "metadata": {},
   "source": [
    "### Total_EMI_per_month column"
   ]
  },
  {
   "cell_type": "code",
   "execution_count": null,
   "id": "8eddd11c",
   "metadata": {},
   "outputs": [],
   "source": [
    "# Finding iqr lower and upper limit of Total_EMI_per_month column\n",
    "\n",
    "iqr_lower_upper(\"Total_EMI_per_month\")"
   ]
  },
  {
   "cell_type": "code",
   "execution_count": null,
   "id": "8bbe8a0d",
   "metadata": {},
   "outputs": [],
   "source": [
    "# Checking the value counts of Total_EMI_per_month column by grouping Customer_ID\n",
    "\n",
    "df.groupby(\"Customer_ID\")[\"Total_EMI_per_month\"].value_counts().head()"
   ]
  },
  {
   "cell_type": "code",
   "execution_count": null,
   "id": "fbe48243",
   "metadata": {},
   "outputs": [],
   "source": [
    "# Checking the scatterplot of Annual_Income and Total_EMI_per_month to determine outliers\n",
    "\n",
    "sns.scatterplot(x= df.Total_EMI_per_month, y=df.Annual_Income,  data=df, hue=\"Credit_Score\", alpha=0.6);"
   ]
  },
  {
   "cell_type": "code",
   "execution_count": null,
   "id": "06e91236",
   "metadata": {},
   "outputs": [],
   "source": [
    "# Checking the extreme values in Total_EMI_per_month less than 0 and greater than upper limit by sorting the Total_EMI_per_month value\n",
    "\n",
    "df[(df.Total_EMI_per_month < 0)|(df.Total_EMI_per_month > upper)][[\"Total_EMI_per_month\"]].value_counts(dropna=False).sort_index().head()"
   ]
  },
  {
   "cell_type": "code",
   "execution_count": null,
   "id": "75eb6406",
   "metadata": {},
   "outputs": [],
   "source": [
    "# Checking the number of Total_EMI_per_month whose Total_EMI_per_month value less than 0\n",
    "\n",
    "(df.Total_EMI_per_month < 0).sum()"
   ]
  },
  {
   "cell_type": "code",
   "execution_count": null,
   "id": "66794dfa",
   "metadata": {},
   "outputs": [],
   "source": [
    "# Checking the number of Total_EMI_per_month whose Total_EMI_per_month value greater than upper limit\n",
    "\n",
    "(df.Total_EMI_per_month > upper).sum()"
   ]
  },
  {
   "cell_type": "code",
   "execution_count": null,
   "id": "65bf1a44",
   "metadata": {},
   "outputs": [],
   "source": [
    "# Checking the customer information whose Total_EMI_per_month value greater than upper limit\n",
    "\n",
    "df[df.Total_EMI_per_month > upper].head()"
   ]
  },
  {
   "cell_type": "code",
   "execution_count": null,
   "id": "3806a62a",
   "metadata": {},
   "outputs": [],
   "source": [
    "# Checking the Total_EMI_per_month value for Customer_ID = 10314\n",
    "\n",
    "df[df.Customer_ID == 10314][[\"Customer_ID\",\"Total_EMI_per_month\"]]"
   ]
  },
  {
   "cell_type": "code",
   "execution_count": null,
   "id": "583c5e97",
   "metadata": {},
   "outputs": [],
   "source": [
    "# Checking the Total_EMI_per_month value for Customer_ID = 8324\n",
    "\n",
    "df[df.Customer_ID == 8324][[\"Customer_ID\",\"Total_EMI_per_month\"]]"
   ]
  },
  {
   "cell_type": "markdown",
   "id": "1e325072",
   "metadata": {},
   "source": [
    "According to the analysis above, it was concluded that the upper limit for Total_EMI_per_month should be greater."
   ]
  },
  {
   "cell_type": "markdown",
   "id": "8934deff",
   "metadata": {},
   "source": [
    "#### Updating upper limit for Total_EMI_per_month column"
   ]
  },
  {
   "cell_type": "code",
   "execution_count": null,
   "id": "5d71acff",
   "metadata": {},
   "outputs": [],
   "source": [
    "# Checking the value counts of Total_EMI_per_month whose value greater than upper limit\n",
    "\n",
    "df[df.Total_EMI_per_month > upper][\"Total_EMI_per_month\"].value_counts().sort_index().head()"
   ]
  },
  {
   "cell_type": "code",
   "execution_count": null,
   "id": "3ae77c1b",
   "metadata": {},
   "outputs": [],
   "source": [
    "# Checking the values of Total_EMI_per_month column whose values greater than Monthly_Inhand_Salary\n",
    "\n",
    "df[df[\"Monthly_Inhand_Salary\"] < df[\"Total_EMI_per_month\"]][[\"Customer_ID\", \"Monthly_Inhand_Salary\", \"Total_EMI_per_month\"]].head()"
   ]
  },
  {
   "cell_type": "code",
   "execution_count": null,
   "id": "cee5700a",
   "metadata": {},
   "outputs": [],
   "source": [
    "# Checking the value counts of Total_EMI_per_month column whose values greater than Monthly_Inhand_Salary by sorting index\n",
    "\n",
    "df[df[\"Monthly_Inhand_Salary\"] < df[\"Total_EMI_per_month\"]][[\"Total_EMI_per_month\"]].value_counts(dropna=False).sort_index().head()"
   ]
  },
  {
   "cell_type": "markdown",
   "id": "aa383f5c",
   "metadata": {},
   "source": [
    "As it is seen from the results above we can update upper limit as 1036."
   ]
  },
  {
   "cell_type": "code",
   "execution_count": null,
   "id": "9bba25a1",
   "metadata": {},
   "outputs": [],
   "source": [
    "# Checking the number of Total_EMI_per_month values greater than 1036\n",
    "(df.Total_EMI_per_month > 1036).sum()"
   ]
  },
  {
   "cell_type": "code",
   "execution_count": null,
   "id": "80423647",
   "metadata": {},
   "outputs": [],
   "source": [
    "# Checking the customer information whose Total_EMI_per_month values greater than 1036\n",
    "\n",
    "df[df.Total_EMI_per_month > 1036].head()"
   ]
  },
  {
   "cell_type": "code",
   "execution_count": null,
   "id": "7c5502bf",
   "metadata": {},
   "outputs": [],
   "source": [
    "# Checking the Total_EMI_per_month value for Customer_ID = 14124\n",
    "\n",
    "df[df.Customer_ID == 14124][[\"Customer_ID\",\"Total_EMI_per_month\"]]"
   ]
  },
  {
   "cell_type": "markdown",
   "id": "7f39da3a",
   "metadata": {},
   "source": [
    "**According to the analysis above the extreme values in Total_EMI_per_month column greater than 1036 should be replaced with np.nan. Then null values can be filled with mode or ffill, bfill methods by grouping Customer_ID.**"
   ]
  },
  {
   "cell_type": "code",
   "execution_count": null,
   "id": "93830e7b",
   "metadata": {},
   "outputs": [],
   "source": [
    "# Replacing the extreme values in Total_EMI_per_month column greater than 1036 with np.nan and then\n",
    "# filling null values with ffill and bfill method by grouping Customer_ID.\n",
    "\n",
    "df[\"Total_EMI_per_month\"] = df.Total_EMI_per_month.replace([df[(df.Total_EMI_per_month > upper)][\"Total_EMI_per_month\"]], np.nan)\n",
    "df[\"Total_EMI_per_month\"] = df.groupby(\"Customer_ID\")[\"Total_EMI_per_month\"].fillna(method=\"ffill\").fillna(method=\"bfill\")"
   ]
  },
  {
   "cell_type": "code",
   "execution_count": null,
   "id": "db3d54ba",
   "metadata": {},
   "outputs": [],
   "source": [
    "# Checking the scatterplot of Annual_Income and Total_EMI_per_month after handling with outliers\n",
    "\n",
    "sns.scatterplot(x= df.Total_EMI_per_month, y=df.Annual_Income,  data=df, hue=\"Credit_Score\", alpha=0.6);"
   ]
  },
  {
   "cell_type": "markdown",
   "id": "abf79857",
   "metadata": {},
   "source": [
    "### Amount_invested_monthly column"
   ]
  },
  {
   "cell_type": "code",
   "execution_count": null,
   "id": "ac7b858c",
   "metadata": {},
   "outputs": [],
   "source": [
    "# Finding iqr lower and upper limit of Amount_invested_monthly column\n",
    "\n",
    "iqr_lower_upper(\"Amount_invested_monthly\")"
   ]
  },
  {
   "cell_type": "code",
   "execution_count": null,
   "id": "22e9c467",
   "metadata": {},
   "outputs": [],
   "source": [
    "# Checking the value counts of Amount_invested_monthly column by grouping Customer_ID\n",
    "\n",
    "df.groupby(\"Customer_ID\")[\"Amount_invested_monthly\"].value_counts().head(10)"
   ]
  },
  {
   "cell_type": "code",
   "execution_count": null,
   "id": "d3129acb",
   "metadata": {},
   "outputs": [],
   "source": [
    "# Checking the scatterplot of Annual_Income and Amount_invested_monthly to determine outliers\n",
    "\n",
    "sns.scatterplot(x= df.Amount_invested_monthly, y=df.Annual_Income,  data=df, hue=\"Credit_Score\", alpha=0.6);"
   ]
  },
  {
   "cell_type": "code",
   "execution_count": null,
   "id": "b309697e",
   "metadata": {},
   "outputs": [],
   "source": [
    "# Checking the extreme values in Amount_invested_monthly less than 0 and greater than upper limit by sorting the Amount_invested_monthly value descending order\n",
    "\n",
    "df[(df.Amount_invested_monthly < 0)|(df.Amount_invested_monthly > upper)][[\"Amount_invested_monthly\"]].value_counts(dropna=False).sort_index(ascending=False).head()"
   ]
  },
  {
   "cell_type": "code",
   "execution_count": null,
   "id": "4c096274",
   "metadata": {},
   "outputs": [],
   "source": [
    "# Checking the number of Amount_invested_monthly whose Amount_invested_monthly value less than 0\n",
    "\n",
    "(df.Amount_invested_monthly < 0).sum()"
   ]
  },
  {
   "cell_type": "code",
   "execution_count": null,
   "id": "260726ac",
   "metadata": {},
   "outputs": [],
   "source": [
    "# Checking the number of Amount_invested_monthly whose Amount_invested_monthly value greater than upper limit\n",
    "\n",
    "(df.Amount_invested_monthly > upper).sum()"
   ]
  },
  {
   "cell_type": "code",
   "execution_count": null,
   "id": "47529383",
   "metadata": {},
   "outputs": [],
   "source": [
    "# Checking the customer information whose Amount_invested_monthly value greater than upper limit\n",
    "\n",
    "df[df.Amount_invested_monthly > upper].head()"
   ]
  },
  {
   "cell_type": "code",
   "execution_count": null,
   "id": "787abb3e",
   "metadata": {},
   "outputs": [],
   "source": [
    "# Checking the Amount_invested_monthly value for Customer_ID = 11708\n",
    "\n",
    "df[df.Customer_ID == 11708][[\"Customer_ID\",\"Amount_invested_monthly\"]]"
   ]
  },
  {
   "cell_type": "code",
   "execution_count": null,
   "id": "3a0894b3",
   "metadata": {},
   "outputs": [],
   "source": [
    "# Checking the Amount_invested_monthly value for Customer_ID = 9812\n",
    "\n",
    "df[df.Customer_ID == 9812][[\"Customer_ID\",\"Amount_invested_monthly\"]] "
   ]
  },
  {
   "cell_type": "code",
   "execution_count": null,
   "id": "5534b380",
   "metadata": {},
   "outputs": [],
   "source": [
    "# Finding the max Amount_invested_monthly value for those whose Amount_invested_monthly value is less than 10000\n",
    "\n",
    "df[df.Amount_invested_monthly <10000][\"Amount_invested_monthly\"].max()"
   ]
  },
  {
   "cell_type": "markdown",
   "id": "b6645e60",
   "metadata": {},
   "source": [
    "* For Customer 9812, according to the upper limit there are two extreme values. But actually Amount_invested_monthly values are acceptable.\n",
    "\n",
    "\n",
    "* For Customer 20915 there are two extreme values compared to the upper limit. But when we checked the values, it can be seen that the only 10000 value is extreme.\n",
    "\n",
    "\n",
    "* Furthermore the max Amount_invested_monthly value for those whose Amount_invested_monthly value is less than 10000 is 1977.326.\n",
    "\n",
    "\n",
    "**So, the upper limit for Amount_invested_monthly column should be considered as 2000.**"
   ]
  },
  {
   "cell_type": "code",
   "execution_count": null,
   "id": "cd5f9593",
   "metadata": {},
   "outputs": [],
   "source": [
    "# Checking the customer information whose Amount_invested_monthly value greater than 2000.\n",
    "\n",
    "df[df.Amount_invested_monthly > 2000].head()"
   ]
  },
  {
   "cell_type": "code",
   "execution_count": null,
   "id": "fcdefd70",
   "metadata": {},
   "outputs": [],
   "source": [
    "# Checking the Amount_invested_monthly value for Customer_ID = 47249\n",
    "\n",
    "df[df.Customer_ID == 47249][[\"Customer_ID\",\"Amount_invested_monthly\"]]"
   ]
  },
  {
   "cell_type": "markdown",
   "id": "6879c02c",
   "metadata": {},
   "source": [
    "**According to the analysis above the extreme values in Amount_invested_monthly column greater than 2000 should be replaced with np.nan. Then null values can be filled with mean value of each Customer by grouping Customer_ID.**"
   ]
  },
  {
   "cell_type": "code",
   "execution_count": null,
   "id": "9a796092",
   "metadata": {},
   "outputs": [],
   "source": [
    "# Replacing the extreme values in Amount_invested_monthly column greater than 2000 with np.nan and then\n",
    "# filling null values with mean of each customer by grouping Customer_ID.\n",
    "\n",
    "df[\"Amount_invested_monthly\"] = df.Amount_invested_monthly.replace([df[(df.Amount_invested_monthly > 2000)][\"Amount_invested_monthly\"]], np.nan)\n",
    "df[\"Amount_invested_monthly\"] = df.groupby(\"Customer_ID\")[\"Amount_invested_monthly\"].apply(lambda x : x.fillna(x.mean()))"
   ]
  },
  {
   "cell_type": "code",
   "execution_count": null,
   "id": "1d443edf",
   "metadata": {},
   "outputs": [],
   "source": [
    "# Checking the scatterplot of Annual_Income and Amount_invested_monthly after handling with outliers\n",
    "\n",
    "sns.scatterplot(x= df.Amount_invested_monthly, y=df.Annual_Income,  data=df, hue=\"Credit_Score\", alpha=0.6);"
   ]
  },
  {
   "cell_type": "code",
   "execution_count": null,
   "id": "799815a8",
   "metadata": {},
   "outputs": [],
   "source": [
    "# final check of descriptive values for numerical columns\n",
    "\n",
    "df.select_dtypes(exclude=\"O\").describe()"
   ]
  },
  {
   "cell_type": "markdown",
   "id": "5d09f8da",
   "metadata": {},
   "source": [
    "## Saving cleaned df"
   ]
  },
  {
   "cell_type": "code",
   "execution_count": null,
   "id": "5d8a8f03",
   "metadata": {
    "ExecuteTime": {
     "end_time": "2022-09-12T11:03:01.545444Z",
     "start_time": "2022-09-12T11:03:00.460131Z"
    }
   },
   "outputs": [],
   "source": [
    "# saving cleaned data as \"df_cleaned.csv\"\n",
    "df.to_csv(\"df_cleaned.csv\", index=False)"
   ]
  },
  {
   "cell_type": "code",
   "execution_count": null,
   "id": "775f7466",
   "metadata": {
    "ExecuteTime": {
     "end_time": "2022-09-12T11:03:01.858897Z",
     "start_time": "2022-09-12T11:03:01.547444Z"
    }
   },
   "outputs": [],
   "source": [
    "pd.read_csv(\"df_cleaned.csv\").head()"
   ]
  },
  {
   "cell_type": "markdown",
   "id": "93826a31",
   "metadata": {},
   "source": [
    "Finally we completed cleaning and exploring the data, handling with missing values and handling with outliers in df. We can move to the next step which is final evaluation of data. This step and some spesific analysis will be worked in the next notebook (Credit Score Friendly Exploratory Data Analysis Part_2)."
   ]
  }
 ],
 "metadata": {
  "celltoolbar": "Raw Cell Format",
  "kernelspec": {
   "display_name": "Python 3 (ipykernel)",
   "language": "python",
   "name": "python3"
  },
  "language_info": {
   "codemirror_mode": {
    "name": "ipython",
    "version": 3
   },
   "file_extension": ".py",
   "mimetype": "text/x-python",
   "name": "python",
   "nbconvert_exporter": "python",
   "pygments_lexer": "ipython3",
   "version": "3.9.13"
  },
  "toc": {
   "base_numbering": 1,
   "nav_menu": {},
   "number_sections": false,
   "sideBar": true,
   "skip_h1_title": false,
   "title_cell": "Table of Contents",
   "title_sidebar": "Contents",
   "toc_cell": false,
   "toc_position": {
    "height": "calc(100% - 180px)",
    "left": "10px",
    "top": "150px",
    "width": "303.82px"
   },
   "toc_section_display": true,
   "toc_window_display": true
  }
 },
 "nbformat": 4,
 "nbformat_minor": 5
}
