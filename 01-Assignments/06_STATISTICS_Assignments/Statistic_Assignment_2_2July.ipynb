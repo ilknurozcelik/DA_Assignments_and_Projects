{
 "cells": [
  {
   "cell_type": "markdown",
   "id": "c220383c",
   "metadata": {},
   "source": [
    "# Statistical Assignment-2\n",
    "\n",
    "## Confidence Intervals"
   ]
  },
  {
   "cell_type": "code",
   "execution_count": 3,
   "id": "23e81535",
   "metadata": {},
   "outputs": [],
   "source": [
    "import numpy as np\n",
    "import pandas as pd\n",
    "import scipy.stats as stats"
   ]
  },
  {
   "cell_type": "markdown",
   "id": "77c1e000",
   "metadata": {},
   "source": [
    "### EXERCISE 1. \n",
    "Suppose scores on exams in statistics are normally distributed with an unknown population mean and a population standard deviation of 3 points. A random sample of 36 scores is taken and gives a sample mean (sample  mean score) of 68. Find a confidence interval estimate for the population mean exam score (the mean score on all exams).\n",
    "Find a 90% confidence interval for the true (population) mean of statistics exam scores. "
   ]
  },
  {
   "cell_type": "code",
   "execution_count": 34,
   "id": "0714b4bc",
   "metadata": {},
   "outputs": [],
   "source": [
    "n= 36\n",
    "xbar= 68\n",
    "std= 3"
   ]
  },
  {
   "cell_type": "code",
   "execution_count": 35,
   "id": "d27865de",
   "metadata": {},
   "outputs": [
    {
     "data": {
      "text/plain": [
       "0.5"
      ]
     },
     "execution_count": 35,
     "metadata": {},
     "output_type": "execute_result"
    }
   ],
   "source": [
    "sem = std / np.sqrt(n)\n",
    "sem"
   ]
  },
  {
   "cell_type": "code",
   "execution_count": 36,
   "id": "31357e8e",
   "metadata": {},
   "outputs": [
    {
     "data": {
      "text/plain": [
       "0.98"
      ]
     },
     "execution_count": 36,
     "metadata": {},
     "output_type": "execute_result"
    }
   ],
   "source": [
    "moe = 1.96 * sem  # z score:1.96 for 0.05 alpha confidence level is calculated using z(0.025) for both tail of distribution\n",
    "moe"
   ]
  },
  {
   "cell_type": "code",
   "execution_count": 37,
   "id": "dbdeed60",
   "metadata": {},
   "outputs": [
    {
     "data": {
      "text/plain": [
       "68.98"
      ]
     },
     "execution_count": 37,
     "metadata": {},
     "output_type": "execute_result"
    }
   ],
   "source": [
    "upper = xbar + moe  # CI (confidence interval) upper limit\n",
    "upper"
   ]
  },
  {
   "cell_type": "code",
   "execution_count": 38,
   "id": "9f1c24d1",
   "metadata": {},
   "outputs": [
    {
     "data": {
      "text/plain": [
       "67.02"
      ]
     },
     "execution_count": 38,
     "metadata": {},
     "output_type": "execute_result"
    }
   ],
   "source": [
    "lower = xbar - moe  # CI (confidence interval) lower limit\n",
    "lower"
   ]
  },
  {
   "cell_type": "code",
   "execution_count": 39,
   "id": "b8a27b1d",
   "metadata": {},
   "outputs": [
    {
     "data": {
      "text/plain": [
       "(67.02001800772997, 68.97998199227003)"
      ]
     },
     "execution_count": 39,
     "metadata": {},
     "output_type": "execute_result"
    }
   ],
   "source": [
    "# calculation of confidence interval using stats.norm.interval() method\n",
    "# for 0.95 confidence level --> alpha = 0.95\n",
    "\n",
    "stats.norm.interval(alpha=0.95, loc=xbar, scale=sem)\n",
    "\n",
    "# alpha : confidence level\n",
    "# loc: sample mean\n",
    "# scale: standart error of mean(sem)"
   ]
  },
  {
   "cell_type": "code",
   "execution_count": 40,
   "id": "d8a1806d",
   "metadata": {},
   "outputs": [
    {
     "data": {
      "text/plain": [
       "(67.17757318652427, 68.82242681347573)"
      ]
     },
     "execution_count": 40,
     "metadata": {},
     "output_type": "execute_result"
    }
   ],
   "source": [
    "# calculation of confidence interval using stats.norm.interval() method\n",
    "# for 0.90 confidence level --> alpha = 0.90\n",
    "\n",
    "stats.norm.interval(alpha=0.90, loc=xbar, scale=sem)"
   ]
  },
  {
   "cell_type": "markdown",
   "id": "7ce88c68",
   "metadata": {},
   "source": [
    "### EXERCISE 2.\n",
    "\n",
    "What is the normal body temperature for healthy humans? A random sample of 130 healthy human body temperatures provided by Allen Shoemaker7 yielded 98.25 degrees and standard deviation 0.73 degrees. \n",
    "Give a 99% confidence interval for the average body temperature of healthy people."
   ]
  },
  {
   "cell_type": "code",
   "execution_count": 41,
   "id": "3b5147e2",
   "metadata": {},
   "outputs": [],
   "source": [
    "n= 130\n",
    "xbar= 98.25\n",
    "std = 0.73\n",
    "alpha = 0.99"
   ]
  },
  {
   "cell_type": "code",
   "execution_count": 42,
   "id": "67e838a4",
   "metadata": {},
   "outputs": [
    {
     "data": {
      "text/plain": [
       "0.06402523540941313"
      ]
     },
     "execution_count": 42,
     "metadata": {},
     "output_type": "execute_result"
    }
   ],
   "source": [
    "sem=std/np.sqrt(n)\n",
    "sem"
   ]
  },
  {
   "cell_type": "code",
   "execution_count": 43,
   "id": "38ee09ef",
   "metadata": {},
   "outputs": [
    {
     "data": {
      "text/plain": [
       "(98.08508192246582, 98.41491807753418)"
      ]
     },
     "execution_count": 43,
     "metadata": {},
     "output_type": "execute_result"
    }
   ],
   "source": [
    "CI = stats.norm.interval(alpha=0.99, loc=xbar, scale=sem)\n",
    "CI"
   ]
  },
  {
   "cell_type": "markdown",
   "id": "a9b467c0",
   "metadata": {},
   "source": [
    "### EXERCISE 3.\n",
    "The administrators for a hospital wished to estimate the average number of days required for inpatient treatment of patients between the ages of 25 and 34. A random sample of 500 hospital patients between these ages produced a mean and standard deviation equal to 5.4 and 3.1 days, respectively.\n",
    "Construct a 95% confidence interval for the mean length of stay for the population of patients from which the sample was drawn."
   ]
  },
  {
   "cell_type": "code",
   "execution_count": 44,
   "id": "280a1d1a",
   "metadata": {},
   "outputs": [],
   "source": [
    "n= 500\n",
    "xbar = 5.4\n",
    "std = 3.4\n",
    "alpha = 0.95"
   ]
  },
  {
   "cell_type": "code",
   "execution_count": 45,
   "id": "9bd9ffbd",
   "metadata": {},
   "outputs": [
    {
     "data": {
      "text/plain": [
       "0.1520526224699857"
      ]
     },
     "execution_count": 45,
     "metadata": {},
     "output_type": "execute_result"
    }
   ],
   "source": [
    "sem = std/np.sqrt(n)\n",
    "sem"
   ]
  },
  {
   "cell_type": "code",
   "execution_count": 46,
   "id": "e08b86a2",
   "metadata": {},
   "outputs": [
    {
     "data": {
      "text/plain": [
       "(5.101982336203963, 5.698017663796038)"
      ]
     },
     "execution_count": 46,
     "metadata": {},
     "output_type": "execute_result"
    }
   ],
   "source": [
    "CI= stats.norm.interval(alpha=alpha, loc=xbar, scale=sem)\n",
    "CI"
   ]
  },
  {
   "cell_type": "code",
   "execution_count": null,
   "id": "90d67d19",
   "metadata": {},
   "outputs": [],
   "source": []
  }
 ],
 "metadata": {
  "kernelspec": {
   "display_name": "Python 3 (ipykernel)",
   "language": "python",
   "name": "python3"
  },
  "language_info": {
   "codemirror_mode": {
    "name": "ipython",
    "version": 3
   },
   "file_extension": ".py",
   "mimetype": "text/x-python",
   "name": "python",
   "nbconvert_exporter": "python",
   "pygments_lexer": "ipython3",
   "version": "3.9.7"
  }
 },
 "nbformat": 4,
 "nbformat_minor": 5
}
