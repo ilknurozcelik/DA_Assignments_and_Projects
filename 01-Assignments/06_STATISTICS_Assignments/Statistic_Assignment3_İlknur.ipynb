{
 "cells": [
  {
   "cell_type": "markdown",
   "id": "e14e3b07",
   "metadata": {},
   "source": [
    "# Statistic Assignment 3"
   ]
  },
  {
   "cell_type": "code",
   "execution_count": 5,
   "id": "5158fc00",
   "metadata": {},
   "outputs": [],
   "source": [
    "import numpy as np\n",
    "import pandas as pd\n",
    "import matplotlib.pyplot as plt\n",
    "import seaborn as sns\n",
    "import scipy.stats as stats\n",
    "from scipy.stats import norm"
   ]
  },
  {
   "cell_type": "markdown",
   "id": "1313203a",
   "metadata": {},
   "source": [
    "### EXERCISE 1.\n",
    "\n",
    "The hourly wages in a particular industry are normally distributed with mean 13.20 Dolar and standard deviation 2.50 Dolar. A company in this industry employs 40 workers, paying them an average of 12.20 Dolar per hour. Can this company be accused of paying substandard wages? Use an α = .01 level test. (Wackerly, Ex.10.18)\n",
    "\n",
    "CHECK: statistic: -2.5298221281347035, pvalue= 0.005706018193000826"
   ]
  },
  {
   "cell_type": "code",
   "execution_count": 70,
   "id": "c3a9f496",
   "metadata": {},
   "outputs": [],
   "source": [
    "xbar_pop=13.20\n",
    "sdt_pop=2.50\n",
    "n=40\n",
    "xbar_sample=12.20\n",
    "alpha = 0.01"
   ]
  },
  {
   "cell_type": "markdown",
   "id": "f969d340",
   "metadata": {},
   "source": [
    "## Defining Hypothesis:\n",
    "\n",
    "H0 : xbar_pop = xbar_sample\n",
    "\n",
    "H1 : xbar_pop > xbar_sample"
   ]
  },
  {
   "cell_type": "code",
   "execution_count": 71,
   "id": "3cf6d418",
   "metadata": {},
   "outputs": [],
   "source": [
    "# test statistic\n",
    "\n",
    "z = (xbar_sample - xbar_pop) /(sdt_pop/np.sqrt(n))"
   ]
  },
  {
   "cell_type": "code",
   "execution_count": 72,
   "id": "d2f05750",
   "metadata": {},
   "outputs": [],
   "source": [
    "# p value\n",
    "p = stats.norm.cdf(z)"
   ]
  },
  {
   "cell_type": "code",
   "execution_count": 73,
   "id": "13783460",
   "metadata": {},
   "outputs": [
    {
     "name": "stdout",
     "output_type": "stream",
     "text": [
      "statistic= -2.5298221281347035, pvalue= 0.005706018193000826\n"
     ]
    }
   ],
   "source": [
    "print(f\"statistic= {z}, pvalue= {p}\")"
   ]
  },
  {
   "cell_type": "markdown",
   "id": "3fdcf31e",
   "metadata": {},
   "source": [
    "### Conclusion:\n",
    "\n",
    "As pvalue is less than alpha we can reject the null hypothesis. It means that this company can be accused of paying substandard wages."
   ]
  },
  {
   "cell_type": "code",
   "execution_count": null,
   "id": "77ae986b",
   "metadata": {},
   "outputs": [],
   "source": []
  },
  {
   "cell_type": "markdown",
   "id": "b1609d3e",
   "metadata": {},
   "source": [
    "## EXERCISE 2.\n",
    "\n",
    "Shear strength measurements derived from unconfined compression tests for two types of soils gave the results shown in the following document (measurements in tons per square foot). Do the soils appear to differ with respect to average shear strength, at the 1% significance level?\n",
    "\n",
    "Results for two type of soils\n",
    "\n",
    "CHECK: statistic: 5.1681473319343345, pvalue= 2.593228732352821e-06"
   ]
  },
  {
   "cell_type": "code",
   "execution_count": 75,
   "id": "bc20fe26",
   "metadata": {},
   "outputs": [],
   "source": [
    "df = pd.read_csv(\"soil_results.csv\")"
   ]
  },
  {
   "cell_type": "code",
   "execution_count": 76,
   "id": "100af2cd",
   "metadata": {},
   "outputs": [
    {
     "data": {
      "text/html": [
       "<div>\n",
       "<style scoped>\n",
       "    .dataframe tbody tr th:only-of-type {\n",
       "        vertical-align: middle;\n",
       "    }\n",
       "\n",
       "    .dataframe tbody tr th {\n",
       "        vertical-align: top;\n",
       "    }\n",
       "\n",
       "    .dataframe thead th {\n",
       "        text-align: right;\n",
       "    }\n",
       "</style>\n",
       "<table border=\"1\" class=\"dataframe\">\n",
       "  <thead>\n",
       "    <tr style=\"text-align: right;\">\n",
       "      <th></th>\n",
       "      <th>Soil1</th>\n",
       "      <th>Soil2</th>\n",
       "    </tr>\n",
       "  </thead>\n",
       "  <tbody>\n",
       "    <tr>\n",
       "      <th>0</th>\n",
       "      <td>1.442</td>\n",
       "      <td>1.364</td>\n",
       "    </tr>\n",
       "    <tr>\n",
       "      <th>1</th>\n",
       "      <td>1.943</td>\n",
       "      <td>1.878</td>\n",
       "    </tr>\n",
       "    <tr>\n",
       "      <th>2</th>\n",
       "      <td>1.110</td>\n",
       "      <td>1.337</td>\n",
       "    </tr>\n",
       "    <tr>\n",
       "      <th>3</th>\n",
       "      <td>1.912</td>\n",
       "      <td>1.828</td>\n",
       "    </tr>\n",
       "    <tr>\n",
       "      <th>4</th>\n",
       "      <td>1.553</td>\n",
       "      <td>1.371</td>\n",
       "    </tr>\n",
       "  </tbody>\n",
       "</table>\n",
       "</div>"
      ],
      "text/plain": [
       "   Soil1  Soil2\n",
       "0  1.442  1.364\n",
       "1  1.943  1.878\n",
       "2  1.110  1.337\n",
       "3  1.912  1.828\n",
       "4  1.553  1.371"
      ]
     },
     "execution_count": 76,
     "metadata": {},
     "output_type": "execute_result"
    }
   ],
   "source": [
    "df.head()"
   ]
  },
  {
   "cell_type": "code",
   "execution_count": 74,
   "id": "0b618b4f",
   "metadata": {},
   "outputs": [],
   "source": [
    "# equal variation\n",
    "\n",
    "# H0: means of Soil1 and Soil2 are equal\n",
    "# H1 : means of Soil1 and Soil2 are not equal (two-sided)\n",
    "\n",
    "# alpha = 0.01"
   ]
  },
  {
   "cell_type": "code",
   "execution_count": 78,
   "id": "60af4747",
   "metadata": {},
   "outputs": [
    {
     "name": "stdout",
     "output_type": "stream",
     "text": [
      "statistic= 5.1681473319343345, pvalue= 2.593228732352821e-06\n"
     ]
    }
   ],
   "source": [
    "statistic, pvalue = stats.ttest_ind(df.Soil1.dropna(), df.Soil2, equal_var=True, alternative=\"two-sided\")\n",
    "print(f\"statistic= {statistic}, pvalue= {pvalue}\")  "
   ]
  },
  {
   "cell_type": "code",
   "execution_count": 20,
   "id": "bc3a18f3",
   "metadata": {},
   "outputs": [
    {
     "data": {
      "text/plain": [
       "1.4171142857142855"
      ]
     },
     "execution_count": 20,
     "metadata": {},
     "output_type": "execute_result"
    }
   ],
   "source": [
    "df.Soil2.mean()"
   ]
  },
  {
   "cell_type": "markdown",
   "id": "4f84c233",
   "metadata": {},
   "source": [
    "### Conclusion :\n",
    "\n",
    "As pvalue is less than alpha we can reject the null hypothesis. It means that means of Soil1 and Soil2 are not equal."
   ]
  },
  {
   "cell_type": "code",
   "execution_count": null,
   "id": "7cf6c6a1",
   "metadata": {},
   "outputs": [],
   "source": []
  },
  {
   "cell_type": "markdown",
   "id": "01f5e4a2",
   "metadata": {},
   "source": [
    "## EXERCISE 3. \n",
    "The following dataset is based on data provided by the World Bank (https://datacatalog.worldbank.org/dataset/education-statistics). World Bank Edstats.  2015 PISA Test Dataset\n",
    "\n",
    "Get descriptive statistics (the central tendency, dispersion and shape of a dataset’s distribution) for each continent group (AS, EU, AF, NA, SA, OC).\n",
    "Determine whether there is any difference (on the average) for the math scores among European (EU) and Asian (AS) countries (assume normality and equal variances). Draw side-by-side box plots.\n",
    "CHECK: statistic=0.870055317967983, pvalue=0.38826888111307345\n"
   ]
  },
  {
   "cell_type": "code",
   "execution_count": 84,
   "id": "6aaa10c8",
   "metadata": {},
   "outputs": [],
   "source": [
    "df1 = pd.read_csv(\"2015 PISA Test - Sheet1.csv\")"
   ]
  },
  {
   "cell_type": "code",
   "execution_count": 85,
   "id": "9e2021f8",
   "metadata": {},
   "outputs": [
    {
     "data": {
      "text/plain": [
       "Country Code              0\n",
       "Continent_Code            5\n",
       "internet_users_per_100    0\n",
       "Math                      0\n",
       "Reading                   0\n",
       "Science                   0\n",
       "dtype: int64"
      ]
     },
     "execution_count": 85,
     "metadata": {},
     "output_type": "execute_result"
    }
   ],
   "source": [
    "#Checking null values\n",
    "\n",
    "df1.isnull().sum()"
   ]
  },
  {
   "cell_type": "code",
   "execution_count": 34,
   "id": "6a27486d",
   "metadata": {
    "scrolled": false
   },
   "outputs": [
    {
     "data": {
      "text/html": [
       "<div>\n",
       "<style scoped>\n",
       "    .dataframe tbody tr th:only-of-type {\n",
       "        vertical-align: middle;\n",
       "    }\n",
       "\n",
       "    .dataframe tbody tr th {\n",
       "        vertical-align: top;\n",
       "    }\n",
       "\n",
       "    .dataframe thead th {\n",
       "        text-align: right;\n",
       "    }\n",
       "</style>\n",
       "<table border=\"1\" class=\"dataframe\">\n",
       "  <thead>\n",
       "    <tr style=\"text-align: right;\">\n",
       "      <th></th>\n",
       "      <th>Country Code</th>\n",
       "      <th>Continent_Code</th>\n",
       "      <th>internet_users_per_100</th>\n",
       "      <th>Math</th>\n",
       "      <th>Reading</th>\n",
       "      <th>Science</th>\n",
       "    </tr>\n",
       "  </thead>\n",
       "  <tbody>\n",
       "    <tr>\n",
       "      <th>8</th>\n",
       "      <td>CAN</td>\n",
       "      <td>NaN</td>\n",
       "      <td>88.470000</td>\n",
       "      <td>515.6474</td>\n",
       "      <td>526.6678</td>\n",
       "      <td>527.7047</td>\n",
       "    </tr>\n",
       "    <tr>\n",
       "      <th>13</th>\n",
       "      <td>CRI</td>\n",
       "      <td>NaN</td>\n",
       "      <td>59.762950</td>\n",
       "      <td>400.2534</td>\n",
       "      <td>427.4875</td>\n",
       "      <td>419.6080</td>\n",
       "    </tr>\n",
       "    <tr>\n",
       "      <th>18</th>\n",
       "      <td>DOM</td>\n",
       "      <td>NaN</td>\n",
       "      <td>54.215766</td>\n",
       "      <td>327.7020</td>\n",
       "      <td>357.7377</td>\n",
       "      <td>331.6388</td>\n",
       "    </tr>\n",
       "    <tr>\n",
       "      <th>45</th>\n",
       "      <td>MEX</td>\n",
       "      <td>NaN</td>\n",
       "      <td>57.431043</td>\n",
       "      <td>408.0235</td>\n",
       "      <td>423.2765</td>\n",
       "      <td>415.7099</td>\n",
       "    </tr>\n",
       "    <tr>\n",
       "      <th>68</th>\n",
       "      <td>USA</td>\n",
       "      <td>NaN</td>\n",
       "      <td>74.554202</td>\n",
       "      <td>469.6285</td>\n",
       "      <td>496.9351</td>\n",
       "      <td>496.2424</td>\n",
       "    </tr>\n",
       "  </tbody>\n",
       "</table>\n",
       "</div>"
      ],
      "text/plain": [
       "   Country Code Continent_Code  internet_users_per_100      Math   Reading  \\\n",
       "8           CAN            NaN               88.470000  515.6474  526.6678   \n",
       "13          CRI            NaN               59.762950  400.2534  427.4875   \n",
       "18          DOM            NaN               54.215766  327.7020  357.7377   \n",
       "45          MEX            NaN               57.431043  408.0235  423.2765   \n",
       "68          USA            NaN               74.554202  469.6285  496.9351   \n",
       "\n",
       "     Science  \n",
       "8   527.7047  \n",
       "13  419.6080  \n",
       "18  331.6388  \n",
       "45  415.7099  \n",
       "68  496.2424  "
      ]
     },
     "execution_count": 34,
     "metadata": {},
     "output_type": "execute_result"
    }
   ],
   "source": [
    "# Checking the countries having Continent_Code is null\n",
    "\n",
    "df1[df1.Continent_Code.isnull()]"
   ]
  },
  {
   "cell_type": "markdown",
   "id": "3fc6ace2",
   "metadata": {},
   "source": [
    "When we searched the continents of the countries having Continent_Code is null, we found that the continent of these countries was North America.\n",
    "\n",
    "So, we decided that to fill the null values with NA(North America)."
   ]
  },
  {
   "cell_type": "code",
   "execution_count": 48,
   "id": "002a1d63",
   "metadata": {},
   "outputs": [],
   "source": [
    "# filling null values with \"NA\"\n",
    "\n",
    "df1.fillna(value=\"NA\", inplace=True, axis=0)"
   ]
  },
  {
   "cell_type": "code",
   "execution_count": 49,
   "id": "12ed9a22",
   "metadata": {},
   "outputs": [
    {
     "data": {
      "text/html": [
       "<div>\n",
       "<style scoped>\n",
       "    .dataframe tbody tr th:only-of-type {\n",
       "        vertical-align: middle;\n",
       "    }\n",
       "\n",
       "    .dataframe tbody tr th {\n",
       "        vertical-align: top;\n",
       "    }\n",
       "\n",
       "    .dataframe thead th {\n",
       "        text-align: right;\n",
       "    }\n",
       "</style>\n",
       "<table border=\"1\" class=\"dataframe\">\n",
       "  <thead>\n",
       "    <tr style=\"text-align: right;\">\n",
       "      <th></th>\n",
       "      <th>Continent_Code</th>\n",
       "      <th>AF</th>\n",
       "      <th>AS</th>\n",
       "      <th>EU</th>\n",
       "      <th>NA</th>\n",
       "      <th>OC</th>\n",
       "      <th>SA</th>\n",
       "    </tr>\n",
       "  </thead>\n",
       "  <tbody>\n",
       "    <tr>\n",
       "      <th rowspan=\"8\" valign=\"top\">internet_users_per_100</th>\n",
       "      <th>count</th>\n",
       "      <td>2.000000</td>\n",
       "      <td>17.000000</td>\n",
       "      <td>37.000000</td>\n",
       "      <td>5.000000</td>\n",
       "      <td>2.000000</td>\n",
       "      <td>7.000000</td>\n",
       "    </tr>\n",
       "    <tr>\n",
       "      <th>mean</th>\n",
       "      <td>43.359918</td>\n",
       "      <td>68.455613</td>\n",
       "      <td>77.274888</td>\n",
       "      <td>66.886792</td>\n",
       "      <td>86.391704</td>\n",
       "      <td>60.180494</td>\n",
       "    </tr>\n",
       "    <tr>\n",
       "      <th>std</th>\n",
       "      <td>7.297226</td>\n",
       "      <td>21.086060</td>\n",
       "      <td>12.425773</td>\n",
       "      <td>14.364359</td>\n",
       "      <td>2.589686</td>\n",
       "      <td>9.772455</td>\n",
       "    </tr>\n",
       "    <tr>\n",
       "      <th>min</th>\n",
       "      <td>38.200000</td>\n",
       "      <td>21.976068</td>\n",
       "      <td>53.744979</td>\n",
       "      <td>54.215766</td>\n",
       "      <td>84.560519</td>\n",
       "      <td>40.900000</td>\n",
       "    </tr>\n",
       "    <tr>\n",
       "      <th>25%</th>\n",
       "      <td>40.779959</td>\n",
       "      <td>50.300000</td>\n",
       "      <td>68.632900</td>\n",
       "      <td>57.431043</td>\n",
       "      <td>85.476112</td>\n",
       "      <td>57.116462</td>\n",
       "    </tr>\n",
       "    <tr>\n",
       "      <th>50%</th>\n",
       "      <td>43.359918</td>\n",
       "      <td>74.000000</td>\n",
       "      <td>76.184000</td>\n",
       "      <td>59.762950</td>\n",
       "      <td>86.391704</td>\n",
       "      <td>64.289000</td>\n",
       "    </tr>\n",
       "    <tr>\n",
       "      <th>75%</th>\n",
       "      <td>45.939877</td>\n",
       "      <td>84.948353</td>\n",
       "      <td>87.479056</td>\n",
       "      <td>74.554202</td>\n",
       "      <td>87.307296</td>\n",
       "      <td>66.321532</td>\n",
       "    </tr>\n",
       "    <tr>\n",
       "      <th>max</th>\n",
       "      <td>48.519836</td>\n",
       "      <td>92.884826</td>\n",
       "      <td>98.200000</td>\n",
       "      <td>88.470000</td>\n",
       "      <td>88.222889</td>\n",
       "      <td>69.198471</td>\n",
       "    </tr>\n",
       "    <tr>\n",
       "      <th rowspan=\"8\" valign=\"top\">Math</th>\n",
       "      <th>count</th>\n",
       "      <td>2.000000</td>\n",
       "      <td>17.000000</td>\n",
       "      <td>37.000000</td>\n",
       "      <td>5.000000</td>\n",
       "      <td>2.000000</td>\n",
       "      <td>7.000000</td>\n",
       "    </tr>\n",
       "    <tr>\n",
       "      <th>mean</th>\n",
       "      <td>363.212100</td>\n",
       "      <td>466.216647</td>\n",
       "      <td>477.981449</td>\n",
       "      <td>424.250960</td>\n",
       "      <td>494.559750</td>\n",
       "      <td>402.887700</td>\n",
       "    </tr>\n",
       "    <tr>\n",
       "      <th>std</th>\n",
       "      <td>5.099513</td>\n",
       "      <td>64.356490</td>\n",
       "      <td>35.150403</td>\n",
       "      <td>71.717058</td>\n",
       "      <td>0.938401</td>\n",
       "      <td>18.128894</td>\n",
       "    </tr>\n",
       "    <tr>\n",
       "      <th>min</th>\n",
       "      <td>359.606200</td>\n",
       "      <td>380.259000</td>\n",
       "      <td>371.311400</td>\n",
       "      <td>327.702000</td>\n",
       "      <td>493.896200</td>\n",
       "      <td>377.069500</td>\n",
       "    </tr>\n",
       "    <tr>\n",
       "      <th>25%</th>\n",
       "      <td>361.409150</td>\n",
       "      <td>403.833200</td>\n",
       "      <td>464.040100</td>\n",
       "      <td>400.253400</td>\n",
       "      <td>494.227975</td>\n",
       "      <td>388.102200</td>\n",
       "    </tr>\n",
       "    <tr>\n",
       "      <th>50%</th>\n",
       "      <td>363.212100</td>\n",
       "      <td>459.816000</td>\n",
       "      <td>489.728700</td>\n",
       "      <td>408.023500</td>\n",
       "      <td>494.559750</td>\n",
       "      <td>409.033300</td>\n",
       "    </tr>\n",
       "    <tr>\n",
       "      <th>75%</th>\n",
       "      <td>365.015050</td>\n",
       "      <td>531.296100</td>\n",
       "      <td>503.722000</td>\n",
       "      <td>469.628500</td>\n",
       "      <td>494.891525</td>\n",
       "      <td>417.617650</td>\n",
       "    </tr>\n",
       "    <tr>\n",
       "      <th>max</th>\n",
       "      <td>366.818000</td>\n",
       "      <td>564.189700</td>\n",
       "      <td>521.250600</td>\n",
       "      <td>515.647400</td>\n",
       "      <td>495.223300</td>\n",
       "      <td>422.671400</td>\n",
       "    </tr>\n",
       "    <tr>\n",
       "      <th rowspan=\"8\" valign=\"top\">Reading</th>\n",
       "      <th>count</th>\n",
       "      <td>2.000000</td>\n",
       "      <td>17.000000</td>\n",
       "      <td>37.000000</td>\n",
       "      <td>5.000000</td>\n",
       "      <td>2.000000</td>\n",
       "      <td>7.000000</td>\n",
       "    </tr>\n",
       "    <tr>\n",
       "      <th>mean</th>\n",
       "      <td>355.457400</td>\n",
       "      <td>454.059682</td>\n",
       "      <td>476.164608</td>\n",
       "      <td>446.420920</td>\n",
       "      <td>506.085650</td>\n",
       "      <td>425.359229</td>\n",
       "    </tr>\n",
       "    <tr>\n",
       "      <th>std</th>\n",
       "      <td>7.916909</td>\n",
       "      <td>57.048962</td>\n",
       "      <td>37.720545</td>\n",
       "      <td>66.614744</td>\n",
       "      <td>4.504341</td>\n",
       "      <td>19.709688</td>\n",
       "    </tr>\n",
       "    <tr>\n",
       "      <th>min</th>\n",
       "      <td>349.859300</td>\n",
       "      <td>346.549000</td>\n",
       "      <td>351.741500</td>\n",
       "      <td>357.737700</td>\n",
       "      <td>502.900600</td>\n",
       "      <td>397.541400</td>\n",
       "    </tr>\n",
       "    <tr>\n",
       "      <th>25%</th>\n",
       "      <td>352.658350</td>\n",
       "      <td>408.102200</td>\n",
       "      <td>452.514300</td>\n",
       "      <td>423.276500</td>\n",
       "      <td>504.493125</td>\n",
       "      <td>416.126900</td>\n",
       "    </tr>\n",
       "    <tr>\n",
       "      <th>50%</th>\n",
       "      <td>355.457400</td>\n",
       "      <td>433.542300</td>\n",
       "      <td>487.250100</td>\n",
       "      <td>427.487500</td>\n",
       "      <td>506.085650</td>\n",
       "      <td>425.303100</td>\n",
       "    </tr>\n",
       "    <tr>\n",
       "      <th>75%</th>\n",
       "      <td>358.256450</td>\n",
       "      <td>508.690500</td>\n",
       "      <td>499.814600</td>\n",
       "      <td>496.935100</td>\n",
       "      <td>507.678175</td>\n",
       "      <td>431.922700</td>\n",
       "    </tr>\n",
       "    <tr>\n",
       "      <th>max</th>\n",
       "      <td>361.055500</td>\n",
       "      <td>535.100200</td>\n",
       "      <td>526.424700</td>\n",
       "      <td>526.667800</td>\n",
       "      <td>509.270700</td>\n",
       "      <td>458.570900</td>\n",
       "    </tr>\n",
       "    <tr>\n",
       "      <th rowspan=\"8\" valign=\"top\">Science</th>\n",
       "      <th>count</th>\n",
       "      <td>2.000000</td>\n",
       "      <td>17.000000</td>\n",
       "      <td>37.000000</td>\n",
       "      <td>5.000000</td>\n",
       "      <td>2.000000</td>\n",
       "      <td>7.000000</td>\n",
       "    </tr>\n",
       "    <tr>\n",
       "      <th>mean</th>\n",
       "      <td>381.074250</td>\n",
       "      <td>467.945847</td>\n",
       "      <td>478.299381</td>\n",
       "      <td>438.180760</td>\n",
       "      <td>511.648700</td>\n",
       "      <td>421.747186</td>\n",
       "    </tr>\n",
       "    <tr>\n",
       "      <th>std</th>\n",
       "      <td>7.536556</td>\n",
       "      <td>56.671371</td>\n",
       "      <td>34.450616</td>\n",
       "      <td>76.789918</td>\n",
       "      <td>2.340241</td>\n",
       "      <td>18.470319</td>\n",
       "    </tr>\n",
       "    <tr>\n",
       "      <th>min</th>\n",
       "      <td>375.745100</td>\n",
       "      <td>386.485400</td>\n",
       "      <td>383.682400</td>\n",
       "      <td>331.638800</td>\n",
       "      <td>509.993900</td>\n",
       "      <td>396.683600</td>\n",
       "    </tr>\n",
       "    <tr>\n",
       "      <th>25%</th>\n",
       "      <td>378.409675</td>\n",
       "      <td>417.611200</td>\n",
       "      <td>460.774900</td>\n",
       "      <td>415.709900</td>\n",
       "      <td>510.821300</td>\n",
       "      <td>408.205450</td>\n",
       "    </tr>\n",
       "    <tr>\n",
       "      <th>50%</th>\n",
       "      <td>381.074250</td>\n",
       "      <td>456.483600</td>\n",
       "      <td>490.225000</td>\n",
       "      <td>419.608000</td>\n",
       "      <td>511.648700</td>\n",
       "      <td>424.590500</td>\n",
       "    </tr>\n",
       "    <tr>\n",
       "      <th>75%</th>\n",
       "      <td>383.738825</td>\n",
       "      <td>523.277400</td>\n",
       "      <td>501.936900</td>\n",
       "      <td>496.242400</td>\n",
       "      <td>512.476100</td>\n",
       "      <td>433.794600</td>\n",
       "    </tr>\n",
       "    <tr>\n",
       "      <th>max</th>\n",
       "      <td>386.403400</td>\n",
       "      <td>555.574700</td>\n",
       "      <td>534.193700</td>\n",
       "      <td>527.704700</td>\n",
       "      <td>513.303500</td>\n",
       "      <td>446.956100</td>\n",
       "    </tr>\n",
       "  </tbody>\n",
       "</table>\n",
       "</div>"
      ],
      "text/plain": [
       "Continent_Code                        AF          AS          EU          NA  \\\n",
       "internet_users_per_100 count    2.000000   17.000000   37.000000    5.000000   \n",
       "                       mean    43.359918   68.455613   77.274888   66.886792   \n",
       "                       std      7.297226   21.086060   12.425773   14.364359   \n",
       "                       min     38.200000   21.976068   53.744979   54.215766   \n",
       "                       25%     40.779959   50.300000   68.632900   57.431043   \n",
       "                       50%     43.359918   74.000000   76.184000   59.762950   \n",
       "                       75%     45.939877   84.948353   87.479056   74.554202   \n",
       "                       max     48.519836   92.884826   98.200000   88.470000   \n",
       "Math                   count    2.000000   17.000000   37.000000    5.000000   \n",
       "                       mean   363.212100  466.216647  477.981449  424.250960   \n",
       "                       std      5.099513   64.356490   35.150403   71.717058   \n",
       "                       min    359.606200  380.259000  371.311400  327.702000   \n",
       "                       25%    361.409150  403.833200  464.040100  400.253400   \n",
       "                       50%    363.212100  459.816000  489.728700  408.023500   \n",
       "                       75%    365.015050  531.296100  503.722000  469.628500   \n",
       "                       max    366.818000  564.189700  521.250600  515.647400   \n",
       "Reading                count    2.000000   17.000000   37.000000    5.000000   \n",
       "                       mean   355.457400  454.059682  476.164608  446.420920   \n",
       "                       std      7.916909   57.048962   37.720545   66.614744   \n",
       "                       min    349.859300  346.549000  351.741500  357.737700   \n",
       "                       25%    352.658350  408.102200  452.514300  423.276500   \n",
       "                       50%    355.457400  433.542300  487.250100  427.487500   \n",
       "                       75%    358.256450  508.690500  499.814600  496.935100   \n",
       "                       max    361.055500  535.100200  526.424700  526.667800   \n",
       "Science                count    2.000000   17.000000   37.000000    5.000000   \n",
       "                       mean   381.074250  467.945847  478.299381  438.180760   \n",
       "                       std      7.536556   56.671371   34.450616   76.789918   \n",
       "                       min    375.745100  386.485400  383.682400  331.638800   \n",
       "                       25%    378.409675  417.611200  460.774900  415.709900   \n",
       "                       50%    381.074250  456.483600  490.225000  419.608000   \n",
       "                       75%    383.738825  523.277400  501.936900  496.242400   \n",
       "                       max    386.403400  555.574700  534.193700  527.704700   \n",
       "\n",
       "Continent_Code                        OC          SA  \n",
       "internet_users_per_100 count    2.000000    7.000000  \n",
       "                       mean    86.391704   60.180494  \n",
       "                       std      2.589686    9.772455  \n",
       "                       min     84.560519   40.900000  \n",
       "                       25%     85.476112   57.116462  \n",
       "                       50%     86.391704   64.289000  \n",
       "                       75%     87.307296   66.321532  \n",
       "                       max     88.222889   69.198471  \n",
       "Math                   count    2.000000    7.000000  \n",
       "                       mean   494.559750  402.887700  \n",
       "                       std      0.938401   18.128894  \n",
       "                       min    493.896200  377.069500  \n",
       "                       25%    494.227975  388.102200  \n",
       "                       50%    494.559750  409.033300  \n",
       "                       75%    494.891525  417.617650  \n",
       "                       max    495.223300  422.671400  \n",
       "Reading                count    2.000000    7.000000  \n",
       "                       mean   506.085650  425.359229  \n",
       "                       std      4.504341   19.709688  \n",
       "                       min    502.900600  397.541400  \n",
       "                       25%    504.493125  416.126900  \n",
       "                       50%    506.085650  425.303100  \n",
       "                       75%    507.678175  431.922700  \n",
       "                       max    509.270700  458.570900  \n",
       "Science                count    2.000000    7.000000  \n",
       "                       mean   511.648700  421.747186  \n",
       "                       std      2.340241   18.470319  \n",
       "                       min    509.993900  396.683600  \n",
       "                       25%    510.821300  408.205450  \n",
       "                       50%    511.648700  424.590500  \n",
       "                       75%    512.476100  433.794600  \n",
       "                       max    513.303500  446.956100  "
      ]
     },
     "execution_count": 49,
     "metadata": {},
     "output_type": "execute_result"
    }
   ],
   "source": [
    "# Descriptive statistics according to Continent\n",
    "\n",
    "df1.groupby(\"Continent_Code\", dropna=False).describe().T"
   ]
  },
  {
   "cell_type": "markdown",
   "id": "eb458a08",
   "metadata": {},
   "source": [
    "### Assumptions\n",
    "\n",
    "equal variance\n",
    "\n",
    "normal distribution\n",
    "\n",
    "H0 : differences of math scores between European (EU) and Asian (AS) countries are zero\n",
    "\n",
    "H1 : differences of math scores between European (EU) and Asian (AS) countries are not zero\n",
    "\n",
    "alpha : 0.05"
   ]
  },
  {
   "cell_type": "code",
   "execution_count": 87,
   "id": "6851a099",
   "metadata": {},
   "outputs": [
    {
     "name": "stdout",
     "output_type": "stream",
     "text": [
      "statistic= 0.870055317967983, pvalue= 0.38826888111307345\n"
     ]
    }
   ],
   "source": [
    "statistic, pvalue = stats.ttest_ind(df1[df1.Continent_Code == \"EU\"].Math, df1[df1.Continent_Code == \"AS\"].Math, equal_var=True, alternative=\"two-sided\")\n",
    "\n",
    "print(f\"statistic= {statistic}, pvalue= {pvalue}\")"
   ]
  },
  {
   "cell_type": "markdown",
   "id": "79db2a06",
   "metadata": {},
   "source": [
    "### Conclusion :\n",
    "\n",
    "As pvalue is greater than alpha we fail reject the null hypothesis. It means that there isn't significant differences of math scores between European (EU) and Asian (AS) countries."
   ]
  },
  {
   "cell_type": "code",
   "execution_count": 62,
   "id": "a1805f7d",
   "metadata": {},
   "outputs": [],
   "source": [
    "# Extracting necessary parts of df1 to draw boxplot for math scores of EU and AS countries\n",
    "\n",
    "df2 = df1[(df1.Continent_Code == \"EU\") | (df1.Continent_Code == \"AS\")][[\"Continent_Code\",\"Math\"]]"
   ]
  },
  {
   "cell_type": "code",
   "execution_count": 88,
   "id": "d1cc6dc8",
   "metadata": {
    "scrolled": true
   },
   "outputs": [
    {
     "data": {
      "text/plain": [
       "<AxesSubplot:xlabel='Continent_Code', ylabel='Math'>"
      ]
     },
     "execution_count": 88,
     "metadata": {},
     "output_type": "execute_result"
    },
    {
     "data": {
      "image/png": "[encoded data removed]",
      "text/plain": [
       "<Figure size 432x288 with 1 Axes>"
      ]
     },
     "metadata": {
      "needs_background": "light"
     },
     "output_type": "display_data"
    }
   ],
   "source": [
    "# Boxplots\n",
    "sns.boxplot(data= df2, y= df2.Math, x=\"Continent_Code\")"
   ]
  },
  {
   "cell_type": "code",
   "execution_count": null,
   "id": "71312a55",
   "metadata": {},
   "outputs": [],
   "source": []
  },
  {
   "cell_type": "markdown",
   "id": "be3f3ce3",
   "metadata": {},
   "source": [
    "## EXERCISE 4.  \n",
    "\n",
    "A gym operator organized a 2-month exercise and diet program for 15 customers suffering from their excess weight. To evaluate whether this diet program was effective, he measured the customers' starting and ending weights and recorded them in the computer. Did the exercise and diet program have an impact on customers' weight loss? Use an α = .01 level test.  Weight Dataset\n",
    "\n",
    "CHECK: statistic=2.67808348404993, pvalue=0.00900646517506627"
   ]
  },
  {
   "cell_type": "code",
   "execution_count": 67,
   "id": "999f2a41",
   "metadata": {},
   "outputs": [],
   "source": [
    "df3 = pd.read_csv(\"weight.csv\")"
   ]
  },
  {
   "cell_type": "code",
   "execution_count": 68,
   "id": "76153af2",
   "metadata": {
    "scrolled": false
   },
   "outputs": [
    {
     "data": {
      "text/html": [
       "<div>\n",
       "<style scoped>\n",
       "    .dataframe tbody tr th:only-of-type {\n",
       "        vertical-align: middle;\n",
       "    }\n",
       "\n",
       "    .dataframe tbody tr th {\n",
       "        vertical-align: top;\n",
       "    }\n",
       "\n",
       "    .dataframe thead th {\n",
       "        text-align: right;\n",
       "    }\n",
       "</style>\n",
       "<table border=\"1\" class=\"dataframe\">\n",
       "  <thead>\n",
       "    <tr style=\"text-align: right;\">\n",
       "      <th></th>\n",
       "      <th>ID</th>\n",
       "      <th>starting</th>\n",
       "      <th>ending</th>\n",
       "    </tr>\n",
       "  </thead>\n",
       "  <tbody>\n",
       "    <tr>\n",
       "      <th>0</th>\n",
       "      <td>1</td>\n",
       "      <td>76</td>\n",
       "      <td>72</td>\n",
       "    </tr>\n",
       "    <tr>\n",
       "      <th>1</th>\n",
       "      <td>2</td>\n",
       "      <td>81</td>\n",
       "      <td>82</td>\n",
       "    </tr>\n",
       "    <tr>\n",
       "      <th>2</th>\n",
       "      <td>3</td>\n",
       "      <td>86</td>\n",
       "      <td>84</td>\n",
       "    </tr>\n",
       "    <tr>\n",
       "      <th>3</th>\n",
       "      <td>4</td>\n",
       "      <td>71</td>\n",
       "      <td>71</td>\n",
       "    </tr>\n",
       "    <tr>\n",
       "      <th>4</th>\n",
       "      <td>5</td>\n",
       "      <td>88</td>\n",
       "      <td>83</td>\n",
       "    </tr>\n",
       "    <tr>\n",
       "      <th>5</th>\n",
       "      <td>6</td>\n",
       "      <td>78</td>\n",
       "      <td>74</td>\n",
       "    </tr>\n",
       "    <tr>\n",
       "      <th>6</th>\n",
       "      <td>7</td>\n",
       "      <td>76</td>\n",
       "      <td>70</td>\n",
       "    </tr>\n",
       "    <tr>\n",
       "      <th>7</th>\n",
       "      <td>8</td>\n",
       "      <td>81</td>\n",
       "      <td>80</td>\n",
       "    </tr>\n",
       "    <tr>\n",
       "      <th>8</th>\n",
       "      <td>9</td>\n",
       "      <td>79</td>\n",
       "      <td>78</td>\n",
       "    </tr>\n",
       "    <tr>\n",
       "      <th>9</th>\n",
       "      <td>10</td>\n",
       "      <td>77</td>\n",
       "      <td>79</td>\n",
       "    </tr>\n",
       "    <tr>\n",
       "      <th>10</th>\n",
       "      <td>11</td>\n",
       "      <td>83</td>\n",
       "      <td>80</td>\n",
       "    </tr>\n",
       "    <tr>\n",
       "      <th>11</th>\n",
       "      <td>12</td>\n",
       "      <td>77</td>\n",
       "      <td>76</td>\n",
       "    </tr>\n",
       "    <tr>\n",
       "      <th>12</th>\n",
       "      <td>13</td>\n",
       "      <td>79</td>\n",
       "      <td>77</td>\n",
       "    </tr>\n",
       "    <tr>\n",
       "      <th>13</th>\n",
       "      <td>14</td>\n",
       "      <td>81</td>\n",
       "      <td>83</td>\n",
       "    </tr>\n",
       "    <tr>\n",
       "      <th>14</th>\n",
       "      <td>15</td>\n",
       "      <td>83</td>\n",
       "      <td>82</td>\n",
       "    </tr>\n",
       "  </tbody>\n",
       "</table>\n",
       "</div>"
      ],
      "text/plain": [
       "    ID  starting  ending\n",
       "0    1        76      72\n",
       "1    2        81      82\n",
       "2    3        86      84\n",
       "3    4        71      71\n",
       "4    5        88      83\n",
       "5    6        78      74\n",
       "6    7        76      70\n",
       "7    8        81      80\n",
       "8    9        79      78\n",
       "9   10        77      79\n",
       "10  11        83      80\n",
       "11  12        77      76\n",
       "12  13        79      77\n",
       "13  14        81      83\n",
       "14  15        83      82"
      ]
     },
     "execution_count": 68,
     "metadata": {},
     "output_type": "execute_result"
    }
   ],
   "source": [
    "df3"
   ]
  },
  {
   "cell_type": "markdown",
   "id": "e8e93fd2",
   "metadata": {},
   "source": [
    "### We will use dependent sample t test\n",
    "\n",
    "H0 : differences between means of starting and ending weights = 0 (exercise and diet have no effect)\n",
    "\n",
    "H1 : differences between means of starting and ending weights < 0 (exercise and diet have positive effect)\n",
    "\n",
    "alpha= 0.01"
   ]
  },
  {
   "cell_type": "code",
   "execution_count": 89,
   "id": "cdfd0562",
   "metadata": {},
   "outputs": [
    {
     "name": "stdout",
     "output_type": "stream",
     "text": [
      "statistic= -2.6780834840499255, pvalue= 0.00900646517506626\n"
     ]
    }
   ],
   "source": [
    "statistic, pvalue = stats.ttest_rel(df3.ending , df3.starting, alternative=\"less\")\n",
    "\n",
    "print(f\"statistic= {statistic}, pvalue= {pvalue}\")"
   ]
  },
  {
   "cell_type": "markdown",
   "id": "efe5ec10",
   "metadata": {},
   "source": [
    "### Conclusion :\n",
    "\n",
    "As pvalue is less than alpha we can reject the null hypothesis. It means that there is significant effect of exercise and diet."
   ]
  },
  {
   "cell_type": "code",
   "execution_count": null,
   "id": "57ca8bec",
   "metadata": {},
   "outputs": [],
   "source": []
  }
 ],
 "metadata": {
  "kernelspec": {
   "display_name": "Python 3 (ipykernel)",
   "language": "python",
   "name": "python3"
  },
  "language_info": {
   "codemirror_mode": {
    "name": "ipython",
    "version": 3
   },
   "file_extension": ".py",
   "mimetype": "text/x-python",
   "name": "python",
   "nbconvert_exporter": "python",
   "pygments_lexer": "ipython3",
   "version": "3.9.7"
  }
 },
 "nbformat": 4,
 "nbformat_minor": 5
}
